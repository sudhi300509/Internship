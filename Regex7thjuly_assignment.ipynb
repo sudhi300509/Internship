{
 "cells": [
  {
   "cell_type": "markdown",
   "id": "6e9fce9f-fbf9-45b1-8b6a-80c71685977e",
   "metadata": {},
   "source": [
    "1. Write a Python program to replace all occurrences of a space, comma, or dot with a colon."
   ]
  },
  {
   "cell_type": "code",
   "execution_count": 1,
   "id": "976a0742-9a38-4bbb-ace8-4d5a69cdefce",
   "metadata": {},
   "outputs": [
    {
     "name": "stdout",
     "output_type": "stream",
     "text": [
      "Python:Exercises::PHP:Exercises:\n"
     ]
    }
   ],
   "source": [
    "import re\n",
    "str1= \"Python Exercises, PHP Exercises.\"\n",
    "result= (re.sub(\"[ ,.]\",\":\",str1))\n",
    "print(result)"
   ]
  },
  {
   "cell_type": "markdown",
   "id": "11da3560-634f-4d7a-a17f-519c131f6cff",
   "metadata": {},
   "source": [
    "2. Create a dataframe using the dictionary below and remove everything (commas (,), !, XXXX, ;, etc.) from the columns except words."
   ]
  },
  {
   "cell_type": "code",
   "execution_count": 29,
   "id": "bbbd3130-9465-493b-9281-ebcd0c206062",
   "metadata": {},
   "outputs": [
    {
     "name": "stdout",
     "output_type": "stream",
     "text": [
      "         SUMMARY\n",
      "0    hello world\n",
      "1           test\n",
      "2  four five six\n"
     ]
    }
   ],
   "source": [
    "import pandas as pd\n",
    "\n",
    "dict={'SUMMARY':['hello, world!','XXXX test','123four, five:; six...']}\n",
    "df=pd.DataFrame(dict)\n",
    "df['SUMMARY']=df['SUMMARY'].str.replace(r\"[,.X:;!\\d+]\",'',regex=True)\n",
    "print(df)"
   ]
  },
  {
   "cell_type": "markdown",
   "id": "ad6a7c0d-ea5f-4be8-b36e-c4463b4b63a4",
   "metadata": {},
   "source": [
    "3. Create a function in python to find all words that are at least 4 characters long in a string. The use of the re.compile() method is mandatory."
   ]
  },
  {
   "cell_type": "code",
   "execution_count": 38,
   "id": "fd845584-dee4-416a-ad8b-0a9e62b07460",
   "metadata": {},
   "outputs": [
    {
     "name": "stdout",
     "output_type": "stream",
     "text": [
      "['Python', 'case', 'sensitive', 'language']\n"
     ]
    }
   ],
   "source": [
    "text=\"Python is a case sensitive language.\"\n",
    "str_pattern=r\"\\w{4,}\"\n",
    "regex=re.compile(str_pattern)\n",
    "result=regex.findall(text)\n",
    "print(result)"
   ]
  },
  {
   "cell_type": "code",
   "execution_count": 40,
   "id": "6767c18d-cf13-4300-9a18-f56e2ce6d0f4",
   "metadata": {},
   "outputs": [
    {
     "name": "stdout",
     "output_type": "stream",
     "text": [
      "['Python', 'case', 'sensitive', 'language', 'love', 'learning', 'Python', 'very', 'helpful', 'Machine', 'Learning']\n"
     ]
    }
   ],
   "source": [
    "text=\"Python is a case sensitive language. I love learning Python and it is very helpful in Machine Learning.\"\n",
    "str_pattern=r\"\\w{4,}\"\n",
    "regex=re.compile(str_pattern)\n",
    "result=regex.findall(text)\n",
    "print(result)"
   ]
  },
  {
   "cell_type": "markdown",
   "id": "9f779aa8-90fe-492e-a8ce-372077f36db3",
   "metadata": {},
   "source": [
    "4. Create a function in python to find all three, four, and five character words in a string. The use of the re.compile() method is mandatory."
   ]
  },
  {
   "cell_type": "code",
   "execution_count": 41,
   "id": "126aa8e4-5dd8-4b64-a19a-ea2e3d46275b",
   "metadata": {},
   "outputs": [
    {
     "name": "stdout",
     "output_type": "stream",
     "text": [
      "['Ram', 'has', 'three', 'they', 'all', 'play']\n"
     ]
    }
   ],
   "source": [
    "str=\"Ram has three friends,they all play football.\"\n",
    "pattern=r\"\\b\\w{3,5}\\b\"\n",
    "regex_pattern=re.compile(pattern)\n",
    "result=regex_pattern.findall(str)\n",
    "print(result)"
   ]
  },
  {
   "cell_type": "markdown",
   "id": "be6a47ef-0bb0-4491-995f-aa282ef5ea5b",
   "metadata": {},
   "source": [
    "5. Create a function in Python to remove the parenthesis in a list of strings. The use of the re.compile() method is mandatory."
   ]
  },
  {
   "cell_type": "code",
   "execution_count": 148,
   "id": "31931815-1763-40b1-9128-2b7ec98ad478",
   "metadata": {},
   "outputs": [
    {
     "name": "stdout",
     "output_type": "stream",
     "text": [
      "example .com\n",
      "hr@fliprobo .com\n",
      "github .com\n",
      "Hello Data Science World\n",
      "Data Scientist\n"
     ]
    }
   ],
   "source": [
    "def r_para(strings):\n",
    "    pattern = re.compile(r\"[()]\")\n",
    "    for i in strings:\n",
    "        new_strings=re.sub(pattern,'',i)\n",
    "        print(new_strings)\n",
    "    return new_strings\n",
    "\n",
    "strings=[\"example (.com)\", \"hr@fliprobo (.com)\", \"github (.com)\", \"Hello (Data Science World)\", \"Data (Scientist)\"]\n",
    "new_strings=r_para(strings)\n",
    "\n",
    "\n",
    "    \n",
    "  "
   ]
  },
  {
   "cell_type": "markdown",
   "id": "1241530d-2f7f-4ae7-a01c-81d99cb7e934",
   "metadata": {},
   "source": [
    "6. Write a python program to remove the parenthesis area from the text stored in the text file using Regular Expression."
   ]
  },
  {
   "cell_type": "code",
   "execution_count": 150,
   "id": "7dad883e-23a6-441c-8f19-d66f7acbdf2d",
   "metadata": {},
   "outputs": [],
   "source": [
    "with open('sample_text.txt','r') as file:\n",
    "    text=file.read()# reading the text file"
   ]
  },
  {
   "cell_type": "code",
   "execution_count": 153,
   "id": "673e007f-42d0-41c3-a876-2986e07022ae",
   "metadata": {},
   "outputs": [],
   "source": [
    "new_text=re.sub(r'\\([^()]*\\)','',text)"
   ]
  },
  {
   "cell_type": "code",
   "execution_count": 157,
   "id": "23f89230-bf6a-4dfe-9cb6-ff878736a7d9",
   "metadata": {},
   "outputs": [],
   "source": [
    "with open('sample_text.txt','w') as file:\n",
    "    file.write(new_text)#storing the new file"
   ]
  },
  {
   "cell_type": "code",
   "execution_count": 158,
   "id": "e7b7dcff-7626-483a-ab6f-0b8db75460fd",
   "metadata": {},
   "outputs": [
    {
     "name": "stdout",
     "output_type": "stream",
     "text": [
      "[\"example \", \"hr@fliprobo \", \"github \", \"Hello \", \"Data \"]\n"
     ]
    }
   ],
   "source": [
    "print(new_text)"
   ]
  },
  {
   "cell_type": "markdown",
   "id": "0c6702d3-4b32-46e8-a416-11ad2df34f44",
   "metadata": {},
   "source": [
    "7. Write a regular expression in Python to split a string into uppercase letters"
   ]
  },
  {
   "cell_type": "code",
   "execution_count": 161,
   "id": "49a5ddda-aae5-4d71-93c8-6af0f38f4ea9",
   "metadata": {},
   "outputs": [
    {
     "name": "stdout",
     "output_type": "stream",
     "text": [
      "['Importance', 'Of', 'Regular', 'Expressions', 'In', 'Python']\n"
     ]
    }
   ],
   "source": [
    "Sample_Text=\"ImportanceOfRegularExpressionsInPython\"\n",
    "pattern=r\"([A-Z][^A-Z]*)\"\n",
    "result=re.findall(pattern,Sample_Text)\n",
    "print(result)"
   ]
  },
  {
   "cell_type": "markdown",
   "id": "b57f333d-10dc-40bf-aa89-cad5b16c350f",
   "metadata": {},
   "source": [
    "8. Create a function in python to insert spaces between words starting with numbers."
   ]
  },
  {
   "cell_type": "code",
   "execution_count": 171,
   "id": "7a1f0188-e4d8-4a8d-b246-eeb44d22d0ac",
   "metadata": {},
   "outputs": [
    {
     "name": "stdout",
     "output_type": "stream",
     "text": [
      "RegularExpression 1IsAn 2ImportantTopic 3InPython\n"
     ]
    }
   ],
   "source": [
    "def spaces(sampletext):\n",
    "    pattern=r\"(\\d+)([a-zA-Z]+)\"\n",
    "    result=re.sub(pattern,r' \\1\\2',sampletext)\n",
    "    return result\n",
    "\n",
    "sampletext=\"RegularExpression1IsAn2ImportantTopic3InPython\"\n",
    "result=spaces(sampletext)\n",
    "print(result)"
   ]
  },
  {
   "cell_type": "markdown",
   "id": "5a6c9c57-16fd-42b9-a649-a736c3cd2d7b",
   "metadata": {},
   "source": [
    "9. Create a function in python to insert spaces between words starting with capital letters or with numbers."
   ]
  },
  {
   "cell_type": "code",
   "execution_count": 172,
   "id": "b2627955-0738-42ef-b724-b5476340580d",
   "metadata": {},
   "outputs": [
    {
     "name": "stdout",
     "output_type": "stream",
     "text": [
      "RegularExpression 1 IsAn 2 ImportantTopic 3 InPython\n"
     ]
    }
   ],
   "source": [
    "def spaces(sampletext):\n",
    "    pattern=r\"(\\d+)([a-zA-Z]+)\"\n",
    "    result=re.sub(pattern,r' \\1 \\2',sampletext)\n",
    "    return result\n",
    "\n",
    "sampletext=\"RegularExpression1IsAn2ImportantTopic3InPython\"\n",
    "result=spaces(sampletext)\n",
    "print(result)"
   ]
  },
  {
   "cell_type": "markdown",
   "id": "181c14d3-ccd5-4624-92b5-08ec5a246920",
   "metadata": {},
   "source": [
    "10. Use the github link below to read the data and create a dataframe. After creating the dataframe extract the first 6 letters of each country and store in the dataframe under a new column called first_five_letters."
   ]
  },
  {
   "cell_type": "code",
   "execution_count": 173,
   "id": "c8cfb6db-0895-4afa-b269-834731bdeb65",
   "metadata": {},
   "outputs": [],
   "source": [
    "import pandas as pd"
   ]
  },
  {
   "cell_type": "code",
   "execution_count": 174,
   "id": "89ba843a-9119-4f52-9a24-803181aabe2e",
   "metadata": {},
   "outputs": [
    {
     "data": {
      "text/html": [
       "<div>\n",
       "<style scoped>\n",
       "    .dataframe tbody tr th:only-of-type {\n",
       "        vertical-align: middle;\n",
       "    }\n",
       "\n",
       "    .dataframe tbody tr th {\n",
       "        vertical-align: top;\n",
       "    }\n",
       "\n",
       "    .dataframe thead th {\n",
       "        text-align: right;\n",
       "    }\n",
       "</style>\n",
       "<table border=\"1\" class=\"dataframe\">\n",
       "  <thead>\n",
       "    <tr style=\"text-align: right;\">\n",
       "      <th></th>\n",
       "      <th>Country</th>\n",
       "      <th>Region</th>\n",
       "      <th>Happiness Rank</th>\n",
       "      <th>Happiness Score</th>\n",
       "      <th>Standard Error</th>\n",
       "      <th>Economy (GDP per Capita)</th>\n",
       "      <th>Family</th>\n",
       "      <th>Health (Life Expectancy)</th>\n",
       "      <th>Freedom</th>\n",
       "      <th>Trust (Government Corruption)</th>\n",
       "      <th>Generosity</th>\n",
       "      <th>Dystopia Residual</th>\n",
       "    </tr>\n",
       "  </thead>\n",
       "  <tbody>\n",
       "    <tr>\n",
       "      <th>0</th>\n",
       "      <td>Switzerland</td>\n",
       "      <td>Western Europe</td>\n",
       "      <td>1</td>\n",
       "      <td>7.587</td>\n",
       "      <td>0.03411</td>\n",
       "      <td>1.39651</td>\n",
       "      <td>1.34951</td>\n",
       "      <td>0.94143</td>\n",
       "      <td>0.66557</td>\n",
       "      <td>0.41978</td>\n",
       "      <td>0.29678</td>\n",
       "      <td>2.51738</td>\n",
       "    </tr>\n",
       "    <tr>\n",
       "      <th>1</th>\n",
       "      <td>Iceland</td>\n",
       "      <td>Western Europe</td>\n",
       "      <td>2</td>\n",
       "      <td>7.561</td>\n",
       "      <td>0.04884</td>\n",
       "      <td>1.30232</td>\n",
       "      <td>1.40223</td>\n",
       "      <td>0.94784</td>\n",
       "      <td>0.62877</td>\n",
       "      <td>0.14145</td>\n",
       "      <td>0.43630</td>\n",
       "      <td>2.70201</td>\n",
       "    </tr>\n",
       "    <tr>\n",
       "      <th>2</th>\n",
       "      <td>Denmark</td>\n",
       "      <td>Western Europe</td>\n",
       "      <td>3</td>\n",
       "      <td>7.527</td>\n",
       "      <td>0.03328</td>\n",
       "      <td>1.32548</td>\n",
       "      <td>1.36058</td>\n",
       "      <td>0.87464</td>\n",
       "      <td>0.64938</td>\n",
       "      <td>0.48357</td>\n",
       "      <td>0.34139</td>\n",
       "      <td>2.49204</td>\n",
       "    </tr>\n",
       "    <tr>\n",
       "      <th>3</th>\n",
       "      <td>Norway</td>\n",
       "      <td>Western Europe</td>\n",
       "      <td>4</td>\n",
       "      <td>7.522</td>\n",
       "      <td>0.03880</td>\n",
       "      <td>1.45900</td>\n",
       "      <td>1.33095</td>\n",
       "      <td>0.88521</td>\n",
       "      <td>0.66973</td>\n",
       "      <td>0.36503</td>\n",
       "      <td>0.34699</td>\n",
       "      <td>2.46531</td>\n",
       "    </tr>\n",
       "    <tr>\n",
       "      <th>4</th>\n",
       "      <td>Canada</td>\n",
       "      <td>North America</td>\n",
       "      <td>5</td>\n",
       "      <td>7.427</td>\n",
       "      <td>0.03553</td>\n",
       "      <td>1.32629</td>\n",
       "      <td>1.32261</td>\n",
       "      <td>0.90563</td>\n",
       "      <td>0.63297</td>\n",
       "      <td>0.32957</td>\n",
       "      <td>0.45811</td>\n",
       "      <td>2.45176</td>\n",
       "    </tr>\n",
       "    <tr>\n",
       "      <th>...</th>\n",
       "      <td>...</td>\n",
       "      <td>...</td>\n",
       "      <td>...</td>\n",
       "      <td>...</td>\n",
       "      <td>...</td>\n",
       "      <td>...</td>\n",
       "      <td>...</td>\n",
       "      <td>...</td>\n",
       "      <td>...</td>\n",
       "      <td>...</td>\n",
       "      <td>...</td>\n",
       "      <td>...</td>\n",
       "    </tr>\n",
       "    <tr>\n",
       "      <th>153</th>\n",
       "      <td>Rwanda</td>\n",
       "      <td>Sub-Saharan Africa</td>\n",
       "      <td>154</td>\n",
       "      <td>3.465</td>\n",
       "      <td>0.03464</td>\n",
       "      <td>0.22208</td>\n",
       "      <td>0.77370</td>\n",
       "      <td>0.42864</td>\n",
       "      <td>0.59201</td>\n",
       "      <td>0.55191</td>\n",
       "      <td>0.22628</td>\n",
       "      <td>0.67042</td>\n",
       "    </tr>\n",
       "    <tr>\n",
       "      <th>154</th>\n",
       "      <td>Benin</td>\n",
       "      <td>Sub-Saharan Africa</td>\n",
       "      <td>155</td>\n",
       "      <td>3.340</td>\n",
       "      <td>0.03656</td>\n",
       "      <td>0.28665</td>\n",
       "      <td>0.35386</td>\n",
       "      <td>0.31910</td>\n",
       "      <td>0.48450</td>\n",
       "      <td>0.08010</td>\n",
       "      <td>0.18260</td>\n",
       "      <td>1.63328</td>\n",
       "    </tr>\n",
       "    <tr>\n",
       "      <th>155</th>\n",
       "      <td>Syria</td>\n",
       "      <td>Middle East and Northern Africa</td>\n",
       "      <td>156</td>\n",
       "      <td>3.006</td>\n",
       "      <td>0.05015</td>\n",
       "      <td>0.66320</td>\n",
       "      <td>0.47489</td>\n",
       "      <td>0.72193</td>\n",
       "      <td>0.15684</td>\n",
       "      <td>0.18906</td>\n",
       "      <td>0.47179</td>\n",
       "      <td>0.32858</td>\n",
       "    </tr>\n",
       "    <tr>\n",
       "      <th>156</th>\n",
       "      <td>Burundi</td>\n",
       "      <td>Sub-Saharan Africa</td>\n",
       "      <td>157</td>\n",
       "      <td>2.905</td>\n",
       "      <td>0.08658</td>\n",
       "      <td>0.01530</td>\n",
       "      <td>0.41587</td>\n",
       "      <td>0.22396</td>\n",
       "      <td>0.11850</td>\n",
       "      <td>0.10062</td>\n",
       "      <td>0.19727</td>\n",
       "      <td>1.83302</td>\n",
       "    </tr>\n",
       "    <tr>\n",
       "      <th>157</th>\n",
       "      <td>Togo</td>\n",
       "      <td>Sub-Saharan Africa</td>\n",
       "      <td>158</td>\n",
       "      <td>2.839</td>\n",
       "      <td>0.06727</td>\n",
       "      <td>0.20868</td>\n",
       "      <td>0.13995</td>\n",
       "      <td>0.28443</td>\n",
       "      <td>0.36453</td>\n",
       "      <td>0.10731</td>\n",
       "      <td>0.16681</td>\n",
       "      <td>1.56726</td>\n",
       "    </tr>\n",
       "  </tbody>\n",
       "</table>\n",
       "<p>158 rows × 12 columns</p>\n",
       "</div>"
      ],
      "text/plain": [
       "         Country                           Region  Happiness Rank  \\\n",
       "0    Switzerland                   Western Europe               1   \n",
       "1        Iceland                   Western Europe               2   \n",
       "2        Denmark                   Western Europe               3   \n",
       "3         Norway                   Western Europe               4   \n",
       "4         Canada                    North America               5   \n",
       "..           ...                              ...             ...   \n",
       "153       Rwanda               Sub-Saharan Africa             154   \n",
       "154        Benin               Sub-Saharan Africa             155   \n",
       "155        Syria  Middle East and Northern Africa             156   \n",
       "156      Burundi               Sub-Saharan Africa             157   \n",
       "157         Togo               Sub-Saharan Africa             158   \n",
       "\n",
       "     Happiness Score  Standard Error  Economy (GDP per Capita)   Family  \\\n",
       "0              7.587         0.03411                   1.39651  1.34951   \n",
       "1              7.561         0.04884                   1.30232  1.40223   \n",
       "2              7.527         0.03328                   1.32548  1.36058   \n",
       "3              7.522         0.03880                   1.45900  1.33095   \n",
       "4              7.427         0.03553                   1.32629  1.32261   \n",
       "..               ...             ...                       ...      ...   \n",
       "153            3.465         0.03464                   0.22208  0.77370   \n",
       "154            3.340         0.03656                   0.28665  0.35386   \n",
       "155            3.006         0.05015                   0.66320  0.47489   \n",
       "156            2.905         0.08658                   0.01530  0.41587   \n",
       "157            2.839         0.06727                   0.20868  0.13995   \n",
       "\n",
       "     Health (Life Expectancy)  Freedom  Trust (Government Corruption)  \\\n",
       "0                     0.94143  0.66557                        0.41978   \n",
       "1                     0.94784  0.62877                        0.14145   \n",
       "2                     0.87464  0.64938                        0.48357   \n",
       "3                     0.88521  0.66973                        0.36503   \n",
       "4                     0.90563  0.63297                        0.32957   \n",
       "..                        ...      ...                            ...   \n",
       "153                   0.42864  0.59201                        0.55191   \n",
       "154                   0.31910  0.48450                        0.08010   \n",
       "155                   0.72193  0.15684                        0.18906   \n",
       "156                   0.22396  0.11850                        0.10062   \n",
       "157                   0.28443  0.36453                        0.10731   \n",
       "\n",
       "     Generosity  Dystopia Residual  \n",
       "0       0.29678            2.51738  \n",
       "1       0.43630            2.70201  \n",
       "2       0.34139            2.49204  \n",
       "3       0.34699            2.46531  \n",
       "4       0.45811            2.45176  \n",
       "..          ...                ...  \n",
       "153     0.22628            0.67042  \n",
       "154     0.18260            1.63328  \n",
       "155     0.47179            0.32858  \n",
       "156     0.19727            1.83302  \n",
       "157     0.16681            1.56726  \n",
       "\n",
       "[158 rows x 12 columns]"
      ]
     },
     "execution_count": 174,
     "metadata": {},
     "output_type": "execute_result"
    }
   ],
   "source": [
    "data=pd.read_csv('COUNTRY.csv')\n",
    "data"
   ]
  },
  {
   "cell_type": "code",
   "execution_count": 175,
   "id": "7cb42859-7916-474a-824f-825881ba344f",
   "metadata": {},
   "outputs": [
    {
     "data": {
      "text/html": [
       "<div>\n",
       "<style scoped>\n",
       "    .dataframe tbody tr th:only-of-type {\n",
       "        vertical-align: middle;\n",
       "    }\n",
       "\n",
       "    .dataframe tbody tr th {\n",
       "        vertical-align: top;\n",
       "    }\n",
       "\n",
       "    .dataframe thead th {\n",
       "        text-align: right;\n",
       "    }\n",
       "</style>\n",
       "<table border=\"1\" class=\"dataframe\">\n",
       "  <thead>\n",
       "    <tr style=\"text-align: right;\">\n",
       "      <th></th>\n",
       "      <th>Country</th>\n",
       "      <th>Region</th>\n",
       "      <th>Happiness Rank</th>\n",
       "      <th>Happiness Score</th>\n",
       "      <th>Standard Error</th>\n",
       "      <th>Economy (GDP per Capita)</th>\n",
       "      <th>Family</th>\n",
       "      <th>Health (Life Expectancy)</th>\n",
       "      <th>Freedom</th>\n",
       "      <th>Trust (Government Corruption)</th>\n",
       "      <th>Generosity</th>\n",
       "      <th>Dystopia Residual</th>\n",
       "    </tr>\n",
       "  </thead>\n",
       "  <tbody>\n",
       "    <tr>\n",
       "      <th>0</th>\n",
       "      <td>Switzerland</td>\n",
       "      <td>Western Europe</td>\n",
       "      <td>1</td>\n",
       "      <td>7.587</td>\n",
       "      <td>0.03411</td>\n",
       "      <td>1.39651</td>\n",
       "      <td>1.34951</td>\n",
       "      <td>0.94143</td>\n",
       "      <td>0.66557</td>\n",
       "      <td>0.41978</td>\n",
       "      <td>0.29678</td>\n",
       "      <td>2.51738</td>\n",
       "    </tr>\n",
       "    <tr>\n",
       "      <th>1</th>\n",
       "      <td>Iceland</td>\n",
       "      <td>Western Europe</td>\n",
       "      <td>2</td>\n",
       "      <td>7.561</td>\n",
       "      <td>0.04884</td>\n",
       "      <td>1.30232</td>\n",
       "      <td>1.40223</td>\n",
       "      <td>0.94784</td>\n",
       "      <td>0.62877</td>\n",
       "      <td>0.14145</td>\n",
       "      <td>0.43630</td>\n",
       "      <td>2.70201</td>\n",
       "    </tr>\n",
       "    <tr>\n",
       "      <th>2</th>\n",
       "      <td>Denmark</td>\n",
       "      <td>Western Europe</td>\n",
       "      <td>3</td>\n",
       "      <td>7.527</td>\n",
       "      <td>0.03328</td>\n",
       "      <td>1.32548</td>\n",
       "      <td>1.36058</td>\n",
       "      <td>0.87464</td>\n",
       "      <td>0.64938</td>\n",
       "      <td>0.48357</td>\n",
       "      <td>0.34139</td>\n",
       "      <td>2.49204</td>\n",
       "    </tr>\n",
       "    <tr>\n",
       "      <th>3</th>\n",
       "      <td>Norway</td>\n",
       "      <td>Western Europe</td>\n",
       "      <td>4</td>\n",
       "      <td>7.522</td>\n",
       "      <td>0.03880</td>\n",
       "      <td>1.45900</td>\n",
       "      <td>1.33095</td>\n",
       "      <td>0.88521</td>\n",
       "      <td>0.66973</td>\n",
       "      <td>0.36503</td>\n",
       "      <td>0.34699</td>\n",
       "      <td>2.46531</td>\n",
       "    </tr>\n",
       "    <tr>\n",
       "      <th>4</th>\n",
       "      <td>Canada</td>\n",
       "      <td>North America</td>\n",
       "      <td>5</td>\n",
       "      <td>7.427</td>\n",
       "      <td>0.03553</td>\n",
       "      <td>1.32629</td>\n",
       "      <td>1.32261</td>\n",
       "      <td>0.90563</td>\n",
       "      <td>0.63297</td>\n",
       "      <td>0.32957</td>\n",
       "      <td>0.45811</td>\n",
       "      <td>2.45176</td>\n",
       "    </tr>\n",
       "    <tr>\n",
       "      <th>...</th>\n",
       "      <td>...</td>\n",
       "      <td>...</td>\n",
       "      <td>...</td>\n",
       "      <td>...</td>\n",
       "      <td>...</td>\n",
       "      <td>...</td>\n",
       "      <td>...</td>\n",
       "      <td>...</td>\n",
       "      <td>...</td>\n",
       "      <td>...</td>\n",
       "      <td>...</td>\n",
       "      <td>...</td>\n",
       "    </tr>\n",
       "    <tr>\n",
       "      <th>153</th>\n",
       "      <td>Rwanda</td>\n",
       "      <td>Sub-Saharan Africa</td>\n",
       "      <td>154</td>\n",
       "      <td>3.465</td>\n",
       "      <td>0.03464</td>\n",
       "      <td>0.22208</td>\n",
       "      <td>0.77370</td>\n",
       "      <td>0.42864</td>\n",
       "      <td>0.59201</td>\n",
       "      <td>0.55191</td>\n",
       "      <td>0.22628</td>\n",
       "      <td>0.67042</td>\n",
       "    </tr>\n",
       "    <tr>\n",
       "      <th>154</th>\n",
       "      <td>Benin</td>\n",
       "      <td>Sub-Saharan Africa</td>\n",
       "      <td>155</td>\n",
       "      <td>3.340</td>\n",
       "      <td>0.03656</td>\n",
       "      <td>0.28665</td>\n",
       "      <td>0.35386</td>\n",
       "      <td>0.31910</td>\n",
       "      <td>0.48450</td>\n",
       "      <td>0.08010</td>\n",
       "      <td>0.18260</td>\n",
       "      <td>1.63328</td>\n",
       "    </tr>\n",
       "    <tr>\n",
       "      <th>155</th>\n",
       "      <td>Syria</td>\n",
       "      <td>Middle East and Northern Africa</td>\n",
       "      <td>156</td>\n",
       "      <td>3.006</td>\n",
       "      <td>0.05015</td>\n",
       "      <td>0.66320</td>\n",
       "      <td>0.47489</td>\n",
       "      <td>0.72193</td>\n",
       "      <td>0.15684</td>\n",
       "      <td>0.18906</td>\n",
       "      <td>0.47179</td>\n",
       "      <td>0.32858</td>\n",
       "    </tr>\n",
       "    <tr>\n",
       "      <th>156</th>\n",
       "      <td>Burundi</td>\n",
       "      <td>Sub-Saharan Africa</td>\n",
       "      <td>157</td>\n",
       "      <td>2.905</td>\n",
       "      <td>0.08658</td>\n",
       "      <td>0.01530</td>\n",
       "      <td>0.41587</td>\n",
       "      <td>0.22396</td>\n",
       "      <td>0.11850</td>\n",
       "      <td>0.10062</td>\n",
       "      <td>0.19727</td>\n",
       "      <td>1.83302</td>\n",
       "    </tr>\n",
       "    <tr>\n",
       "      <th>157</th>\n",
       "      <td>Togo</td>\n",
       "      <td>Sub-Saharan Africa</td>\n",
       "      <td>158</td>\n",
       "      <td>2.839</td>\n",
       "      <td>0.06727</td>\n",
       "      <td>0.20868</td>\n",
       "      <td>0.13995</td>\n",
       "      <td>0.28443</td>\n",
       "      <td>0.36453</td>\n",
       "      <td>0.10731</td>\n",
       "      <td>0.16681</td>\n",
       "      <td>1.56726</td>\n",
       "    </tr>\n",
       "  </tbody>\n",
       "</table>\n",
       "<p>158 rows × 12 columns</p>\n",
       "</div>"
      ],
      "text/plain": [
       "         Country                           Region  Happiness Rank  \\\n",
       "0    Switzerland                   Western Europe               1   \n",
       "1        Iceland                   Western Europe               2   \n",
       "2        Denmark                   Western Europe               3   \n",
       "3         Norway                   Western Europe               4   \n",
       "4         Canada                    North America               5   \n",
       "..           ...                              ...             ...   \n",
       "153       Rwanda               Sub-Saharan Africa             154   \n",
       "154        Benin               Sub-Saharan Africa             155   \n",
       "155        Syria  Middle East and Northern Africa             156   \n",
       "156      Burundi               Sub-Saharan Africa             157   \n",
       "157         Togo               Sub-Saharan Africa             158   \n",
       "\n",
       "     Happiness Score  Standard Error  Economy (GDP per Capita)   Family  \\\n",
       "0              7.587         0.03411                   1.39651  1.34951   \n",
       "1              7.561         0.04884                   1.30232  1.40223   \n",
       "2              7.527         0.03328                   1.32548  1.36058   \n",
       "3              7.522         0.03880                   1.45900  1.33095   \n",
       "4              7.427         0.03553                   1.32629  1.32261   \n",
       "..               ...             ...                       ...      ...   \n",
       "153            3.465         0.03464                   0.22208  0.77370   \n",
       "154            3.340         0.03656                   0.28665  0.35386   \n",
       "155            3.006         0.05015                   0.66320  0.47489   \n",
       "156            2.905         0.08658                   0.01530  0.41587   \n",
       "157            2.839         0.06727                   0.20868  0.13995   \n",
       "\n",
       "     Health (Life Expectancy)  Freedom  Trust (Government Corruption)  \\\n",
       "0                     0.94143  0.66557                        0.41978   \n",
       "1                     0.94784  0.62877                        0.14145   \n",
       "2                     0.87464  0.64938                        0.48357   \n",
       "3                     0.88521  0.66973                        0.36503   \n",
       "4                     0.90563  0.63297                        0.32957   \n",
       "..                        ...      ...                            ...   \n",
       "153                   0.42864  0.59201                        0.55191   \n",
       "154                   0.31910  0.48450                        0.08010   \n",
       "155                   0.72193  0.15684                        0.18906   \n",
       "156                   0.22396  0.11850                        0.10062   \n",
       "157                   0.28443  0.36453                        0.10731   \n",
       "\n",
       "     Generosity  Dystopia Residual  \n",
       "0       0.29678            2.51738  \n",
       "1       0.43630            2.70201  \n",
       "2       0.34139            2.49204  \n",
       "3       0.34699            2.46531  \n",
       "4       0.45811            2.45176  \n",
       "..          ...                ...  \n",
       "153     0.22628            0.67042  \n",
       "154     0.18260            1.63328  \n",
       "155     0.47179            0.32858  \n",
       "156     0.19727            1.83302  \n",
       "157     0.16681            1.56726  \n",
       "\n",
       "[158 rows x 12 columns]"
      ]
     },
     "execution_count": 175,
     "metadata": {},
     "output_type": "execute_result"
    }
   ],
   "source": [
    "df=pd.DataFrame(data)\n",
    "df"
   ]
  },
  {
   "cell_type": "code",
   "execution_count": 180,
   "id": "93b36cab-de66-4aac-b176-07273c67927a",
   "metadata": {},
   "outputs": [
    {
     "data": {
      "text/html": [
       "<div>\n",
       "<style scoped>\n",
       "    .dataframe tbody tr th:only-of-type {\n",
       "        vertical-align: middle;\n",
       "    }\n",
       "\n",
       "    .dataframe tbody tr th {\n",
       "        vertical-align: top;\n",
       "    }\n",
       "\n",
       "    .dataframe thead th {\n",
       "        text-align: right;\n",
       "    }\n",
       "</style>\n",
       "<table border=\"1\" class=\"dataframe\">\n",
       "  <thead>\n",
       "    <tr style=\"text-align: right;\">\n",
       "      <th></th>\n",
       "      <th>Country</th>\n",
       "      <th>Region</th>\n",
       "      <th>Happiness Rank</th>\n",
       "      <th>Happiness Score</th>\n",
       "      <th>Standard Error</th>\n",
       "      <th>Economy (GDP per Capita)</th>\n",
       "      <th>Family</th>\n",
       "      <th>Health (Life Expectancy)</th>\n",
       "      <th>Freedom</th>\n",
       "      <th>Trust (Government Corruption)</th>\n",
       "      <th>Generosity</th>\n",
       "      <th>Dystopia Residual</th>\n",
       "      <th>first_five_letters</th>\n",
       "    </tr>\n",
       "  </thead>\n",
       "  <tbody>\n",
       "    <tr>\n",
       "      <th>0</th>\n",
       "      <td>Switzerland</td>\n",
       "      <td>Western Europe</td>\n",
       "      <td>1</td>\n",
       "      <td>7.587</td>\n",
       "      <td>0.03411</td>\n",
       "      <td>1.39651</td>\n",
       "      <td>1.34951</td>\n",
       "      <td>0.94143</td>\n",
       "      <td>0.66557</td>\n",
       "      <td>0.41978</td>\n",
       "      <td>0.29678</td>\n",
       "      <td>2.51738</td>\n",
       "      <td>Switze</td>\n",
       "    </tr>\n",
       "    <tr>\n",
       "      <th>1</th>\n",
       "      <td>Iceland</td>\n",
       "      <td>Western Europe</td>\n",
       "      <td>2</td>\n",
       "      <td>7.561</td>\n",
       "      <td>0.04884</td>\n",
       "      <td>1.30232</td>\n",
       "      <td>1.40223</td>\n",
       "      <td>0.94784</td>\n",
       "      <td>0.62877</td>\n",
       "      <td>0.14145</td>\n",
       "      <td>0.43630</td>\n",
       "      <td>2.70201</td>\n",
       "      <td>Icelan</td>\n",
       "    </tr>\n",
       "    <tr>\n",
       "      <th>2</th>\n",
       "      <td>Denmark</td>\n",
       "      <td>Western Europe</td>\n",
       "      <td>3</td>\n",
       "      <td>7.527</td>\n",
       "      <td>0.03328</td>\n",
       "      <td>1.32548</td>\n",
       "      <td>1.36058</td>\n",
       "      <td>0.87464</td>\n",
       "      <td>0.64938</td>\n",
       "      <td>0.48357</td>\n",
       "      <td>0.34139</td>\n",
       "      <td>2.49204</td>\n",
       "      <td>Denmar</td>\n",
       "    </tr>\n",
       "    <tr>\n",
       "      <th>3</th>\n",
       "      <td>Norway</td>\n",
       "      <td>Western Europe</td>\n",
       "      <td>4</td>\n",
       "      <td>7.522</td>\n",
       "      <td>0.03880</td>\n",
       "      <td>1.45900</td>\n",
       "      <td>1.33095</td>\n",
       "      <td>0.88521</td>\n",
       "      <td>0.66973</td>\n",
       "      <td>0.36503</td>\n",
       "      <td>0.34699</td>\n",
       "      <td>2.46531</td>\n",
       "      <td>Norway</td>\n",
       "    </tr>\n",
       "    <tr>\n",
       "      <th>4</th>\n",
       "      <td>Canada</td>\n",
       "      <td>North America</td>\n",
       "      <td>5</td>\n",
       "      <td>7.427</td>\n",
       "      <td>0.03553</td>\n",
       "      <td>1.32629</td>\n",
       "      <td>1.32261</td>\n",
       "      <td>0.90563</td>\n",
       "      <td>0.63297</td>\n",
       "      <td>0.32957</td>\n",
       "      <td>0.45811</td>\n",
       "      <td>2.45176</td>\n",
       "      <td>Canada</td>\n",
       "    </tr>\n",
       "  </tbody>\n",
       "</table>\n",
       "</div>"
      ],
      "text/plain": [
       "       Country          Region  Happiness Rank  Happiness Score  \\\n",
       "0  Switzerland  Western Europe               1            7.587   \n",
       "1      Iceland  Western Europe               2            7.561   \n",
       "2      Denmark  Western Europe               3            7.527   \n",
       "3       Norway  Western Europe               4            7.522   \n",
       "4       Canada   North America               5            7.427   \n",
       "\n",
       "   Standard Error  Economy (GDP per Capita)   Family  \\\n",
       "0         0.03411                   1.39651  1.34951   \n",
       "1         0.04884                   1.30232  1.40223   \n",
       "2         0.03328                   1.32548  1.36058   \n",
       "3         0.03880                   1.45900  1.33095   \n",
       "4         0.03553                   1.32629  1.32261   \n",
       "\n",
       "   Health (Life Expectancy)  Freedom  Trust (Government Corruption)  \\\n",
       "0                   0.94143  0.66557                        0.41978   \n",
       "1                   0.94784  0.62877                        0.14145   \n",
       "2                   0.87464  0.64938                        0.48357   \n",
       "3                   0.88521  0.66973                        0.36503   \n",
       "4                   0.90563  0.63297                        0.32957   \n",
       "\n",
       "   Generosity  Dystopia Residual first_five_letters  \n",
       "0     0.29678            2.51738             Switze  \n",
       "1     0.43630            2.70201             Icelan  \n",
       "2     0.34139            2.49204             Denmar  \n",
       "3     0.34699            2.46531             Norway  \n",
       "4     0.45811            2.45176             Canada  "
      ]
     },
     "execution_count": 180,
     "metadata": {},
     "output_type": "execute_result"
    }
   ],
   "source": [
    "pattern='(\\w{6})'\n",
    "df['first_five_letters']=df['Country'].str.extract(pattern,expand=True)\n",
    "df.head()"
   ]
  },
  {
   "cell_type": "markdown",
   "id": "ae21a64b-4ed3-4cf8-b194-96b6820567dd",
   "metadata": {},
   "source": [
    "11. Write a Python program to match a string that contains only upper and lowercase letters, numbers, and underscores."
   ]
  },
  {
   "cell_type": "code",
   "execution_count": 182,
   "id": "9e1637d8-737c-41df-bc34-c6cfbaf80616",
   "metadata": {},
   "outputs": [
    {
     "name": "stdout",
     "output_type": "stream",
     "text": [
      "Match Found\n",
      "Match Found\n",
      "Not Found\n"
     ]
    }
   ],
   "source": [
    "def match(text):\n",
    "    pattern=r'[A-Za-z0-9_]+$'\n",
    "    result=re.match(pattern,text)\n",
    "    if result:\n",
    "        print(\"Match Found\")\n",
    "\n",
    "    else:\n",
    "        print(\"Not Found\")\n",
    "\n",
    "match(\"aabbb048_888\")\n",
    "match(\"YU_B08_gcW\")\n",
    "match(\"Match Found\")\n",
    "        "
   ]
  },
  {
   "cell_type": "markdown",
   "id": "a497a91e-21d7-4cd7-9829-ee99cd467fcf",
   "metadata": {},
   "source": [
    "12. Write a Python program where a string will start with a specific number. "
   ]
  },
  {
   "cell_type": "code",
   "execution_count": 191,
   "id": "c1e2037e-60ff-4548-9b3d-ca10f9ab5cbc",
   "metadata": {},
   "outputs": [
    {
     "name": "stdout",
     "output_type": "stream",
     "text": [
      "True\n",
      "False\n"
     ]
    }
   ],
   "source": [
    "def starting_with_numbers(str):\n",
    "    pattern=re.compile(\"^2 \")\n",
    "    if pattern.match(str):\n",
    "       return True\n",
    "    else:\n",
    "        return False\n",
    "\n",
    "print(starting_with_numbers(\"234 apples\"))\n",
    "print(starting_with_numbers(\"5 apples\"))"
   ]
  },
  {
   "cell_type": "markdown",
   "id": "4dac741c-7c87-4ef4-b642-c5721b4e3756",
   "metadata": {},
   "source": [
    "13. Write a Python program to remove leading zeros from an IP address"
   ]
  },
  {
   "cell_type": "code",
   "execution_count": 206,
   "id": "4a20ae2d-2527-4d93-a502-5b92a7761551",
   "metadata": {},
   "outputs": [
    {
     "name": "stdin",
     "output_type": "stream",
     "text": [
      "enter an IP address 127.0.0.1\n"
     ]
    },
    {
     "name": "stdout",
     "output_type": "stream",
     "text": [
      "127...1\n"
     ]
    }
   ],
   "source": [
    "IP=input(\"enter an IP address\")\n",
    "my_ip=re.sub(\"\\.0*\",'.',IP)\n",
    "print(my_ip)\n",
    "\n",
    "\n",
    "             "
   ]
  },
  {
   "cell_type": "markdown",
   "id": "7ecd18ca-3c9f-4dcd-bcc1-da5a491f7e00",
   "metadata": {},
   "source": [
    "14. Write a regular expression in python to match a date string in the form of Month name followed by day number and year stored in a text file."
   ]
  },
  {
   "cell_type": "code",
   "execution_count": 378,
   "id": "bc8dacd5-0199-4adf-855e-ec49cc532ce9",
   "metadata": {},
   "outputs": [
    {
     "name": "stdout",
     "output_type": "stream",
     "text": [
      "On August 15th 1947 that India was declared independent from British colonialism, and the reins of control were handed over to the leaders of the Country.\n"
     ]
    }
   ],
   "source": [
    "with open (\"India.txt\")as file:\n",
    "  text=file.read() \n",
    "  print(text)"
   ]
  },
  {
   "cell_type": "code",
   "execution_count": 401,
   "id": "816e5dcf-2160-4693-ac17-b7e43fc650f7",
   "metadata": {},
   "outputs": [
    {
     "name": "stdout",
     "output_type": "stream",
     "text": [
      "August\n"
     ]
    }
   ],
   "source": [
    "# this question is not solved\n",
    "pattern=r\"\\b(January|February|March|April|May|June|July|August|September|October|November|December\\s+\\d{1,2}st|nd|th|rd?\\s+\\d{4})\\b\"\n",
    " #print(type(pattern))\n",
    "matches=re.findall(pattern,text)\n",
    "for match in matches:\n",
    "    print(match)\n",
    "#with open('India.txt','w') as file:\n",
    "    #file.write(text)\n",
    " "
   ]
  },
  {
   "cell_type": "code",
   "execution_count": 284,
   "id": "28662952-fc08-4e19-9063-dddcdaadaf83",
   "metadata": {},
   "outputs": [],
   "source": [
    "# without saving in text file:"
   ]
  },
  {
   "cell_type": "code",
   "execution_count": 403,
   "id": "d196a714-7aee-4e02-bc04-4f7cac4886ab",
   "metadata": {},
   "outputs": [
    {
     "name": "stdout",
     "output_type": "stream",
     "text": [
      "August\n"
     ]
    }
   ],
   "source": [
    "text=\"On August 15th 1947 that India was declared independent from British colonialism, and the reins of control were handed over to the leaders of the Country.\"\n",
    "pattern=r\"\\b(January|February|March|April|May|June|July|August|September|October|November|December\\s+\\d{1,2}st|nd|th|rd?\\s+\\d{4})\\b\"\n",
    "result = re.findall(pattern, text)\n",
    "for match in result:\n",
    "    print(match)"
   ]
  },
  {
   "cell_type": "markdown",
   "id": "d7fc9912-cd88-4d99-95f5-c502ab1e8195",
   "metadata": {},
   "source": [
    "15. Write a Python program to search some literals strings in a string. "
   ]
  },
  {
   "cell_type": "code",
   "execution_count": 404,
   "id": "1eb47f5a-8de6-465a-be61-29130b65c858",
   "metadata": {},
   "outputs": [
    {
     "name": "stdout",
     "output_type": "stream",
     "text": [
      "match found\n"
     ]
    }
   ],
   "source": [
    "string='The quick brown fox jumps over the lazy dog.'\n",
    "result=re.search('dog|fox|horse',string)\n",
    "if result:\n",
    "    print(\"match found\")\n",
    "\n",
    "else:\n",
    "    print(\"Not found\")"
   ]
  },
  {
   "cell_type": "markdown",
   "id": "5f683734-d256-47b8-8add-7f3921ebf37e",
   "metadata": {},
   "source": [
    "16. Write a Python program to search a literals string in a string and also find the location within the original string where the pattern occurs"
   ]
  },
  {
   "cell_type": "code",
   "execution_count": 405,
   "id": "16e8accb-d180-4661-a841-1f82248e5ca2",
   "metadata": {},
   "outputs": [
    {
     "name": "stdout",
     "output_type": "stream",
     "text": [
      "match found,on position: 15\n"
     ]
    }
   ],
   "source": [
    "string='The quick brown fox jumps over the lazy dog.'\n",
    "result=re.search('\\Wfox\\W',string)\n",
    "if result:\n",
    "    print(\"match found,on position:\",result.start())\n",
    "\n",
    "else:\n",
    "    print(\"Not found\")"
   ]
  },
  {
   "cell_type": "markdown",
   "id": "3bafdb3c-1ed0-4bda-aafa-730591ee6c44",
   "metadata": {},
   "source": [
    "17. Write a Python program to find the substrings within a string"
   ]
  },
  {
   "cell_type": "code",
   "execution_count": 407,
   "id": "512958c6-f7bc-42ce-9408-bceb573ece69",
   "metadata": {},
   "outputs": [
    {
     "name": "stdout",
     "output_type": "stream",
     "text": [
      "Match Found\n"
     ]
    }
   ],
   "source": [
    "Sample_text = 'Python exercises, PHP exercises, C# exercises'\n",
    "substring='exercises'\n",
    "result=re.findall(substring,Sample_text)\n",
    "if result:\n",
    "    print(\"Match Found\")\n",
    "\n",
    "else:\n",
    "    print(\"Match Not Found\")\n"
   ]
  },
  {
   "cell_type": "markdown",
   "id": "a0c8b9b1-9c85-43f9-bfad-d9246b9b4ba1",
   "metadata": {},
   "source": [
    "18. Write a Python program to find the occurrence and position of the substrings within a string."
   ]
  },
  {
   "cell_type": "code",
   "execution_count": 300,
   "id": "233fdc6d-e638-4108-89d6-5e0f1ab0bf37",
   "metadata": {},
   "outputs": [
    {
     "name": "stdout",
     "output_type": "stream",
     "text": [
      "exercises at (7, 16)\n",
      "exercises at (22, 31)\n",
      "exercises at (36, 45)\n"
     ]
    }
   ],
   "source": [
    "Sample_text = 'Python exercises, PHP exercises, C# exercises'\n",
    "substring='exercises'\n",
    "result=re.finditer(substring,Sample_text)\n",
    "for i in result:\n",
    "    print(substring.format(substring),'at',i.span())"
   ]
  },
  {
   "cell_type": "markdown",
   "id": "7fc53544-8f33-488f-9523-6b456e0f31b8",
   "metadata": {},
   "source": [
    "19. Write a Python program to convert a date of yyyy-mm-dd format to dd-mm-yyyy format."
   ]
  },
  {
   "cell_type": "code",
   "execution_count": 303,
   "id": "14632b95-5fe6-4392-bafe-c33a8067b8e7",
   "metadata": {},
   "outputs": [
    {
     "data": {
      "text/plain": [
       "'06-07-2024'"
      ]
     },
     "execution_count": 303,
     "metadata": {},
     "output_type": "execute_result"
    }
   ],
   "source": [
    "from datetime import datetime\n",
    "datetime.strptime('2024-07-06',\"%Y-%m-%d\").strftime(\"%d-%m-%Y\")"
   ]
  },
  {
   "cell_type": "markdown",
   "id": "be650150-b597-46a2-8e2e-beace3387593",
   "metadata": {},
   "source": [
    "20. Create a function in python to find all decimal numbers with a precision of 1 or 2 in a string. The use of the re.compile() method is mandatory."
   ]
  },
  {
   "cell_type": "code",
   "execution_count": 322,
   "id": "ad814dec-bfa2-4740-b510-979f9bdda294",
   "metadata": {},
   "outputs": [],
   "source": [
    "def decimal(str):\n",
    "    pattern=re.compile(r'\\d+\\.\\d{1,2}')\n",
    "    result=re.findall(pattern,str)\n",
    "    return result\n",
    "    "
   ]
  },
  {
   "cell_type": "code",
   "execution_count": 323,
   "id": "b4e9db0f-08fb-408f-97bb-62b06e90861b",
   "metadata": {},
   "outputs": [
    {
     "name": "stdout",
     "output_type": "stream",
     "text": [
      "['01.12', '0132.12', '2.31', '145.8', '3.01', '27.25', '0.25']\n"
     ]
    }
   ],
   "source": [
    "x=\"01.12 0132.123 2.31875 145.8 3.01 27.25 0.25\"\n",
    "result1=decimal(x)\n",
    "print(result1)"
   ]
  },
  {
   "cell_type": "markdown",
   "id": "fdc4f66a-4c37-435c-84f4-2153d9ee5576",
   "metadata": {},
   "source": [
    "21. Write a Python program to separate and print the numbers and their position of a given string."
   ]
  },
  {
   "cell_type": "code",
   "execution_count": 324,
   "id": "8c5f4709-f3b9-4bba-82dc-2c3972eccadd",
   "metadata": {},
   "outputs": [
    {
     "name": "stdout",
     "output_type": "stream",
     "text": [
      "24\n",
      "position: 10\n"
     ]
    }
   ],
   "source": [
    "text=\"There are 24 oranges on the table.\"\n",
    "pattern=r\"\\d+\"\n",
    "result=re.finditer(pattern,text)\n",
    "for i in result:\n",
    "    print(i.group(0))\n",
    "    print('position:',i.start())\n",
    "    "
   ]
  },
  {
   "cell_type": "markdown",
   "id": "d048cdcb-ca6d-45e3-a964-a6cdce0980a9",
   "metadata": {},
   "source": [
    "22. Write a regular expression in python program to extract maximum/largest numeric value from a string."
   ]
  },
  {
   "cell_type": "code",
   "execution_count": 334,
   "id": "adba4ac9-56a4-46ce-a93d-4519c42f0cb8",
   "metadata": {},
   "outputs": [
    {
     "name": "stdout",
     "output_type": "stream",
     "text": [
      "['947', '896', '926', '524', '734', '950', '642']\n",
      "Max Value: 950\n"
     ]
    }
   ],
   "source": [
    "Sample_Text= 'My marks in each semester are: 947, 896, 926, 524, 734, 950, 642'\n",
    "pattern=r'\\d+'\n",
    "num=re.findall(pattern,Sample_Text)\n",
    "print(num)\n",
    "num=map(int, num)# converts string into number\n",
    "print('Max Value:',max(num))"
   ]
  },
  {
   "cell_type": "markdown",
   "id": "7d503672-c4dd-425b-96cf-9e972732256b",
   "metadata": {},
   "source": [
    "23. Create a function in python to insert spaces between words starting with capital letters"
   ]
  },
  {
   "cell_type": "code",
   "execution_count": 346,
   "id": "966b9a85-652c-4ac6-a777-a11e9c5002c9",
   "metadata": {},
   "outputs": [],
   "source": [
    "def spaces(string):\n",
    "    pattern=r'([A-Z][a-z]*)'\n",
    "    result=re.findall(pattern,string)\n",
    "    print(result)\n",
    "    print(' '.join(result))"
   ]
  },
  {
   "cell_type": "code",
   "execution_count": 348,
   "id": "d280208c-f8f8-4779-a94a-02d0dcecd8f0",
   "metadata": {},
   "outputs": [
    {
     "name": "stdout",
     "output_type": "stream",
     "text": [
      "['Regular', 'Expression', 'Is', 'An', 'Important', 'Topic', 'In', 'Python']\n",
      "Regular Expression Is An Important Topic In Python\n"
     ]
    }
   ],
   "source": [
    "Sample_Text= \"RegularExpressionIsAnImportantTopicInPython\"\n",
    "x=spaces(Sample_Text)\n"
   ]
  },
  {
   "cell_type": "markdown",
   "id": "b2357cea-1f98-4b28-af8d-38b4be3ff127",
   "metadata": {},
   "source": [
    "24. Python regex to find sequences of one upper case letter followed by lower case letters"
   ]
  },
  {
   "cell_type": "code",
   "execution_count": 350,
   "id": "3054cddd-0c15-4415-b3ff-f03becb75228",
   "metadata": {},
   "outputs": [
    {
     "name": "stdout",
     "output_type": "stream",
     "text": [
      "found\n",
      "not found\n"
     ]
    }
   ],
   "source": [
    "def match(string):\n",
    "    pattern=r'[A-Z]+[a-z]+$'\n",
    "    result=re.search(pattern,string)\n",
    "    if result:\n",
    "        return(\"found\")\n",
    "\n",
    "    else:\n",
    "        return(\"not found\")\n",
    "\n",
    "print(match(\"Abbcc\"))\n",
    "print(match(\"AAABBB\"))\n",
    "      \n",
    "      "
   ]
  },
  {
   "cell_type": "markdown",
   "id": "bc74527f-3d8a-455a-b9f8-c031a9cf5572",
   "metadata": {},
   "source": [
    "25. Write a Python program to remove continuous duplicate words from Sentence using Regular Expression."
   ]
  },
  {
   "cell_type": "code",
   "execution_count": 353,
   "id": "4e4d8684-9ff4-4036-b36c-c0b2860cb145",
   "metadata": {},
   "outputs": [
    {
     "name": "stdout",
     "output_type": "stream",
     "text": [
      "Hello hello world\n"
     ]
    }
   ],
   "source": [
    "def duplicate(str):\n",
    "  pattern = r'\\b(\\w+)(\\s+\\1\\b)+'\n",
    "  result = re.sub(pattern,r'\\1',str)\n",
    "  return result\n",
    "\n",
    "Sample_Text= \"Hello hello world world\"\n",
    "x=duplicate(Sample_Text)\n",
    "print(x)"
   ]
  },
  {
   "cell_type": "markdown",
   "id": "97717d04-181e-4160-a029-af7aeca5931e",
   "metadata": {},
   "source": [
    "26. Write a python program using RegEx to accept string ending with alphanumeric character."
   ]
  },
  {
   "cell_type": "code",
   "execution_count": 356,
   "id": "2340a705-9b5d-441b-8637-6a23b95d9c69",
   "metadata": {},
   "outputs": [
    {
     "name": "stdout",
     "output_type": "stream",
     "text": [
      "Match found\n",
      "Match found\n"
     ]
    }
   ],
   "source": [
    "def string(text):\n",
    "    pattern=r'\\w$'\n",
    "    result=re.search(pattern,text)\n",
    "    if result:\n",
    "        return \"Match found\"\n",
    "\n",
    "    else:\n",
    "        return \"not found\"\n",
    "\n",
    "print(string(\"AABB23\"))\n",
    "print(string(\"mY name is df45454\"))\n",
    "      "
   ]
  },
  {
   "cell_type": "markdown",
   "id": "a1d8416d-5dd7-4948-b26b-9b4dc5acb1ed",
   "metadata": {},
   "source": [
    "27. Write a python program using RegEx to extract the hashtags."
   ]
  },
  {
   "cell_type": "code",
   "execution_count": 363,
   "id": "c63a9dcc-9780-4142-8b63-f757ea807046",
   "metadata": {},
   "outputs": [
    {
     "name": "stdout",
     "output_type": "stream",
     "text": [
      "['#Doltiwal', '#xyzabc', '#Demonetization']\n"
     ]
    }
   ],
   "source": [
    "def hashtags(text):\n",
    "    hash=re.findall(r'#\\w+',text)\n",
    "    return hash\n",
    "text=\"\"\"RT @kapil_kausik: #Doltiwal I mean #xyzabc is \"hurt\" by #Demonetization as the same has rendered USELESS <ed><U+00A0><U+00BD><ed><U+00B1><U+0089> \"acquired funds\" No wo\"\"\"\n",
    "\n",
    "hash=hashtags(text)\n",
    "print(hash)\n",
    "\n"
   ]
  },
  {
   "cell_type": "markdown",
   "id": "5f8e806e-7868-4529-9c8e-2be28cd65616",
   "metadata": {},
   "source": [
    "28. Write a python program using RegEx to remove <U+..> like symbols"
   ]
  },
  {
   "cell_type": "code",
   "execution_count": 365,
   "id": "3250b1f9-5d24-4dbe-b40a-560a5fe6c88e",
   "metadata": {},
   "outputs": [
    {
     "name": "stdout",
     "output_type": "stream",
     "text": [
      "@Jags123456 Bharat band on 28??<ed><ed>Those who  are protesting #demonetization  are all different party leaders\n"
     ]
    }
   ],
   "source": [
    "Sample_Text=\"@Jags123456 Bharat band on 28??<ed><U+00A0><U+00BD><ed><U+00B8><U+0082>Those who  are protesting #demonetization  are all different party leaders\"\n",
    "pattern=r'<U\\+\\w{4}>'\n",
    "result=re.sub(pattern,\"\",Sample_Text)\n",
    "print(result)"
   ]
  },
  {
   "cell_type": "markdown",
   "id": "a0ab6d6c-a90a-4fec-8a53-1781440c45b6",
   "metadata": {},
   "source": [
    "29. Write a python program to extract dates from the text stored in the text file."
   ]
  },
  {
   "cell_type": "code",
   "execution_count": 366,
   "id": "7a5f0667-eee7-4f96-acb9-14c557ad87e9",
   "metadata": {},
   "outputs": [
    {
     "name": "stdout",
     "output_type": "stream",
     "text": [
      " Ron was born on 12-09-1992 and he was admitted to school 15-12-1999.\n"
     ]
    }
   ],
   "source": [
    "with open(\"ron.txt\") as file:\n",
    "    text=file.read()\n",
    "    print(text)"
   ]
  },
  {
   "cell_type": "code",
   "execution_count": 367,
   "id": "af7bce56-d41f-4548-b084-301a06bc357b",
   "metadata": {},
   "outputs": [
    {
     "name": "stdout",
     "output_type": "stream",
     "text": [
      "12-09-1992\n",
      "15-12-1999\n"
     ]
    }
   ],
   "source": [
    "pattern=r\"\\d{2}-\\d{2}-\\d{4}\"\n",
    "result=re.findall(pattern,text)\n",
    "for date in result:\n",
    "    print(date)"
   ]
  },
  {
   "cell_type": "markdown",
   "id": "40dc66eb-a7a9-45bc-bfe1-db4df6b17b23",
   "metadata": {},
   "source": [
    "30. Create a function in python to remove all words from a string of length between 2 and 4."
   ]
  },
  {
   "cell_type": "code",
   "execution_count": 377,
   "id": "26b6785b-9354-4ad1-b084-dbd179fc3e82",
   "metadata": {},
   "outputs": [
    {
     "name": "stdout",
     "output_type": "stream",
     "text": [
      " following example creates ArrayList a capacity elements. 4 elements added ArrayList ArrayList trimmed accordingly.\n"
     ]
    }
   ],
   "source": [
    "def remove_words(string):\n",
    "    pattern=re.compile(r'\\W*\\b\\w{2,4}\\b')\n",
    "    result=re.sub(pattern,'',string)\n",
    "    return result\n",
    "\n",
    "sample_text=\"The following example creates an ArrayList with a capacity of 50 elements. 4 elements are then added to the ArrayList and the ArrayList is trimmed accordingly.\"\n",
    "output=remove_words(sample_text)\n",
    "print(output)"
   ]
  },
  {
   "cell_type": "code",
   "execution_count": null,
   "id": "5b0fd553-eaa7-438d-83be-fcee978b9063",
   "metadata": {},
   "outputs": [],
   "source": []
  }
 ],
 "metadata": {
  "kernelspec": {
   "display_name": "Python 3 (ipykernel)",
   "language": "python",
   "name": "python3"
  },
  "language_info": {
   "codemirror_mode": {
    "name": "ipython",
    "version": 3
   },
   "file_extension": ".py",
   "mimetype": "text/x-python",
   "name": "python",
   "nbconvert_exporter": "python",
   "pygments_lexer": "ipython3",
   "version": "3.11.5"
  }
 },
 "nbformat": 4,
 "nbformat_minor": 5
}
