{
 "cells": [
  {
   "cell_type": "markdown",
   "id": "152c7e8b-eede-4c48-b87a-feb8045851c4",
   "metadata": {},
   "source": [
    "Q1: In this question you have to scrape data using the filters available on the webpage You have to use the location and\n",
    "salary filter.\n",
    "You have to scrape data for “Data Scientist” designation for first 10 job results.\n",
    "You have to scrape the job-title, job-location, company name, experience required.\n",
    "The location filter to be used is “Delhi/NCR”. The salary filter to be used is “3-6” lakhs"
   ]
  },
  {
   "cell_type": "code",
   "execution_count": 5,
   "id": "e7a7159c-7a3b-440f-82cf-17072e50975c",
   "metadata": {},
   "outputs": [],
   "source": [
    "# importing the libraries\n",
    "import selenium\n",
    "from selenium import webdriver\n",
    "import pandas as pd\n",
    "from selenium.webdriver.common.by import By\n",
    "import time"
   ]
  },
  {
   "cell_type": "code",
   "execution_count": 3,
   "id": "5c6ce028-2b84-484e-87a1-54ccaee31694",
   "metadata": {},
   "outputs": [],
   "source": [
    "driver=webdriver.Chrome()"
   ]
  },
  {
   "cell_type": "code",
   "execution_count": 4,
   "id": "6afd8985-b682-4943-8071-7bddb3b74f59",
   "metadata": {},
   "outputs": [],
   "source": [
    "driver.get(\"https://www.naukri.com/\")"
   ]
  },
  {
   "cell_type": "code",
   "execution_count": 5,
   "id": "48e2166f-2fee-482a-9c97-a8cfa9eff28e",
   "metadata": {},
   "outputs": [
    {
     "data": {
      "text/plain": [
       "<selenium.webdriver.remote.webelement.WebElement (session=\"7c4f7405782697b63bdacad5801d62ad\", element=\"f.DBF4EF27171C67B663B4E0B653A78697.d.BB98F576B2774F7F51993F4CBC1B7F9D.e.10\")>"
      ]
     },
     "execution_count": 5,
     "metadata": {},
     "output_type": "execute_result"
    }
   ],
   "source": [
    "job_search=driver.find_element(By.XPATH,'//input[@class=\"suggestor-input \"]')\n",
    "job_search"
   ]
  },
  {
   "cell_type": "code",
   "execution_count": 6,
   "id": "13a72d12-5fe6-46d2-ae44-21fd838634ad",
   "metadata": {},
   "outputs": [],
   "source": [
    "job_search.send_keys(\"Data Scientist\")"
   ]
  },
  {
   "cell_type": "code",
   "execution_count": 7,
   "id": "8be2b226-637a-47d9-9c74-12e8a8d7d1a9",
   "metadata": {},
   "outputs": [
    {
     "data": {
      "text/plain": [
       "<selenium.webdriver.remote.webelement.WebElement (session=\"7c4f7405782697b63bdacad5801d62ad\", element=\"f.DBF4EF27171C67B663B4E0B653A78697.d.BB98F576B2774F7F51993F4CBC1B7F9D.e.12\")>"
      ]
     },
     "execution_count": 7,
     "metadata": {},
     "output_type": "execute_result"
    }
   ],
   "source": [
    "location=driver.find_element(By.XPATH,'/html/body/div[1]/div[7]/div/div/div[5]/div/div/div/div[1]/div/input')\n",
    "location"
   ]
  },
  {
   "cell_type": "code",
   "execution_count": 8,
   "id": "20c4432e-1ea0-4b15-9d58-ff916f02fee9",
   "metadata": {},
   "outputs": [],
   "source": [
    "location.send_keys(\"Delhi/NCR\")"
   ]
  },
  {
   "cell_type": "code",
   "execution_count": 9,
   "id": "a913a28d-5402-47a3-9f77-2b6b6e52e3d0",
   "metadata": {},
   "outputs": [
    {
     "data": {
      "text/plain": [
       "<selenium.webdriver.remote.webelement.WebElement (session=\"7c4f7405782697b63bdacad5801d62ad\", element=\"f.DBF4EF27171C67B663B4E0B653A78697.d.BB98F576B2774F7F51993F4CBC1B7F9D.e.58\")>"
      ]
     },
     "execution_count": 9,
     "metadata": {},
     "output_type": "execute_result"
    }
   ],
   "source": [
    "search_btn=driver.find_element(By.XPATH,'//div[@class=\"qsbSubmit\"]')\n",
    "search_btn"
   ]
  },
  {
   "cell_type": "code",
   "execution_count": 10,
   "id": "7de5d3cc-24d4-4f5b-874d-fb4460f953be",
   "metadata": {},
   "outputs": [],
   "source": [
    "# clicking using xpath\n",
    "search_btn=driver.find_element(By.CLASS_NAME,\"qsbSubmit\")\n",
    "search_btn.click()"
   ]
  },
  {
   "cell_type": "code",
   "execution_count": 11,
   "id": "389e8ce0-a403-4ddf-99f0-07bc1de878e9",
   "metadata": {},
   "outputs": [
    {
     "data": {
      "text/plain": [
       "[]"
      ]
     },
     "execution_count": 11,
     "metadata": {},
     "output_type": "execute_result"
    }
   ],
   "source": [
    "# extracting the job titles\n",
    "title=driver.find_elements(By.XPATH,'//a[@class=\"title \"]')\n",
    "title"
   ]
  },
  {
   "cell_type": "code",
   "execution_count": 12,
   "id": "5248253c-0f44-46f1-96e2-637d106396fc",
   "metadata": {},
   "outputs": [
    {
     "data": {
      "text/plain": [
       "[]"
      ]
     },
     "execution_count": 12,
     "metadata": {},
     "output_type": "execute_result"
    }
   ],
   "source": [
    "# extracting the text of the job titles\n",
    "\n",
    "job_titles=[]\n",
    "for i in title:\n",
    "    if i.text is None:\n",
    "        job_titles.append('Not')\n",
    "    else:\n",
    "        job_titles.append(i.text)\n",
    "\n",
    "job_titles[:10]"
   ]
  },
  {
   "cell_type": "code",
   "execution_count": 13,
   "id": "db31281f-2608-45a6-80f6-34fdab61aeff",
   "metadata": {},
   "outputs": [
    {
     "data": {
      "text/plain": [
       "[]"
      ]
     },
     "execution_count": 13,
     "metadata": {},
     "output_type": "execute_result"
    }
   ],
   "source": [
    "# extracting the tags of company names\n",
    "name=driver.find_elements(By.XPATH,'//a[@class=\" comp-name mw-25\"]')\n",
    "name"
   ]
  },
  {
   "cell_type": "code",
   "execution_count": 14,
   "id": "603136e3-d949-4d46-b83e-3a8611d94995",
   "metadata": {},
   "outputs": [
    {
     "data": {
      "text/plain": [
       "[]"
      ]
     },
     "execution_count": 14,
     "metadata": {},
     "output_type": "execute_result"
    }
   ],
   "source": [
    "# extracting all the company names\n",
    "company_name=[]\n",
    "for i in name:\n",
    "    company_name.append(i.text)\n",
    "\n",
    "company_name[:10]"
   ]
  },
  {
   "cell_type": "code",
   "execution_count": 15,
   "id": "17abde0d-fba3-4361-ba76-42ddb9d8d1ea",
   "metadata": {},
   "outputs": [
    {
     "data": {
      "text/plain": [
       "[]"
      ]
     },
     "execution_count": 15,
     "metadata": {},
     "output_type": "execute_result"
    }
   ],
   "source": [
    "#extracting the experience tags\n",
    "ex_tag=driver.find_elements(By.XPATH,'//span[@class=\"expwdth\"]')\n",
    "ex_tag"
   ]
  },
  {
   "cell_type": "code",
   "execution_count": 16,
   "id": "0738e6e7-2a69-471c-bcc8-d46c198ceb85",
   "metadata": {},
   "outputs": [
    {
     "data": {
      "text/plain": [
       "[]"
      ]
     },
     "execution_count": 16,
     "metadata": {},
     "output_type": "execute_result"
    }
   ],
   "source": [
    "# extracting the experience required\n",
    "experience_required=[]\n",
    "for i in ex_tag:\n",
    "    experience_required.append(i.text)\n",
    "\n",
    "experience_required[:10]"
   ]
  },
  {
   "cell_type": "code",
   "execution_count": 17,
   "id": "2891ff64-8e56-4fe4-9211-694408b8de96",
   "metadata": {},
   "outputs": [
    {
     "data": {
      "text/plain": [
       "[]"
      ]
     },
     "execution_count": 17,
     "metadata": {},
     "output_type": "execute_result"
    }
   ],
   "source": [
    "#extracting the tags for the location\n",
    "location_tag=driver.find_elements(By.XPATH,'//span[@class=\"locWdth\"]')\n",
    "location_tag"
   ]
  },
  {
   "cell_type": "code",
   "execution_count": 18,
   "id": "0e6389a5-5b6d-47bc-bde5-2949e3653c11",
   "metadata": {},
   "outputs": [
    {
     "data": {
      "text/plain": [
       "[]"
      ]
     },
     "execution_count": 18,
     "metadata": {},
     "output_type": "execute_result"
    }
   ],
   "source": [
    "#extracting all the locations\n",
    "location=[]\n",
    "for i in location_tag:\n",
    "    location.append(i.text)\n",
    "\n",
    "location[:10]"
   ]
  },
  {
   "cell_type": "code",
   "execution_count": 19,
   "id": "f82ae63d-e885-4533-bfea-02d37437c004",
   "metadata": {},
   "outputs": [
    {
     "data": {
      "text/plain": [
       "[]"
      ]
     },
     "execution_count": 19,
     "metadata": {},
     "output_type": "execute_result"
    }
   ],
   "source": [
    "salary_tag=driver.find_elements(By.XPATH,'//span[@class=\"ni-job-tuple-icon ni-job-tuple-icon-srp-rupee sal\"]')\n",
    "salary_tag"
   ]
  },
  {
   "cell_type": "code",
   "execution_count": 20,
   "id": "242d462b-cf2d-4491-9263-a498c06e960d",
   "metadata": {},
   "outputs": [
    {
     "data": {
      "text/plain": [
       "[]"
      ]
     },
     "execution_count": 20,
     "metadata": {},
     "output_type": "execute_result"
    }
   ],
   "source": [
    "salary=[]\n",
    "for i in salary_tag:\n",
    "    salary.append(i.text)\n",
    "\n",
    "salary[:10]"
   ]
  },
  {
   "cell_type": "code",
   "execution_count": 21,
   "id": "9bc697f1-ba5f-40b9-be83-2c6bb62ed5c9",
   "metadata": {},
   "outputs": [
    {
     "name": "stdout",
     "output_type": "stream",
     "text": [
      "0 0 0 0\n"
     ]
    }
   ],
   "source": [
    "print(len(job_titles[:10]),len(company_name[:10]),len(experience_required[:10]),len(salary[:10]))"
   ]
  },
  {
   "cell_type": "code",
   "execution_count": 22,
   "id": "1e74ef25-9059-4589-a66f-ef10e62dbf40",
   "metadata": {},
   "outputs": [
    {
     "data": {
      "text/html": [
       "<div>\n",
       "<style scoped>\n",
       "    .dataframe tbody tr th:only-of-type {\n",
       "        vertical-align: middle;\n",
       "    }\n",
       "\n",
       "    .dataframe tbody tr th {\n",
       "        vertical-align: top;\n",
       "    }\n",
       "\n",
       "    .dataframe thead th {\n",
       "        text-align: right;\n",
       "    }\n",
       "</style>\n",
       "<table border=\"1\" class=\"dataframe\">\n",
       "  <thead>\n",
       "    <tr style=\"text-align: right;\">\n",
       "      <th></th>\n",
       "      <th>Job_Titles</th>\n",
       "      <th>Company_Name</th>\n",
       "      <th>Experience_Required</th>\n",
       "      <th>Salary</th>\n",
       "      <th>Location</th>\n",
       "    </tr>\n",
       "  </thead>\n",
       "  <tbody>\n",
       "  </tbody>\n",
       "</table>\n",
       "</div>"
      ],
      "text/plain": [
       "Empty DataFrame\n",
       "Columns: [Job_Titles, Company_Name, Experience_Required, Salary, Location]\n",
       "Index: []"
      ]
     },
     "execution_count": 22,
     "metadata": {},
     "output_type": "execute_result"
    }
   ],
   "source": [
    "# preparing the data frame\n",
    "data={\"Job_Titles\":job_titles[:10],\"Company_Name\":company_name[:10],\"Experience_Required\":experience_required[:10],\"Salary\":salary[:10],\"Location\":location[:10]}\n",
    "df=pd.DataFrame(data)\n",
    "df"
   ]
  },
  {
   "cell_type": "markdown",
   "id": "1dbef32f-5a3c-4e8e-8b89-39b1b0420551",
   "metadata": {},
   "source": [
    "Q2: Write a python program to scrape data for “Data Scientist” Job position in “Bangalore” location. You have to scrape the\n",
    "job-title, job-location, company_name, experience_required. You have to scrape first 10 jobs data."
   ]
  },
  {
   "cell_type": "code",
   "execution_count": 23,
   "id": "48c81844-9271-415e-b589-ec67da575ece",
   "metadata": {},
   "outputs": [],
   "source": [
    "driver=webdriver.Chrome()"
   ]
  },
  {
   "cell_type": "code",
   "execution_count": 24,
   "id": "eec874fe-b853-4be3-9991-b2ace85a9a62",
   "metadata": {},
   "outputs": [],
   "source": [
    "driver.get(\"https://www.shine.com/\")"
   ]
  },
  {
   "cell_type": "code",
   "execution_count": 26,
   "id": "a52c8e91-a808-49c7-88f4-7a581cf4d568",
   "metadata": {},
   "outputs": [
    {
     "data": {
      "text/plain": [
       "<selenium.webdriver.remote.webelement.WebElement (session=\"64470fd53eb33e57d441108bead6fe6b\", element=\"f.3A5336CE7914EBD822E8A29FE8888A08.d.3BCA39C2B5A0C345CBDB64A2F6C2A589.e.41\")>"
      ]
     },
     "execution_count": 26,
     "metadata": {},
     "output_type": "execute_result"
    }
   ],
   "source": [
    "job_search=driver.find_element(By.XPATH,'//input[@class=\"form-control  \"]')\n",
    "job_search"
   ]
  },
  {
   "cell_type": "code",
   "execution_count": 27,
   "id": "3636a748-6e89-4b30-b722-9b0fa1877a20",
   "metadata": {},
   "outputs": [],
   "source": [
    "job_search.send_keys(\"Data Scientist\")"
   ]
  },
  {
   "cell_type": "code",
   "execution_count": 28,
   "id": "009941f4-2771-4342-82cc-8fdecd8b10ce",
   "metadata": {},
   "outputs": [
    {
     "data": {
      "text/plain": [
       "<selenium.webdriver.remote.webelement.WebElement (session=\"64470fd53eb33e57d441108bead6fe6b\", element=\"f.3A5336CE7914EBD822E8A29FE8888A08.d.3BCA39C2B5A0C345CBDB64A2F6C2A589.e.43\")>"
      ]
     },
     "execution_count": 28,
     "metadata": {},
     "output_type": "execute_result"
    }
   ],
   "source": [
    "location_search=driver.find_element(By.XPATH,'//input[@name=\"id_loc\"]')\n",
    "location_search"
   ]
  },
  {
   "cell_type": "code",
   "execution_count": 29,
   "id": "af0b0ba9-2ea8-4ba1-b873-b2a5c2f5bc4c",
   "metadata": {},
   "outputs": [],
   "source": [
    "location_search.send_keys(\"Bangalore\")"
   ]
  },
  {
   "cell_type": "code",
   "execution_count": 31,
   "id": "43c4799d-adb3-4c86-b5fd-391afb282ede",
   "metadata": {
    "scrolled": true
   },
   "outputs": [],
   "source": [
    "search=driver.find_element(By.XPATH,'//button[@class=\" btn btn-secondary undefined\"]')\n",
    "search.click()"
   ]
  },
  {
   "cell_type": "code",
   "execution_count": 32,
   "id": "7ae666ce-dffe-4701-bf72-612e164618b9",
   "metadata": {},
   "outputs": [
    {
     "data": {
      "text/plain": [
       "[<selenium.webdriver.remote.webelement.WebElement (session=\"64470fd53eb33e57d441108bead6fe6b\", element=\"f.3A5336CE7914EBD822E8A29FE8888A08.d.A53227B694781B88C331F075252CA956.e.10413\")>,\n",
       " <selenium.webdriver.remote.webelement.WebElement (session=\"64470fd53eb33e57d441108bead6fe6b\", element=\"f.3A5336CE7914EBD822E8A29FE8888A08.d.A53227B694781B88C331F075252CA956.e.10414\")>,\n",
       " <selenium.webdriver.remote.webelement.WebElement (session=\"64470fd53eb33e57d441108bead6fe6b\", element=\"f.3A5336CE7914EBD822E8A29FE8888A08.d.A53227B694781B88C331F075252CA956.e.10415\")>,\n",
       " <selenium.webdriver.remote.webelement.WebElement (session=\"64470fd53eb33e57d441108bead6fe6b\", element=\"f.3A5336CE7914EBD822E8A29FE8888A08.d.A53227B694781B88C331F075252CA956.e.10416\")>,\n",
       " <selenium.webdriver.remote.webelement.WebElement (session=\"64470fd53eb33e57d441108bead6fe6b\", element=\"f.3A5336CE7914EBD822E8A29FE8888A08.d.A53227B694781B88C331F075252CA956.e.10417\")>,\n",
       " <selenium.webdriver.remote.webelement.WebElement (session=\"64470fd53eb33e57d441108bead6fe6b\", element=\"f.3A5336CE7914EBD822E8A29FE8888A08.d.A53227B694781B88C331F075252CA956.e.10418\")>,\n",
       " <selenium.webdriver.remote.webelement.WebElement (session=\"64470fd53eb33e57d441108bead6fe6b\", element=\"f.3A5336CE7914EBD822E8A29FE8888A08.d.A53227B694781B88C331F075252CA956.e.10419\")>,\n",
       " <selenium.webdriver.remote.webelement.WebElement (session=\"64470fd53eb33e57d441108bead6fe6b\", element=\"f.3A5336CE7914EBD822E8A29FE8888A08.d.A53227B694781B88C331F075252CA956.e.10420\")>,\n",
       " <selenium.webdriver.remote.webelement.WebElement (session=\"64470fd53eb33e57d441108bead6fe6b\", element=\"f.3A5336CE7914EBD822E8A29FE8888A08.d.A53227B694781B88C331F075252CA956.e.10421\")>,\n",
       " <selenium.webdriver.remote.webelement.WebElement (session=\"64470fd53eb33e57d441108bead6fe6b\", element=\"f.3A5336CE7914EBD822E8A29FE8888A08.d.A53227B694781B88C331F075252CA956.e.10422\")>,\n",
       " <selenium.webdriver.remote.webelement.WebElement (session=\"64470fd53eb33e57d441108bead6fe6b\", element=\"f.3A5336CE7914EBD822E8A29FE8888A08.d.A53227B694781B88C331F075252CA956.e.10423\")>,\n",
       " <selenium.webdriver.remote.webelement.WebElement (session=\"64470fd53eb33e57d441108bead6fe6b\", element=\"f.3A5336CE7914EBD822E8A29FE8888A08.d.A53227B694781B88C331F075252CA956.e.10424\")>,\n",
       " <selenium.webdriver.remote.webelement.WebElement (session=\"64470fd53eb33e57d441108bead6fe6b\", element=\"f.3A5336CE7914EBD822E8A29FE8888A08.d.A53227B694781B88C331F075252CA956.e.10425\")>,\n",
       " <selenium.webdriver.remote.webelement.WebElement (session=\"64470fd53eb33e57d441108bead6fe6b\", element=\"f.3A5336CE7914EBD822E8A29FE8888A08.d.A53227B694781B88C331F075252CA956.e.10426\")>,\n",
       " <selenium.webdriver.remote.webelement.WebElement (session=\"64470fd53eb33e57d441108bead6fe6b\", element=\"f.3A5336CE7914EBD822E8A29FE8888A08.d.A53227B694781B88C331F075252CA956.e.10427\")>,\n",
       " <selenium.webdriver.remote.webelement.WebElement (session=\"64470fd53eb33e57d441108bead6fe6b\", element=\"f.3A5336CE7914EBD822E8A29FE8888A08.d.A53227B694781B88C331F075252CA956.e.10428\")>,\n",
       " <selenium.webdriver.remote.webelement.WebElement (session=\"64470fd53eb33e57d441108bead6fe6b\", element=\"f.3A5336CE7914EBD822E8A29FE8888A08.d.A53227B694781B88C331F075252CA956.e.10429\")>,\n",
       " <selenium.webdriver.remote.webelement.WebElement (session=\"64470fd53eb33e57d441108bead6fe6b\", element=\"f.3A5336CE7914EBD822E8A29FE8888A08.d.A53227B694781B88C331F075252CA956.e.10430\")>,\n",
       " <selenium.webdriver.remote.webelement.WebElement (session=\"64470fd53eb33e57d441108bead6fe6b\", element=\"f.3A5336CE7914EBD822E8A29FE8888A08.d.A53227B694781B88C331F075252CA956.e.10431\")>,\n",
       " <selenium.webdriver.remote.webelement.WebElement (session=\"64470fd53eb33e57d441108bead6fe6b\", element=\"f.3A5336CE7914EBD822E8A29FE8888A08.d.A53227B694781B88C331F075252CA956.e.10432\")>]"
      ]
     },
     "execution_count": 32,
     "metadata": {},
     "output_type": "execute_result"
    }
   ],
   "source": [
    "# Extracting the job titles\n",
    "job_tags=driver.find_elements(By.XPATH,'//strong[@class=\"jobCard_pReplaceH2__xWmHg\"]')\n",
    "job_tags"
   ]
  },
  {
   "cell_type": "code",
   "execution_count": 33,
   "id": "7ea364c8-ffbd-4184-9da5-69873f6d30a5",
   "metadata": {},
   "outputs": [
    {
     "data": {
      "text/plain": [
       "['Lead Data Scientist',\n",
       " 'Data Scientist',\n",
       " 'Data Scientist',\n",
       " 'Data Scientist',\n",
       " 'Data Scientist',\n",
       " 'Data Science Analytics',\n",
       " 'Data Science Manager',\n",
       " 'Data Analyst',\n",
       " 'Data Management Team Leader',\n",
       " 'Opening for HR Analytics Power BI, Data Anlytics']"
      ]
     },
     "execution_count": 33,
     "metadata": {},
     "output_type": "execute_result"
    }
   ],
   "source": [
    "# Extracting all the job titles text\n",
    "job_titles=[]\n",
    "for i in job_tags:\n",
    "    job_titles.append(i.text)\n",
    "\n",
    "job_titles[:10]"
   ]
  },
  {
   "cell_type": "code",
   "execution_count": 34,
   "id": "6e0d9b65-cdcd-480c-800d-7b5470479f5e",
   "metadata": {},
   "outputs": [
    {
     "data": {
      "text/plain": [
       "[<selenium.webdriver.remote.webelement.WebElement (session=\"64470fd53eb33e57d441108bead6fe6b\", element=\"f.3A5336CE7914EBD822E8A29FE8888A08.d.A53227B694781B88C331F075252CA956.e.10433\")>,\n",
       " <selenium.webdriver.remote.webelement.WebElement (session=\"64470fd53eb33e57d441108bead6fe6b\", element=\"f.3A5336CE7914EBD822E8A29FE8888A08.d.A53227B694781B88C331F075252CA956.e.10434\")>,\n",
       " <selenium.webdriver.remote.webelement.WebElement (session=\"64470fd53eb33e57d441108bead6fe6b\", element=\"f.3A5336CE7914EBD822E8A29FE8888A08.d.A53227B694781B88C331F075252CA956.e.10435\")>,\n",
       " <selenium.webdriver.remote.webelement.WebElement (session=\"64470fd53eb33e57d441108bead6fe6b\", element=\"f.3A5336CE7914EBD822E8A29FE8888A08.d.A53227B694781B88C331F075252CA956.e.10436\")>,\n",
       " <selenium.webdriver.remote.webelement.WebElement (session=\"64470fd53eb33e57d441108bead6fe6b\", element=\"f.3A5336CE7914EBD822E8A29FE8888A08.d.A53227B694781B88C331F075252CA956.e.10437\")>,\n",
       " <selenium.webdriver.remote.webelement.WebElement (session=\"64470fd53eb33e57d441108bead6fe6b\", element=\"f.3A5336CE7914EBD822E8A29FE8888A08.d.A53227B694781B88C331F075252CA956.e.10438\")>,\n",
       " <selenium.webdriver.remote.webelement.WebElement (session=\"64470fd53eb33e57d441108bead6fe6b\", element=\"f.3A5336CE7914EBD822E8A29FE8888A08.d.A53227B694781B88C331F075252CA956.e.10439\")>,\n",
       " <selenium.webdriver.remote.webelement.WebElement (session=\"64470fd53eb33e57d441108bead6fe6b\", element=\"f.3A5336CE7914EBD822E8A29FE8888A08.d.A53227B694781B88C331F075252CA956.e.10440\")>,\n",
       " <selenium.webdriver.remote.webelement.WebElement (session=\"64470fd53eb33e57d441108bead6fe6b\", element=\"f.3A5336CE7914EBD822E8A29FE8888A08.d.A53227B694781B88C331F075252CA956.e.10441\")>,\n",
       " <selenium.webdriver.remote.webelement.WebElement (session=\"64470fd53eb33e57d441108bead6fe6b\", element=\"f.3A5336CE7914EBD822E8A29FE8888A08.d.A53227B694781B88C331F075252CA956.e.10442\")>,\n",
       " <selenium.webdriver.remote.webelement.WebElement (session=\"64470fd53eb33e57d441108bead6fe6b\", element=\"f.3A5336CE7914EBD822E8A29FE8888A08.d.A53227B694781B88C331F075252CA956.e.10443\")>,\n",
       " <selenium.webdriver.remote.webelement.WebElement (session=\"64470fd53eb33e57d441108bead6fe6b\", element=\"f.3A5336CE7914EBD822E8A29FE8888A08.d.A53227B694781B88C331F075252CA956.e.10444\")>,\n",
       " <selenium.webdriver.remote.webelement.WebElement (session=\"64470fd53eb33e57d441108bead6fe6b\", element=\"f.3A5336CE7914EBD822E8A29FE8888A08.d.A53227B694781B88C331F075252CA956.e.10445\")>,\n",
       " <selenium.webdriver.remote.webelement.WebElement (session=\"64470fd53eb33e57d441108bead6fe6b\", element=\"f.3A5336CE7914EBD822E8A29FE8888A08.d.A53227B694781B88C331F075252CA956.e.10446\")>,\n",
       " <selenium.webdriver.remote.webelement.WebElement (session=\"64470fd53eb33e57d441108bead6fe6b\", element=\"f.3A5336CE7914EBD822E8A29FE8888A08.d.A53227B694781B88C331F075252CA956.e.10447\")>,\n",
       " <selenium.webdriver.remote.webelement.WebElement (session=\"64470fd53eb33e57d441108bead6fe6b\", element=\"f.3A5336CE7914EBD822E8A29FE8888A08.d.A53227B694781B88C331F075252CA956.e.10448\")>,\n",
       " <selenium.webdriver.remote.webelement.WebElement (session=\"64470fd53eb33e57d441108bead6fe6b\", element=\"f.3A5336CE7914EBD822E8A29FE8888A08.d.A53227B694781B88C331F075252CA956.e.10449\")>,\n",
       " <selenium.webdriver.remote.webelement.WebElement (session=\"64470fd53eb33e57d441108bead6fe6b\", element=\"f.3A5336CE7914EBD822E8A29FE8888A08.d.A53227B694781B88C331F075252CA956.e.10450\")>,\n",
       " <selenium.webdriver.remote.webelement.WebElement (session=\"64470fd53eb33e57d441108bead6fe6b\", element=\"f.3A5336CE7914EBD822E8A29FE8888A08.d.A53227B694781B88C331F075252CA956.e.10451\")>,\n",
       " <selenium.webdriver.remote.webelement.WebElement (session=\"64470fd53eb33e57d441108bead6fe6b\", element=\"f.3A5336CE7914EBD822E8A29FE8888A08.d.A53227B694781B88C331F075252CA956.e.10452\")>]"
      ]
     },
     "execution_count": 34,
     "metadata": {},
     "output_type": "execute_result"
    }
   ],
   "source": [
    "# Extracting all the location tags\n",
    "loc_tag=driver.find_elements(By.XPATH,'//div[@class=\"jobCard_jobCard_lists_item__YxRkV jobCard_locationIcon__zrWt2\"]')\n",
    "loc_tag"
   ]
  },
  {
   "cell_type": "code",
   "execution_count": 35,
   "id": "9495bd2f-3794-4f35-a912-868f1b60ab17",
   "metadata": {},
   "outputs": [
    {
     "data": {
      "text/plain": [
       "['Bangalore\\n+8',\n",
       " 'Bangalore\\n+9',\n",
       " 'Bangalore',\n",
       " 'Bangalore\\n+2',\n",
       " 'Bangalore\\n+9',\n",
       " 'Bangalore\\n+7',\n",
       " 'Bangalore\\n+7',\n",
       " 'Bangalore\\n+4',\n",
       " 'Bangalore\\n+9',\n",
       " 'Bangalore']"
      ]
     },
     "execution_count": 35,
     "metadata": {},
     "output_type": "execute_result"
    }
   ],
   "source": [
    "job_location=[]\n",
    "for i in loc_tag:\n",
    "    job_location.append(i.text)\n",
    "\n",
    "job_location[:10]"
   ]
  },
  {
   "cell_type": "code",
   "execution_count": 36,
   "id": "3b0be191-f597-44f8-b5cc-cd8704ec5efe",
   "metadata": {},
   "outputs": [
    {
     "data": {
      "text/plain": [
       "[<selenium.webdriver.remote.webelement.WebElement (session=\"64470fd53eb33e57d441108bead6fe6b\", element=\"f.3A5336CE7914EBD822E8A29FE8888A08.d.A53227B694781B88C331F075252CA956.e.10460\")>,\n",
       " <selenium.webdriver.remote.webelement.WebElement (session=\"64470fd53eb33e57d441108bead6fe6b\", element=\"f.3A5336CE7914EBD822E8A29FE8888A08.d.A53227B694781B88C331F075252CA956.e.10461\")>,\n",
       " <selenium.webdriver.remote.webelement.WebElement (session=\"64470fd53eb33e57d441108bead6fe6b\", element=\"f.3A5336CE7914EBD822E8A29FE8888A08.d.A53227B694781B88C331F075252CA956.e.10462\")>,\n",
       " <selenium.webdriver.remote.webelement.WebElement (session=\"64470fd53eb33e57d441108bead6fe6b\", element=\"f.3A5336CE7914EBD822E8A29FE8888A08.d.A53227B694781B88C331F075252CA956.e.10463\")>,\n",
       " <selenium.webdriver.remote.webelement.WebElement (session=\"64470fd53eb33e57d441108bead6fe6b\", element=\"f.3A5336CE7914EBD822E8A29FE8888A08.d.A53227B694781B88C331F075252CA956.e.10464\")>,\n",
       " <selenium.webdriver.remote.webelement.WebElement (session=\"64470fd53eb33e57d441108bead6fe6b\", element=\"f.3A5336CE7914EBD822E8A29FE8888A08.d.A53227B694781B88C331F075252CA956.e.10465\")>,\n",
       " <selenium.webdriver.remote.webelement.WebElement (session=\"64470fd53eb33e57d441108bead6fe6b\", element=\"f.3A5336CE7914EBD822E8A29FE8888A08.d.A53227B694781B88C331F075252CA956.e.10466\")>,\n",
       " <selenium.webdriver.remote.webelement.WebElement (session=\"64470fd53eb33e57d441108bead6fe6b\", element=\"f.3A5336CE7914EBD822E8A29FE8888A08.d.A53227B694781B88C331F075252CA956.e.10467\")>,\n",
       " <selenium.webdriver.remote.webelement.WebElement (session=\"64470fd53eb33e57d441108bead6fe6b\", element=\"f.3A5336CE7914EBD822E8A29FE8888A08.d.A53227B694781B88C331F075252CA956.e.10468\")>,\n",
       " <selenium.webdriver.remote.webelement.WebElement (session=\"64470fd53eb33e57d441108bead6fe6b\", element=\"f.3A5336CE7914EBD822E8A29FE8888A08.d.A53227B694781B88C331F075252CA956.e.10469\")>,\n",
       " <selenium.webdriver.remote.webelement.WebElement (session=\"64470fd53eb33e57d441108bead6fe6b\", element=\"f.3A5336CE7914EBD822E8A29FE8888A08.d.A53227B694781B88C331F075252CA956.e.10470\")>,\n",
       " <selenium.webdriver.remote.webelement.WebElement (session=\"64470fd53eb33e57d441108bead6fe6b\", element=\"f.3A5336CE7914EBD822E8A29FE8888A08.d.A53227B694781B88C331F075252CA956.e.10471\")>,\n",
       " <selenium.webdriver.remote.webelement.WebElement (session=\"64470fd53eb33e57d441108bead6fe6b\", element=\"f.3A5336CE7914EBD822E8A29FE8888A08.d.A53227B694781B88C331F075252CA956.e.10472\")>,\n",
       " <selenium.webdriver.remote.webelement.WebElement (session=\"64470fd53eb33e57d441108bead6fe6b\", element=\"f.3A5336CE7914EBD822E8A29FE8888A08.d.A53227B694781B88C331F075252CA956.e.10473\")>,\n",
       " <selenium.webdriver.remote.webelement.WebElement (session=\"64470fd53eb33e57d441108bead6fe6b\", element=\"f.3A5336CE7914EBD822E8A29FE8888A08.d.A53227B694781B88C331F075252CA956.e.10474\")>,\n",
       " <selenium.webdriver.remote.webelement.WebElement (session=\"64470fd53eb33e57d441108bead6fe6b\", element=\"f.3A5336CE7914EBD822E8A29FE8888A08.d.A53227B694781B88C331F075252CA956.e.10475\")>,\n",
       " <selenium.webdriver.remote.webelement.WebElement (session=\"64470fd53eb33e57d441108bead6fe6b\", element=\"f.3A5336CE7914EBD822E8A29FE8888A08.d.A53227B694781B88C331F075252CA956.e.10476\")>,\n",
       " <selenium.webdriver.remote.webelement.WebElement (session=\"64470fd53eb33e57d441108bead6fe6b\", element=\"f.3A5336CE7914EBD822E8A29FE8888A08.d.A53227B694781B88C331F075252CA956.e.10477\")>,\n",
       " <selenium.webdriver.remote.webelement.WebElement (session=\"64470fd53eb33e57d441108bead6fe6b\", element=\"f.3A5336CE7914EBD822E8A29FE8888A08.d.A53227B694781B88C331F075252CA956.e.10478\")>,\n",
       " <selenium.webdriver.remote.webelement.WebElement (session=\"64470fd53eb33e57d441108bead6fe6b\", element=\"f.3A5336CE7914EBD822E8A29FE8888A08.d.A53227B694781B88C331F075252CA956.e.10479\")>]"
      ]
     },
     "execution_count": 36,
     "metadata": {},
     "output_type": "execute_result"
    }
   ],
   "source": [
    "# Extracting all company tags\n",
    "com_tag=driver.find_elements(By.XPATH,'//div[@class=\"jobCard_jobCard_cName__mYnow\"]')\n",
    "com_tag"
   ]
  },
  {
   "cell_type": "code",
   "execution_count": 37,
   "id": "528e9a9c-70c4-49ca-bcc3-22e12a9e1812",
   "metadata": {},
   "outputs": [
    {
     "data": {
      "text/plain": [
       "['spento papers (india) llp',\n",
       " 'future solution centre',\n",
       " 'eliterecruitments hiring for global...',\n",
       " \"the christopher's consulting and re...\",\n",
       " 'divya staffing solution',\n",
       " 'mackenzie modern it solutions priva...',\n",
       " 'mackenzie modern it solutions priva...',\n",
       " 'aryan technology',\n",
       " 'overnet trading private limited',\n",
       " 'personal network.']"
      ]
     },
     "execution_count": 37,
     "metadata": {},
     "output_type": "execute_result"
    }
   ],
   "source": [
    "# Extracting all company names\n",
    "company_name=[]\n",
    "for i in com_tag:\n",
    "    company_name.append(i.text)\n",
    "\n",
    "company_name[:10]"
   ]
  },
  {
   "cell_type": "code",
   "execution_count": 38,
   "id": "59b73148-f9c0-4d69-870c-a241cf5131da",
   "metadata": {},
   "outputs": [
    {
     "data": {
      "text/plain": [
       "[<selenium.webdriver.remote.webelement.WebElement (session=\"64470fd53eb33e57d441108bead6fe6b\", element=\"f.3A5336CE7914EBD822E8A29FE8888A08.d.A53227B694781B88C331F075252CA956.e.10480\")>,\n",
       " <selenium.webdriver.remote.webelement.WebElement (session=\"64470fd53eb33e57d441108bead6fe6b\", element=\"f.3A5336CE7914EBD822E8A29FE8888A08.d.A53227B694781B88C331F075252CA956.e.10481\")>,\n",
       " <selenium.webdriver.remote.webelement.WebElement (session=\"64470fd53eb33e57d441108bead6fe6b\", element=\"f.3A5336CE7914EBD822E8A29FE8888A08.d.A53227B694781B88C331F075252CA956.e.10482\")>,\n",
       " <selenium.webdriver.remote.webelement.WebElement (session=\"64470fd53eb33e57d441108bead6fe6b\", element=\"f.3A5336CE7914EBD822E8A29FE8888A08.d.A53227B694781B88C331F075252CA956.e.10483\")>,\n",
       " <selenium.webdriver.remote.webelement.WebElement (session=\"64470fd53eb33e57d441108bead6fe6b\", element=\"f.3A5336CE7914EBD822E8A29FE8888A08.d.A53227B694781B88C331F075252CA956.e.10484\")>,\n",
       " <selenium.webdriver.remote.webelement.WebElement (session=\"64470fd53eb33e57d441108bead6fe6b\", element=\"f.3A5336CE7914EBD822E8A29FE8888A08.d.A53227B694781B88C331F075252CA956.e.10485\")>,\n",
       " <selenium.webdriver.remote.webelement.WebElement (session=\"64470fd53eb33e57d441108bead6fe6b\", element=\"f.3A5336CE7914EBD822E8A29FE8888A08.d.A53227B694781B88C331F075252CA956.e.10486\")>,\n",
       " <selenium.webdriver.remote.webelement.WebElement (session=\"64470fd53eb33e57d441108bead6fe6b\", element=\"f.3A5336CE7914EBD822E8A29FE8888A08.d.A53227B694781B88C331F075252CA956.e.10487\")>,\n",
       " <selenium.webdriver.remote.webelement.WebElement (session=\"64470fd53eb33e57d441108bead6fe6b\", element=\"f.3A5336CE7914EBD822E8A29FE8888A08.d.A53227B694781B88C331F075252CA956.e.10488\")>,\n",
       " <selenium.webdriver.remote.webelement.WebElement (session=\"64470fd53eb33e57d441108bead6fe6b\", element=\"f.3A5336CE7914EBD822E8A29FE8888A08.d.A53227B694781B88C331F075252CA956.e.10489\")>,\n",
       " <selenium.webdriver.remote.webelement.WebElement (session=\"64470fd53eb33e57d441108bead6fe6b\", element=\"f.3A5336CE7914EBD822E8A29FE8888A08.d.A53227B694781B88C331F075252CA956.e.10490\")>,\n",
       " <selenium.webdriver.remote.webelement.WebElement (session=\"64470fd53eb33e57d441108bead6fe6b\", element=\"f.3A5336CE7914EBD822E8A29FE8888A08.d.A53227B694781B88C331F075252CA956.e.10491\")>,\n",
       " <selenium.webdriver.remote.webelement.WebElement (session=\"64470fd53eb33e57d441108bead6fe6b\", element=\"f.3A5336CE7914EBD822E8A29FE8888A08.d.A53227B694781B88C331F075252CA956.e.10492\")>,\n",
       " <selenium.webdriver.remote.webelement.WebElement (session=\"64470fd53eb33e57d441108bead6fe6b\", element=\"f.3A5336CE7914EBD822E8A29FE8888A08.d.A53227B694781B88C331F075252CA956.e.10493\")>,\n",
       " <selenium.webdriver.remote.webelement.WebElement (session=\"64470fd53eb33e57d441108bead6fe6b\", element=\"f.3A5336CE7914EBD822E8A29FE8888A08.d.A53227B694781B88C331F075252CA956.e.10494\")>,\n",
       " <selenium.webdriver.remote.webelement.WebElement (session=\"64470fd53eb33e57d441108bead6fe6b\", element=\"f.3A5336CE7914EBD822E8A29FE8888A08.d.A53227B694781B88C331F075252CA956.e.10495\")>,\n",
       " <selenium.webdriver.remote.webelement.WebElement (session=\"64470fd53eb33e57d441108bead6fe6b\", element=\"f.3A5336CE7914EBD822E8A29FE8888A08.d.A53227B694781B88C331F075252CA956.e.10496\")>,\n",
       " <selenium.webdriver.remote.webelement.WebElement (session=\"64470fd53eb33e57d441108bead6fe6b\", element=\"f.3A5336CE7914EBD822E8A29FE8888A08.d.A53227B694781B88C331F075252CA956.e.10497\")>,\n",
       " <selenium.webdriver.remote.webelement.WebElement (session=\"64470fd53eb33e57d441108bead6fe6b\", element=\"f.3A5336CE7914EBD822E8A29FE8888A08.d.A53227B694781B88C331F075252CA956.e.10498\")>,\n",
       " <selenium.webdriver.remote.webelement.WebElement (session=\"64470fd53eb33e57d441108bead6fe6b\", element=\"f.3A5336CE7914EBD822E8A29FE8888A08.d.A53227B694781B88C331F075252CA956.e.10499\")>]"
      ]
     },
     "execution_count": 38,
     "metadata": {},
     "output_type": "execute_result"
    }
   ],
   "source": [
    "# Extracting the tags of experience\n",
    "exp_tag=driver.find_elements(By.XPATH,'//div[@class=\" jobCard_jobCard_lists_item__YxRkV jobCard_jobIcon__3FB1t\"]')\n",
    "exp_tag"
   ]
  },
  {
   "cell_type": "code",
   "execution_count": 39,
   "id": "98018fd4-a739-450d-9288-ef7b185f70a1",
   "metadata": {},
   "outputs": [
    {
     "data": {
      "text/plain": [
       "['12 to 22 Yrs',\n",
       " '2 to 7 Yrs',\n",
       " '4 to 8 Yrs',\n",
       " '0 to 2 Yrs',\n",
       " '0 to 4 Yrs',\n",
       " '5 to 8 Yrs',\n",
       " '3 to 8 Yrs',\n",
       " '0 to 4 Yrs',\n",
       " '0 to 4 Yrs',\n",
       " '3 to 8 Yrs']"
      ]
     },
     "execution_count": 39,
     "metadata": {},
     "output_type": "execute_result"
    }
   ],
   "source": [
    "# Extracting the experience text\n",
    "experience_required=[]\n",
    "for i in exp_tag:\n",
    "    experience_required.append(i.text)\n",
    "\n",
    "experience_required[:10]"
   ]
  },
  {
   "cell_type": "code",
   "execution_count": 40,
   "id": "47d33137-7912-4aac-8807-eda8eeab1148",
   "metadata": {},
   "outputs": [
    {
     "name": "stdout",
     "output_type": "stream",
     "text": [
      "10 10 10 10\n"
     ]
    }
   ],
   "source": [
    "print(len(job_titles[:10]),len(job_location[:10]),len(company_name[:10]),len(experience_required[:10]))"
   ]
  },
  {
   "cell_type": "code",
   "execution_count": 41,
   "id": "1cefa6ed-4e55-4c20-9b63-6a68efea681a",
   "metadata": {},
   "outputs": [
    {
     "data": {
      "text/html": [
       "<div>\n",
       "<style scoped>\n",
       "    .dataframe tbody tr th:only-of-type {\n",
       "        vertical-align: middle;\n",
       "    }\n",
       "\n",
       "    .dataframe tbody tr th {\n",
       "        vertical-align: top;\n",
       "    }\n",
       "\n",
       "    .dataframe thead th {\n",
       "        text-align: right;\n",
       "    }\n",
       "</style>\n",
       "<table border=\"1\" class=\"dataframe\">\n",
       "  <thead>\n",
       "    <tr style=\"text-align: right;\">\n",
       "      <th></th>\n",
       "      <th>Job_Title</th>\n",
       "      <th>Job_Location</th>\n",
       "      <th>Company_Name</th>\n",
       "      <th>Experience_Required</th>\n",
       "    </tr>\n",
       "  </thead>\n",
       "  <tbody>\n",
       "    <tr>\n",
       "      <th>0</th>\n",
       "      <td>Lead Data Scientist</td>\n",
       "      <td>Bangalore\\n+8</td>\n",
       "      <td>spento papers (india) llp</td>\n",
       "      <td>12 to 22 Yrs</td>\n",
       "    </tr>\n",
       "    <tr>\n",
       "      <th>1</th>\n",
       "      <td>Data Scientist</td>\n",
       "      <td>Bangalore\\n+9</td>\n",
       "      <td>future solution centre</td>\n",
       "      <td>2 to 7 Yrs</td>\n",
       "    </tr>\n",
       "    <tr>\n",
       "      <th>2</th>\n",
       "      <td>Data Scientist</td>\n",
       "      <td>Bangalore</td>\n",
       "      <td>eliterecruitments hiring for global...</td>\n",
       "      <td>4 to 8 Yrs</td>\n",
       "    </tr>\n",
       "    <tr>\n",
       "      <th>3</th>\n",
       "      <td>Data Scientist</td>\n",
       "      <td>Bangalore\\n+2</td>\n",
       "      <td>the christopher's consulting and re...</td>\n",
       "      <td>0 to 2 Yrs</td>\n",
       "    </tr>\n",
       "    <tr>\n",
       "      <th>4</th>\n",
       "      <td>Data Scientist</td>\n",
       "      <td>Bangalore\\n+9</td>\n",
       "      <td>divya staffing solution</td>\n",
       "      <td>0 to 4 Yrs</td>\n",
       "    </tr>\n",
       "    <tr>\n",
       "      <th>5</th>\n",
       "      <td>Data Science Analytics</td>\n",
       "      <td>Bangalore\\n+7</td>\n",
       "      <td>mackenzie modern it solutions priva...</td>\n",
       "      <td>5 to 8 Yrs</td>\n",
       "    </tr>\n",
       "    <tr>\n",
       "      <th>6</th>\n",
       "      <td>Data Science Manager</td>\n",
       "      <td>Bangalore\\n+7</td>\n",
       "      <td>mackenzie modern it solutions priva...</td>\n",
       "      <td>3 to 8 Yrs</td>\n",
       "    </tr>\n",
       "    <tr>\n",
       "      <th>7</th>\n",
       "      <td>Data Analyst</td>\n",
       "      <td>Bangalore\\n+4</td>\n",
       "      <td>aryan technology</td>\n",
       "      <td>0 to 4 Yrs</td>\n",
       "    </tr>\n",
       "    <tr>\n",
       "      <th>8</th>\n",
       "      <td>Data Management Team Leader</td>\n",
       "      <td>Bangalore\\n+9</td>\n",
       "      <td>overnet trading private limited</td>\n",
       "      <td>0 to 4 Yrs</td>\n",
       "    </tr>\n",
       "    <tr>\n",
       "      <th>9</th>\n",
       "      <td>Opening for HR Analytics Power BI, Data Anlytics</td>\n",
       "      <td>Bangalore</td>\n",
       "      <td>personal network.</td>\n",
       "      <td>3 to 8 Yrs</td>\n",
       "    </tr>\n",
       "  </tbody>\n",
       "</table>\n",
       "</div>"
      ],
      "text/plain": [
       "                                          Job_Title   Job_Location  \\\n",
       "0                               Lead Data Scientist  Bangalore\\n+8   \n",
       "1                                    Data Scientist  Bangalore\\n+9   \n",
       "2                                    Data Scientist      Bangalore   \n",
       "3                                    Data Scientist  Bangalore\\n+2   \n",
       "4                                    Data Scientist  Bangalore\\n+9   \n",
       "5                            Data Science Analytics  Bangalore\\n+7   \n",
       "6                              Data Science Manager  Bangalore\\n+7   \n",
       "7                                      Data Analyst  Bangalore\\n+4   \n",
       "8                       Data Management Team Leader  Bangalore\\n+9   \n",
       "9  Opening for HR Analytics Power BI, Data Anlytics      Bangalore   \n",
       "\n",
       "                             Company_Name Experience_Required  \n",
       "0               spento papers (india) llp        12 to 22 Yrs  \n",
       "1                  future solution centre          2 to 7 Yrs  \n",
       "2  eliterecruitments hiring for global...          4 to 8 Yrs  \n",
       "3  the christopher's consulting and re...          0 to 2 Yrs  \n",
       "4                 divya staffing solution          0 to 4 Yrs  \n",
       "5  mackenzie modern it solutions priva...          5 to 8 Yrs  \n",
       "6  mackenzie modern it solutions priva...          3 to 8 Yrs  \n",
       "7                        aryan technology          0 to 4 Yrs  \n",
       "8         overnet trading private limited          0 to 4 Yrs  \n",
       "9                       personal network.          3 to 8 Yrs  "
      ]
     },
     "execution_count": 41,
     "metadata": {},
     "output_type": "execute_result"
    }
   ],
   "source": [
    "data={\"Job_Title\":job_titles[:10],\"Job_Location\":job_location[:10],\"Company_Name\":company_name[:10],\"Experience_Required\":experience_required[:10]}\n",
    "df=pd.DataFrame(data)\n",
    "df"
   ]
  },
  {
   "cell_type": "markdown",
   "id": "e2be75fd-732c-4391-bf58-6c5f561d1e25",
   "metadata": {},
   "source": [
    "Q3: Scrape 100 reviews data from flipkart.com for iphone11 phone. You have to go the link:\n",
    "https://www.flipkart.com/apple-iphone-11-black-64-gb/product-\n",
    "reviews/itm4e5041ba101fd?pid=MOBFWQ6BXGJCEYNY&lid=LSTMOBFWQ6BXGJCEYNYZXSHRJ&marketplace=F\n",
    "LIPKART.As shown in the above page you have to scrape the tick marked attributes. These are:\n",
    "1. Rating\n",
    "2. Review summary\n",
    "3. Full review\n",
    "4. You have to scrape this data for first 100reviews."
   ]
  },
  {
   "cell_type": "code",
   "execution_count": 42,
   "id": "4dd71d2c-1dcc-4e71-8e07-6e8311ff50f0",
   "metadata": {},
   "outputs": [],
   "source": [
    "import time"
   ]
  },
  {
   "cell_type": "code",
   "execution_count": 43,
   "id": "2165d532-0304-4ca3-a34d-01b795e29e7a",
   "metadata": {},
   "outputs": [],
   "source": [
    "driver=webdriver.Chrome()"
   ]
  },
  {
   "cell_type": "code",
   "execution_count": 44,
   "id": "0d2a14a0-0c7c-4a27-b066-3fe171d8d697",
   "metadata": {},
   "outputs": [],
   "source": [
    "driver.get(\"https://www.flipkart.com/apple-iphone-11-black-64-gb/product-reviews/itm4e5041ba101fd?pid=MOBFWQ6BXGJCEYNY&lid=LSTMOBFWQ6BXGJCEYNYZXSHRJ&marketplace=FLIPKART\")"
   ]
  },
  {
   "cell_type": "code",
   "execution_count": 45,
   "id": "31f4eb56-e4a8-4f57-96c4-c33873c19101",
   "metadata": {},
   "outputs": [
    {
     "data": {
      "text/plain": [
       "[<selenium.webdriver.remote.webelement.WebElement (session=\"cd7fa8d3a422c33368f8b3e2415260a7\", element=\"f.286865E24D5942B989FBB1561987EB55.d.FA303976118C8D3A4BCE2AD359480A33.e.7\")>,\n",
       " <selenium.webdriver.remote.webelement.WebElement (session=\"cd7fa8d3a422c33368f8b3e2415260a7\", element=\"f.286865E24D5942B989FBB1561987EB55.d.FA303976118C8D3A4BCE2AD359480A33.e.8\")>,\n",
       " <selenium.webdriver.remote.webelement.WebElement (session=\"cd7fa8d3a422c33368f8b3e2415260a7\", element=\"f.286865E24D5942B989FBB1561987EB55.d.FA303976118C8D3A4BCE2AD359480A33.e.9\")>,\n",
       " <selenium.webdriver.remote.webelement.WebElement (session=\"cd7fa8d3a422c33368f8b3e2415260a7\", element=\"f.286865E24D5942B989FBB1561987EB55.d.FA303976118C8D3A4BCE2AD359480A33.e.10\")>,\n",
       " <selenium.webdriver.remote.webelement.WebElement (session=\"cd7fa8d3a422c33368f8b3e2415260a7\", element=\"f.286865E24D5942B989FBB1561987EB55.d.FA303976118C8D3A4BCE2AD359480A33.e.11\")>,\n",
       " <selenium.webdriver.remote.webelement.WebElement (session=\"cd7fa8d3a422c33368f8b3e2415260a7\", element=\"f.286865E24D5942B989FBB1561987EB55.d.FA303976118C8D3A4BCE2AD359480A33.e.12\")>,\n",
       " <selenium.webdriver.remote.webelement.WebElement (session=\"cd7fa8d3a422c33368f8b3e2415260a7\", element=\"f.286865E24D5942B989FBB1561987EB55.d.FA303976118C8D3A4BCE2AD359480A33.e.13\")>,\n",
       " <selenium.webdriver.remote.webelement.WebElement (session=\"cd7fa8d3a422c33368f8b3e2415260a7\", element=\"f.286865E24D5942B989FBB1561987EB55.d.FA303976118C8D3A4BCE2AD359480A33.e.14\")>,\n",
       " <selenium.webdriver.remote.webelement.WebElement (session=\"cd7fa8d3a422c33368f8b3e2415260a7\", element=\"f.286865E24D5942B989FBB1561987EB55.d.FA303976118C8D3A4BCE2AD359480A33.e.15\")>,\n",
       " <selenium.webdriver.remote.webelement.WebElement (session=\"cd7fa8d3a422c33368f8b3e2415260a7\", element=\"f.286865E24D5942B989FBB1561987EB55.d.FA303976118C8D3A4BCE2AD359480A33.e.16\")>]"
      ]
     },
     "execution_count": 45,
     "metadata": {},
     "output_type": "execute_result"
    }
   ],
   "source": [
    "#extracting the rating tags\n",
    "rating_tag=driver.find_elements(By.XPATH,'//div[@class=\"XQDdHH Ga3i8K\"]')\n",
    "rating_tag"
   ]
  },
  {
   "cell_type": "code",
   "execution_count": 46,
   "id": "e8e35983-c6be-4593-b237-0c25ba668016",
   "metadata": {},
   "outputs": [],
   "source": [
    "rating=[]\n",
    "review_summary=[]\n",
    "full_review=[]\n"
   ]
  },
  {
   "cell_type": "code",
   "execution_count": 47,
   "id": "8bbeea62-d865-4652-bc25-deed0f720778",
   "metadata": {
    "scrolled": true
   },
   "outputs": [],
   "source": [
    "for i in range(0,10):\n",
    "    rat=driver.find_elements(By.XPATH,'//div[@class=\"XQDdHH Ga3i8K\"]')\n",
    "    rs=driver.find_elements(By.XPATH,'//p[@class=\"z9E0IG\"]')\n",
    "    fs=driver.find_elements(By.XPATH,'//div[@class=\"ZmyHeo\"]')\n",
    "\n",
    "    for j in rat:\n",
    "        rating.append(j.text)\n",
    "    rating[:100]\n",
    "\n",
    "    for k in rs:\n",
    "        review_summary.append(k.text)\n",
    "    review_summary[:100]\n",
    "\n",
    "    for m in fs:\n",
    "        full_review.append(m.text)\n",
    "\n",
    "    full_review[:100]\n",
    "\n",
    "    next_button=driver.find_element(By.XPATH,'/html/body/div/div/div[3]/div/div/div[2]/div[13]/div/div')\n",
    "    next_button.click()\n",
    "    time.sleep(2)\n",
    "        \n",
    "\n",
    "        "
   ]
  },
  {
   "cell_type": "code",
   "execution_count": 48,
   "id": "86a2a204-d059-4629-89c5-dd5890eefe36",
   "metadata": {},
   "outputs": [
    {
     "data": {
      "text/plain": [
       "['5',\n",
       " '5',\n",
       " '5',\n",
       " '5',\n",
       " '5',\n",
       " '5',\n",
       " '5',\n",
       " '5',\n",
       " '5',\n",
       " '5',\n",
       " '5',\n",
       " '5',\n",
       " '5',\n",
       " '5',\n",
       " '5',\n",
       " '5',\n",
       " '5',\n",
       " '5',\n",
       " '4',\n",
       " '5',\n",
       " '5',\n",
       " '5',\n",
       " '5',\n",
       " '5',\n",
       " '5',\n",
       " '5',\n",
       " '5',\n",
       " '5',\n",
       " '5',\n",
       " '4',\n",
       " '5',\n",
       " '5',\n",
       " '5',\n",
       " '5',\n",
       " '5',\n",
       " '5',\n",
       " '5',\n",
       " '5',\n",
       " '5',\n",
       " '4',\n",
       " '5',\n",
       " '5',\n",
       " '5',\n",
       " '5',\n",
       " '5',\n",
       " '5',\n",
       " '5',\n",
       " '5',\n",
       " '5',\n",
       " '4',\n",
       " '5',\n",
       " '5',\n",
       " '5',\n",
       " '5',\n",
       " '5',\n",
       " '5',\n",
       " '5',\n",
       " '5',\n",
       " '5',\n",
       " '4',\n",
       " '5',\n",
       " '5',\n",
       " '5',\n",
       " '5',\n",
       " '5',\n",
       " '5',\n",
       " '5',\n",
       " '5',\n",
       " '5',\n",
       " '4',\n",
       " '5',\n",
       " '5',\n",
       " '5',\n",
       " '5',\n",
       " '5',\n",
       " '5',\n",
       " '5',\n",
       " '5',\n",
       " '5',\n",
       " '4',\n",
       " '5',\n",
       " '5',\n",
       " '5',\n",
       " '5',\n",
       " '5',\n",
       " '5',\n",
       " '5',\n",
       " '5',\n",
       " '5',\n",
       " '4',\n",
       " '5',\n",
       " '5',\n",
       " '5',\n",
       " '5',\n",
       " '5',\n",
       " '5',\n",
       " '5',\n",
       " '5',\n",
       " '5',\n",
       " '4']"
      ]
     },
     "execution_count": 48,
     "metadata": {},
     "output_type": "execute_result"
    }
   ],
   "source": [
    "rating[:100]"
   ]
  },
  {
   "cell_type": "code",
   "execution_count": 49,
   "id": "808a577d-2ffb-4ae9-9f27-50f31ca495f2",
   "metadata": {},
   "outputs": [
    {
     "name": "stdout",
     "output_type": "stream",
     "text": [
      "100 100 100\n"
     ]
    }
   ],
   "source": [
    "print(len(rating[:100]),len(review_summary[:100]),len(full_review[:100]))"
   ]
  },
  {
   "cell_type": "code",
   "execution_count": null,
   "id": "88e835dc-1ed1-4c97-89bf-2fa870a286fa",
   "metadata": {},
   "outputs": [],
   "source": [
    "data={\"Rating\":rating[:100],\"Review_Summary\":review_summary[:100],\"Full_Review\":full_review[:100]}\n",
    "df=pd.DataFrame(data)\n",
    "df"
   ]
  },
  {
   "cell_type": "markdown",
   "id": "dc8bd113-edb5-4b95-b6f2-3fbac5adefd3",
   "metadata": {},
   "source": [
    "Q4: Scrape data for first 100 sneakers you find when you visit flipkart.com and search for “sneakers” in the search\n",
    "field.\n",
    "You have to scrape 3 attributes of each sneaker:\n",
    "1. Brand\n",
    "2. Product Description\n",
    "3. Price\n"
   ]
  },
  {
   "cell_type": "code",
   "execution_count": null,
   "id": "b7b907b9-83b1-4536-8153-8beabcf7a2ed",
   "metadata": {},
   "outputs": [],
   "source": [
    "driver=webdriver.Chrome()"
   ]
  },
  {
   "cell_type": "code",
   "execution_count": null,
   "id": "75db1605-f328-4af9-b3fb-62584ebfe79d",
   "metadata": {
    "scrolled": true
   },
   "outputs": [],
   "source": [
    "driver.get(\"https://www.flipkart.com\")"
   ]
  },
  {
   "cell_type": "code",
   "execution_count": null,
   "id": "877fc144-136e-4a34-b284-dcd2bea282a7",
   "metadata": {},
   "outputs": [],
   "source": [
    "search=driver.find_element(By.XPATH,'//input[@type=\"text\"]')\n",
    "search.send_keys(\"sneakers\")"
   ]
  },
  {
   "cell_type": "code",
   "execution_count": null,
   "id": "7a1f2feb-e8d2-4533-9a78-dce00f04c4e7",
   "metadata": {
    "scrolled": true
   },
   "outputs": [],
   "source": [
    "search_btn=driver.find_element(By.XPATH,'//button[@class=\"_2iLD__\"]')\n",
    "search_btn.click()"
   ]
  },
  {
   "cell_type": "code",
   "execution_count": null,
   "id": "c512a8e2-973c-4dc0-b17e-69eb5e3bb2cd",
   "metadata": {},
   "outputs": [],
   "source": [
    "Brand=[]\n",
    "Product_description=[]\n",
    "Price=[]\n",
    "Discount=[]"
   ]
  },
  {
   "cell_type": "code",
   "execution_count": null,
   "id": "957e5a26-f037-4f0c-81e0-cd766a2e578a",
   "metadata": {},
   "outputs": [],
   "source": [
    "for i in range(0,3):\n",
    "    brand=driver.find_elements(By.XPATH,'//div[@class=\"syl9yP\"]')\n",
    "    product_description=driver.find_elements(By.CLASS_NAME,\"WKTcLC\")\n",
    "    price=driver.find_elements(By.XPATH,'//div[@class=\"Nx9bqj\"]')\n",
    "    discount=driver.find_elements(By.XPATH,'//div[@class=\"UkUFwK\"]')\n",
    "\n",
    "    for i in brand:\n",
    "        Brand.append(i.text)\n",
    "\n",
    "    Brand[:100]\n",
    "\n",
    "    for i in product_description:\n",
    "        Product_description.append(i.text)\n",
    "\n",
    "    Product_description[:100]\n",
    "\n",
    "    for i in price:\n",
    "        Price.append(i.text)\n",
    "\n",
    "    Price[:100]\n",
    "\n",
    "    for i in discount:\n",
    "        Discount.append(i.text)\n",
    "\n",
    "    Discount[:100]\n",
    "\n",
    "    next_btn=driver.find_element(By.XPATH,'/html/body/div/div/div[3]/div[1]/div[2]/div[12]/div/div')\n",
    "    next_btn.click()\n",
    "    time.sleep(2)"
   ]
  },
  {
   "cell_type": "code",
   "execution_count": null,
   "id": "bca873a5-2c1c-4ef8-af97-d32df8ea0e7d",
   "metadata": {},
   "outputs": [],
   "source": [
    "Brand[:100]"
   ]
  },
  {
   "cell_type": "code",
   "execution_count": null,
   "id": "34ddc7d0-c516-44eb-b3ec-00013d357be8",
   "metadata": {},
   "outputs": [],
   "source": [
    "print(len(Brand[:100]),len(Product_description[:100]),len(Price[:100]),len(Discount[:100]))"
   ]
  },
  {
   "cell_type": "code",
   "execution_count": null,
   "id": "4ff71935-e7ef-40b4-aef9-43716eb32807",
   "metadata": {},
   "outputs": [],
   "source": [
    "data={\"Brand\":Brand[:100],\"Product_Description\":Product_description[:100],\"Price\":Price[:100],\"Discount\":Discount[:100]}\n",
    "df=pd.DataFrame(data)\n",
    "df"
   ]
  },
  {
   "cell_type": "markdown",
   "id": "fc97f94f-914a-4278-9f82-97fc6e8b9b47",
   "metadata": {},
   "source": [
    "Q5: Go to webpage https://www.amazon.in/ Enter “Laptop” in the search field and then click the search icon. Then set CPU\n",
    "Type filter to “Intel Core i7” as shown in the below image:After setting the filters scrape first 10 laptops data. You have to scrape 3 attributes for each laptop:\n",
    "1. Title\n",
    "2. Ratings\n",
    "3. Price"
   ]
  },
  {
   "cell_type": "code",
   "execution_count": null,
   "id": "a99d8840-d5d2-4d91-8f73-59cc020a30f0",
   "metadata": {},
   "outputs": [],
   "source": [
    "driver=webdriver.Chrome()"
   ]
  },
  {
   "cell_type": "code",
   "execution_count": null,
   "id": "da9f91e0-5bd9-4f54-af52-b49b3b3cb86a",
   "metadata": {},
   "outputs": [],
   "source": [
    "driver.get(\"https://www.amazon.in/\")"
   ]
  },
  {
   "cell_type": "code",
   "execution_count": null,
   "id": "6137f713-dc4f-4872-abf8-842724fc7d4c",
   "metadata": {},
   "outputs": [],
   "source": [
    "search=driver.find_element(By.XPATH,'//input[@type=\"text\"]')\n",
    "search.send_keys(\"Laptop\")"
   ]
  },
  {
   "cell_type": "code",
   "execution_count": null,
   "id": "1bcc5030-79ec-40be-9c09-fd5febaad2e9",
   "metadata": {},
   "outputs": [],
   "source": [
    "search_btn=driver.find_element(By.XPATH,'//input[@type=\"submit\"]')\n",
    "search_btn.click()"
   ]
  },
  {
   "cell_type": "code",
   "execution_count": null,
   "id": "a405147e-bf3b-40a4-9277-d56cb63c7028",
   "metadata": {},
   "outputs": [],
   "source": [
    "filter=driver.find_element(By.XPATH,'/html/body/div[1]/div[1]/div[1]/div[2]/div/div[3]/span/div[1]/span/div/div/div[5]/ul[2]/span/span[9]/li/span/a/span')\n",
    "filter.click()"
   ]
  },
  {
   "cell_type": "code",
   "execution_count": null,
   "id": "c81574b1-e490-4a6e-ae4b-47d50ada3f28",
   "metadata": {},
   "outputs": [],
   "source": [
    "title=[]\n",
    "rating=[]\n",
    "price=[]"
   ]
  },
  {
   "cell_type": "code",
   "execution_count": null,
   "id": "29bea161-6cdf-4e0a-ab57-db4f4216675a",
   "metadata": {},
   "outputs": [],
   "source": [
    "ti_tag=driver.find_elements(By.XPATH,'//h2[@class=\"a-size-mini a-spacing-none a-color-base s-line-clamp-2\"]')\n",
    "for i in ti_tag:\n",
    "    title.append(i.text)\n",
    "\n",
    "title[:10]\n",
    "ra_tag=driver.find_elements(By.XPATH,'//i[@class=\"a-icon a-icon-star-small a-star-small-4 aok-align-bottom\"]')\n",
    "for i in ra_tag:\n",
    "    rating.append(i.text)\n",
    "\n",
    "rating[:10]\n",
    "\n",
    "p_tag=driver.find_elements(By.XPATH,'//span[@class=\"a-price-whole\"]')\n",
    "for i in p_tag:\n",
    "    price.append(i.text)\n",
    "\n",
    "price[:10]"
   ]
  },
  {
   "cell_type": "code",
   "execution_count": null,
   "id": "f1131c80-e3ad-4044-a562-aad3043db84c",
   "metadata": {},
   "outputs": [],
   "source": [
    "print(len(title[:10]),len(rating[:10]),len(price[:10]))"
   ]
  },
  {
   "cell_type": "code",
   "execution_count": null,
   "id": "30ae3ac9-7ff7-49b9-8fd9-280ef9d19f9e",
   "metadata": {},
   "outputs": [],
   "source": [
    "data={\"Title\":title[:10],\"Rating\":rating[:10],\"Price\":price[:10]}\n",
    "df=pd.DataFrame(data)\n",
    "df"
   ]
  },
  {
   "cell_type": "markdown",
   "id": "1ad6214e-8ff1-49f7-935b-371a0568f5c1",
   "metadata": {},
   "source": [
    "Q6: Write a python program to scrape data for Top 1000 Quotes of All Time.\n",
    "The above task will be done in following steps:\n",
    "1. First get the webpagehttps://www.azquotes.com/\n",
    "2. Click on Top Quote\n",
    "3. Than scrap a) Quote b) Author c) Type Of Quotes"
   ]
  },
  {
   "cell_type": "code",
   "execution_count": null,
   "id": "e6fa97d9-af5f-4622-9d4f-007242b5ea5d",
   "metadata": {},
   "outputs": [],
   "source": [
    "driver=webdriver.Chrome()"
   ]
  },
  {
   "cell_type": "code",
   "execution_count": null,
   "id": "8f246918-0542-4d76-9794-6eefda37a1f0",
   "metadata": {},
   "outputs": [],
   "source": [
    "driver.get(\"https://www.azquotes.com/\")"
   ]
  },
  {
   "cell_type": "code",
   "execution_count": null,
   "id": "ebd31e48-c230-40a7-b0cb-67318eabff12",
   "metadata": {},
   "outputs": [],
   "source": [
    "top_quotes=driver.find_element(By.XPATH,'//a[@href=\"/top_quotes.html\"]')\n",
    "top_quotes.click()"
   ]
  },
  {
   "cell_type": "code",
   "execution_count": null,
   "id": "7f53176d-fa8b-49ab-82c4-945247241fba",
   "metadata": {},
   "outputs": [],
   "source": [
    "quote=[]\n",
    "author=[]\n",
    "toq=[]"
   ]
  },
  {
   "cell_type": "code",
   "execution_count": null,
   "id": "5a42b143-3f2e-4828-b8bf-0fed57b128c6",
   "metadata": {},
   "outputs": [],
   "source": [
    "for i in range(10):\n",
    "    quotes=driver.find_elements(By.XPATH,'//a[@class=\"title\"]')\n",
    "    authors=driver.find_elements(By.XPATH,'//div[@class=\"author\"]')\n",
    "    toqs=driver.find_elements(By.XPATH,'//div[@class=\"tags\"]')\n",
    "    for i in quotes:\n",
    "        quote.append(i.text)\n",
    "\n",
    "    quote[:1000]\n",
    "\n",
    "    for i in authors:\n",
    "        author.append(i.text)\n",
    "\n",
    "    author[:1000]\n",
    "\n",
    "    for i in toqs:\n",
    "        toq.append(i.text)\n",
    "\n",
    "    toq[:1000]"
   ]
  },
  {
   "cell_type": "code",
   "execution_count": null,
   "id": "0c274c28-4958-4b08-bc6e-2514c9fcd2ba",
   "metadata": {},
   "outputs": [],
   "source": [
    "print(len(quote[:1000]),len(author[:1000]),len(toq[:1000]))"
   ]
  },
  {
   "cell_type": "code",
   "execution_count": null,
   "id": "c2109a6b-4c24-4658-88e1-9480c1a031e5",
   "metadata": {},
   "outputs": [],
   "source": [
    "data={\"Quote\":quote[:1000],\"Author\":author[:1000],\"Type of Quotes\":toq[:1000]}\n",
    "df=pd.DataFrame(data)\n",
    "df"
   ]
  },
  {
   "cell_type": "markdown",
   "id": "209aff4a-cdc9-4a54-837d-345bad9f6e15",
   "metadata": {},
   "source": [
    "7: Write a python program to display list of respected former Prime Ministers of India (i.e. Name,\n",
    "Born-Dead, Term of office, Remarks) from https://www.jagranjosh.com/general-knowledge/list-of-\n",
    "all-prime-ministers-of-india-1473165149-1\n",
    "scrap the mentioned data and make the DataFrame"
   ]
  },
  {
   "cell_type": "code",
   "execution_count": 25,
   "id": "b8195351-1a4b-4167-af73-97913b280400",
   "metadata": {},
   "outputs": [],
   "source": [
    "driver=webdriver.Chrome()"
   ]
  },
  {
   "cell_type": "code",
   "execution_count": 26,
   "id": "2a027329-47a2-4aa9-95b1-20bfacbf9d04",
   "metadata": {},
   "outputs": [],
   "source": [
    "driver.get(\"https://www.jagranjosh.com/general-knowledge/list-of- all-prime-ministers-of-india-1473165149-1\")"
   ]
  },
  {
   "cell_type": "code",
   "execution_count": 27,
   "id": "35f0844d-0ff4-44d8-946b-28d1437304dd",
   "metadata": {},
   "outputs": [],
   "source": [
    "time.sleep(5)"
   ]
  },
  {
   "cell_type": "code",
   "execution_count": 28,
   "id": "94e68bf4-405d-499d-81b7-129a1059dcf1",
   "metadata": {},
   "outputs": [],
   "source": [
    "pm_tag=driver.find_element(By.XPATH,'//img[@alt=\"List of all Prime Ministers of Iindia\"]')\n",
    "pm_tag.click()"
   ]
  },
  {
   "cell_type": "code",
   "execution_count": 29,
   "id": "6582092f-d274-4ab9-b995-ee0e83ac4e4e",
   "metadata": {},
   "outputs": [],
   "source": [
    "table=driver.find_element(By.XPATH,'//div[@class=\"Details_StoryBody__85cfI\"]')\n"
   ]
  },
  {
   "cell_type": "code",
   "execution_count": 45,
   "id": "9e9c8d9a-5d33-4e2a-a5f3-bb9a9352bb0c",
   "metadata": {},
   "outputs": [
    {
     "data": {
      "text/plain": [
       "['S.N Name Age when assumed office Term of office Duration',\n",
       " '1 Jawaharlal Nehru 57 years, 274 days 15 August1947 27 May 1964 16 years, 286 days',\n",
       " '2 Gulzarilal Nanda 65 years, 328 days 27 May 1964 9 June 1964 13 days',\n",
       " '3 Lal Bahadur Shastri 62 years, 250 days 9 June 1964 11 January 1966 1 year, 216 days',\n",
       " '4 Gulzarilal Nanda 67 years, 191 days 11 January 1966 24 January 1966 13 days',\n",
       " '4 Indira Gandhi 48 years, 66 days 24 January 1966 24 March 1977 11 years, 59 days',\n",
       " '5 Morarji Desai 81 years, 24 days 24 March 1977 28 July 1979 2 years, 126 days',\n",
       " '6 Charan Singh 76 years, 217 days 28 July 1979 14 January 1980 170 days',\n",
       " '7 Indira Gandhi 62 years, 56 days 14 January 1980 31 October 1984 4 years, 291 days',\n",
       " '8 Rajiv Gandhi 40 years, 72 days 31 October 1984 2 December 1989 5 years, 32 days',\n",
       " '9 Vishwanath Pratap Singh 58 years, 160 days 2 December 1989 10 November 1990 343 days',\n",
       " '10 Chandra Shekhar 63 years, 207 days 10 November 1990 21 June 1991 223 days',\n",
       " '11 P. V. Narasimha Rao 69 years, 358 days 21 June 1991 16 May 1996 4 years, 330 days',\n",
       " '12 Atal Bihari Vajpayee 71 years, 143 days 16 May 1996 1 June 1996 16 days',\n",
       " '13 H. D. Deve Gowda 63 years, 14 days 1 June 1996 21 April 1997 324 days',\n",
       " '14 Inder Kumar Gujral 77 years, 138 days 21 April 1997 19 March 1998 332 days',\n",
       " '15 Atal Bihari Vajpayee 73 years, 84 days 19 March 1998 22 May 2004 6 years, 64 days',\n",
       " '16 Manmohan Singh 71 years, 239 days 22 May 2004 26 May 2014 10 years, 4 days',\n",
       " '17 Narendra Modi 63 years, 251 days 26 May 2014 Incumbent 10 years, 87 days',\n",
       " 'List of all Presidents of India List of Nicknames of Indian Prime Ministers']"
      ]
     },
     "execution_count": 45,
     "metadata": {},
     "output_type": "execute_result"
    }
   ],
   "source": [
    "rows=[]\n",
    "row = table.find_elements(By.XPATH,'//div[@class=\"TableData\"]/table/tbody/tr')\n",
    "for i in row:\n",
    "    rows.append(i.text)\n",
    "\n",
    "rows\n",
    "    "
   ]
  },
  {
   "cell_type": "code",
   "execution_count": 31,
   "id": "42077a4b-4ad9-4410-9ceb-beaa4f16247d",
   "metadata": {},
   "outputs": [],
   "source": [
    "names=[]\n",
    "born_dead=[]\n",
    "term_of_office=[]\n",
    "remarks=[]"
   ]
  },
  {
   "cell_type": "code",
   "execution_count": 46,
   "id": "7685200b-0289-4e42-a9b3-303a6a84f9ca",
   "metadata": {},
   "outputs": [
    {
     "data": {
      "text/plain": [
       "['Name',\n",
       " 'Age when assumed office',\n",
       " 'Term of office',\n",
       " 'Duration',\n",
       " '1',\n",
       " 'Jawaharlal Nehru',\n",
       " '57 years, 274 days',\n",
       " '15 August1947',\n",
       " '27 May 1964',\n",
       " '16 years, 286 days',\n",
       " '2',\n",
       " 'Gulzarilal Nanda',\n",
       " '65 years, 328 days',\n",
       " '27 May 1964',\n",
       " '9 June 1964',\n",
       " '13 days',\n",
       " '3',\n",
       " 'Lal Bahadur Shastri',\n",
       " '62 years, 250 days',\n",
       " '9 June 1964',\n",
       " '11 January 1966',\n",
       " '1 year, 216 days',\n",
       " '4',\n",
       " 'Gulzarilal Nanda',\n",
       " '67 years, 191 days',\n",
       " '11 January 1966',\n",
       " '24 January 1966',\n",
       " '13 days',\n",
       " '4',\n",
       " 'Indira Gandhi',\n",
       " '48 years, 66 days',\n",
       " '24 January 1966',\n",
       " '24 March 1977',\n",
       " '11 years, 59 days',\n",
       " '5',\n",
       " 'Morarji Desai',\n",
       " '81 years, 24 days',\n",
       " '24 March 1977',\n",
       " '28 July 1979',\n",
       " '2 years, 126 days',\n",
       " '6',\n",
       " 'Charan Singh',\n",
       " '76 years, 217 days',\n",
       " '28 July 1979',\n",
       " '14 January 1980',\n",
       " '170 days',\n",
       " '7',\n",
       " 'Indira Gandhi',\n",
       " '62 years, 56 days',\n",
       " '14 January 1980',\n",
       " '31 October 1984',\n",
       " '4 years, 291 days',\n",
       " '8',\n",
       " 'Rajiv Gandhi',\n",
       " '40 years, 72 days',\n",
       " '31 October 1984',\n",
       " '2 December 1989',\n",
       " '5 years, 32 days',\n",
       " '9',\n",
       " 'Vishwanath Pratap Singh',\n",
       " '58 years, 160 days',\n",
       " '2 December 1989',\n",
       " '10 November 1990',\n",
       " '343 days',\n",
       " '10',\n",
       " 'Chandra Shekhar',\n",
       " '63 years, 207 days',\n",
       " '10 November 1990',\n",
       " '21 June 1991',\n",
       " '223 days',\n",
       " '11',\n",
       " 'P. V. Narasimha Rao',\n",
       " '69 years, 358 days',\n",
       " '21 June 1991',\n",
       " '16 May 1996',\n",
       " '4 years, 330 days',\n",
       " '12',\n",
       " 'Atal Bihari Vajpayee',\n",
       " '71 years, 143 days',\n",
       " '16 May 1996',\n",
       " '1 June 1996',\n",
       " '16 days',\n",
       " '13',\n",
       " 'H. D. Deve Gowda',\n",
       " '63 years, 14 days',\n",
       " '1 June 1996',\n",
       " '21 April 1997',\n",
       " '324 days',\n",
       " '14',\n",
       " 'Inder Kumar Gujral',\n",
       " '77 years, 138 days',\n",
       " '21 April 1997',\n",
       " '19 March 1998',\n",
       " '332 days',\n",
       " '15',\n",
       " 'Atal Bihari Vajpayee',\n",
       " '73 years, 84 days',\n",
       " '19 March 1998',\n",
       " '22 May 2004',\n",
       " '6 years, 64 days',\n",
       " '16',\n",
       " 'Manmohan Singh',\n",
       " '71 years, 239 days',\n",
       " '22 May 2004',\n",
       " '26 May 2014',\n",
       " '10 years, 4 days',\n",
       " '17',\n",
       " 'Narendra Modi',\n",
       " '63 years, 251 days',\n",
       " '26 May 2014',\n",
       " 'Incumbent',\n",
       " '10 years, 87 days',\n",
       " 'List of all Presidents of India',\n",
       " 'List of Nicknames of Indian Prime Ministers',\n",
       " 'S.N',\n",
       " 'Name',\n",
       " 'Age when assumed office',\n",
       " 'Term of office',\n",
       " 'Duration',\n",
       " '1',\n",
       " 'Jawaharlal Nehru',\n",
       " '57 years, 274 days',\n",
       " '15 August1947',\n",
       " '27 May 1964',\n",
       " '16 years, 286 days',\n",
       " '2',\n",
       " 'Gulzarilal Nanda',\n",
       " '65 years, 328 days',\n",
       " '27 May 1964',\n",
       " '9 June 1964',\n",
       " '13 days',\n",
       " '3',\n",
       " 'Lal Bahadur Shastri',\n",
       " '62 years, 250 days',\n",
       " '9 June 1964',\n",
       " '11 January 1966',\n",
       " '1 year, 216 days',\n",
       " '4',\n",
       " 'Gulzarilal Nanda',\n",
       " '67 years, 191 days',\n",
       " '11 January 1966',\n",
       " '24 January 1966',\n",
       " '13 days',\n",
       " '4',\n",
       " 'Indira Gandhi',\n",
       " '48 years, 66 days',\n",
       " '24 January 1966',\n",
       " '24 March 1977',\n",
       " '11 years, 59 days',\n",
       " '5',\n",
       " 'Morarji Desai',\n",
       " '81 years, 24 days',\n",
       " '24 March 1977',\n",
       " '28 July 1979',\n",
       " '2 years, 126 days',\n",
       " '6',\n",
       " 'Charan Singh',\n",
       " '76 years, 217 days',\n",
       " '28 July 1979',\n",
       " '14 January 1980',\n",
       " '170 days',\n",
       " '7',\n",
       " 'Indira Gandhi',\n",
       " '62 years, 56 days',\n",
       " '14 January 1980',\n",
       " '31 October 1984',\n",
       " '4 years, 291 days',\n",
       " '8',\n",
       " 'Rajiv Gandhi',\n",
       " '40 years, 72 days',\n",
       " '31 October 1984',\n",
       " '2 December 1989',\n",
       " '5 years, 32 days',\n",
       " '9',\n",
       " 'Vishwanath Pratap Singh',\n",
       " '58 years, 160 days',\n",
       " '2 December 1989',\n",
       " '10 November 1990',\n",
       " '343 days',\n",
       " '10',\n",
       " 'Chandra Shekhar',\n",
       " '63 years, 207 days',\n",
       " '10 November 1990',\n",
       " '21 June 1991',\n",
       " '223 days',\n",
       " '11',\n",
       " 'P. V. Narasimha Rao',\n",
       " '69 years, 358 days',\n",
       " '21 June 1991',\n",
       " '16 May 1996',\n",
       " '4 years, 330 days',\n",
       " '12',\n",
       " 'Atal Bihari Vajpayee',\n",
       " '71 years, 143 days',\n",
       " '16 May 1996',\n",
       " '1 June 1996',\n",
       " '16 days',\n",
       " '13',\n",
       " 'H. D. Deve Gowda',\n",
       " '63 years, 14 days',\n",
       " '1 June 1996',\n",
       " '21 April 1997',\n",
       " '324 days',\n",
       " '14',\n",
       " 'Inder Kumar Gujral',\n",
       " '77 years, 138 days',\n",
       " '21 April 1997',\n",
       " '19 March 1998',\n",
       " '332 days',\n",
       " '15',\n",
       " 'Atal Bihari Vajpayee',\n",
       " '73 years, 84 days',\n",
       " '19 March 1998',\n",
       " '22 May 2004',\n",
       " '6 years, 64 days',\n",
       " '16',\n",
       " 'Manmohan Singh',\n",
       " '71 years, 239 days',\n",
       " '22 May 2004',\n",
       " '26 May 2014',\n",
       " '10 years, 4 days',\n",
       " '17',\n",
       " 'Narendra Modi',\n",
       " '63 years, 251 days',\n",
       " '26 May 2014',\n",
       " 'Incumbent',\n",
       " '10 years, 87 days',\n",
       " 'List of all Presidents of India',\n",
       " 'List of Nicknames of Indian Prime Ministers',\n",
       " '',\n",
       " '',\n",
       " '',\n",
       " '',\n",
       " '',\n",
       " '',\n",
       " '',\n",
       " '',\n",
       " '',\n",
       " '',\n",
       " '',\n",
       " '',\n",
       " '',\n",
       " '',\n",
       " '',\n",
       " '',\n",
       " '',\n",
       " '',\n",
       " '',\n",
       " '',\n",
       " '',\n",
       " '',\n",
       " '',\n",
       " '',\n",
       " '',\n",
       " '',\n",
       " '',\n",
       " '',\n",
       " '',\n",
       " '',\n",
       " '',\n",
       " '',\n",
       " '',\n",
       " '',\n",
       " '',\n",
       " '',\n",
       " '',\n",
       " '',\n",
       " '',\n",
       " '',\n",
       " '',\n",
       " '',\n",
       " '',\n",
       " '',\n",
       " '',\n",
       " '',\n",
       " '',\n",
       " '',\n",
       " '',\n",
       " '',\n",
       " '',\n",
       " '',\n",
       " '',\n",
       " '',\n",
       " '',\n",
       " '',\n",
       " '',\n",
       " '',\n",
       " '',\n",
       " '',\n",
       " '',\n",
       " '',\n",
       " '',\n",
       " '',\n",
       " '',\n",
       " '',\n",
       " '',\n",
       " '',\n",
       " '',\n",
       " '',\n",
       " '',\n",
       " '',\n",
       " '',\n",
       " '',\n",
       " '',\n",
       " '',\n",
       " '',\n",
       " '',\n",
       " '',\n",
       " '',\n",
       " '',\n",
       " '',\n",
       " '',\n",
       " '',\n",
       " '',\n",
       " '',\n",
       " '',\n",
       " '',\n",
       " '',\n",
       " '',\n",
       " '',\n",
       " '',\n",
       " '',\n",
       " '',\n",
       " '',\n",
       " '',\n",
       " '',\n",
       " '',\n",
       " '',\n",
       " '',\n",
       " '',\n",
       " '',\n",
       " '',\n",
       " '',\n",
       " '',\n",
       " '',\n",
       " '',\n",
       " '',\n",
       " '',\n",
       " '',\n",
       " '',\n",
       " '',\n",
       " '',\n",
       " '',\n",
       " '',\n",
       " 'S.N',\n",
       " 'Name',\n",
       " 'Age when assumed office',\n",
       " 'Term of office',\n",
       " 'Duration',\n",
       " '1',\n",
       " 'Jawaharlal Nehru',\n",
       " '57 years, 274 days',\n",
       " '15 August1947',\n",
       " '27 May 1964',\n",
       " '16 years, 286 days',\n",
       " '2',\n",
       " 'Gulzarilal Nanda',\n",
       " '65 years, 328 days',\n",
       " '27 May 1964',\n",
       " '9 June 1964',\n",
       " '13 days',\n",
       " '3',\n",
       " 'Lal Bahadur Shastri',\n",
       " '62 years, 250 days',\n",
       " '9 June 1964',\n",
       " '11 January 1966',\n",
       " '1 year, 216 days',\n",
       " '4',\n",
       " 'Gulzarilal Nanda',\n",
       " '67 years, 191 days',\n",
       " '11 January 1966',\n",
       " '24 January 1966',\n",
       " '13 days',\n",
       " '4',\n",
       " 'Indira Gandhi',\n",
       " '48 years, 66 days',\n",
       " '24 January 1966',\n",
       " '24 March 1977',\n",
       " '11 years, 59 days',\n",
       " '5',\n",
       " 'Morarji Desai',\n",
       " '81 years, 24 days',\n",
       " '24 March 1977',\n",
       " '28 July 1979',\n",
       " '2 years, 126 days',\n",
       " '6',\n",
       " 'Charan Singh',\n",
       " '76 years, 217 days',\n",
       " '28 July 1979',\n",
       " '14 January 1980',\n",
       " '170 days',\n",
       " '7',\n",
       " 'Indira Gandhi',\n",
       " '62 years, 56 days',\n",
       " '14 January 1980',\n",
       " '31 October 1984',\n",
       " '4 years, 291 days',\n",
       " '8',\n",
       " 'Rajiv Gandhi',\n",
       " '40 years, 72 days',\n",
       " '31 October 1984',\n",
       " '2 December 1989',\n",
       " '5 years, 32 days',\n",
       " '9',\n",
       " 'Vishwanath Pratap Singh',\n",
       " '58 years, 160 days',\n",
       " '2 December 1989',\n",
       " '10 November 1990',\n",
       " '343 days',\n",
       " '10',\n",
       " 'Chandra Shekhar',\n",
       " '63 years, 207 days',\n",
       " '10 November 1990',\n",
       " '21 June 1991',\n",
       " '223 days',\n",
       " '11',\n",
       " 'P. V. Narasimha Rao',\n",
       " '69 years, 358 days',\n",
       " '21 June 1991',\n",
       " '16 May 1996',\n",
       " '4 years, 330 days',\n",
       " '12',\n",
       " 'Atal Bihari Vajpayee',\n",
       " '71 years, 143 days',\n",
       " '16 May 1996',\n",
       " '1 June 1996',\n",
       " '16 days',\n",
       " '13',\n",
       " 'H. D. Deve Gowda',\n",
       " '63 years, 14 days',\n",
       " '1 June 1996',\n",
       " '21 April 1997',\n",
       " '324 days',\n",
       " '14',\n",
       " 'Inder Kumar Gujral',\n",
       " '77 years, 138 days',\n",
       " '21 April 1997',\n",
       " '19 March 1998',\n",
       " '332 days',\n",
       " '15',\n",
       " 'Atal Bihari Vajpayee',\n",
       " '73 years, 84 days',\n",
       " '19 March 1998',\n",
       " '22 May 2004',\n",
       " '6 years, 64 days',\n",
       " '16',\n",
       " 'Manmohan Singh',\n",
       " '71 years, 239 days',\n",
       " '22 May 2004',\n",
       " '26 May 2014',\n",
       " '10 years, 4 days',\n",
       " '17',\n",
       " 'Narendra Modi',\n",
       " '63 years, 251 days',\n",
       " '26 May 2014',\n",
       " 'Incumbent',\n",
       " '10 years, 87 days',\n",
       " 'List of all Presidents of India',\n",
       " 'List of Nicknames of Indian Prime Ministers',\n",
       " 'S.N',\n",
       " 'Name',\n",
       " 'Age when assumed office',\n",
       " 'Term of office',\n",
       " 'Duration',\n",
       " '1',\n",
       " 'Jawaharlal Nehru',\n",
       " '57 years, 274 days',\n",
       " '15 August1947',\n",
       " '27 May 1964',\n",
       " '16 years, 286 days',\n",
       " '2',\n",
       " 'Gulzarilal Nanda',\n",
       " '65 years, 328 days',\n",
       " '27 May 1964',\n",
       " '9 June 1964',\n",
       " '13 days',\n",
       " '3',\n",
       " 'Lal Bahadur Shastri',\n",
       " '62 years, 250 days',\n",
       " '9 June 1964',\n",
       " '11 January 1966',\n",
       " '1 year, 216 days',\n",
       " '4',\n",
       " 'Gulzarilal Nanda',\n",
       " '67 years, 191 days',\n",
       " '11 January 1966',\n",
       " '24 January 1966',\n",
       " '13 days',\n",
       " '4',\n",
       " 'Indira Gandhi',\n",
       " '48 years, 66 days',\n",
       " '24 January 1966',\n",
       " '24 March 1977',\n",
       " '11 years, 59 days',\n",
       " '5',\n",
       " 'Morarji Desai',\n",
       " '81 years, 24 days',\n",
       " '24 March 1977',\n",
       " '28 July 1979',\n",
       " '2 years, 126 days',\n",
       " '6',\n",
       " 'Charan Singh',\n",
       " '76 years, 217 days',\n",
       " '28 July 1979',\n",
       " '14 January 1980',\n",
       " '170 days',\n",
       " '7',\n",
       " 'Indira Gandhi',\n",
       " '62 years, 56 days',\n",
       " '14 January 1980',\n",
       " '31 October 1984',\n",
       " '4 years, 291 days',\n",
       " '8',\n",
       " 'Rajiv Gandhi',\n",
       " '40 years, 72 days',\n",
       " '31 October 1984',\n",
       " '2 December 1989',\n",
       " '5 years, 32 days',\n",
       " '9',\n",
       " 'Vishwanath Pratap Singh',\n",
       " '58 years, 160 days',\n",
       " '2 December 1989',\n",
       " '10 November 1990',\n",
       " '343 days',\n",
       " '10',\n",
       " 'Chandra Shekhar',\n",
       " '63 years, 207 days',\n",
       " '10 November 1990',\n",
       " '21 June 1991',\n",
       " '223 days',\n",
       " '11',\n",
       " 'P. V. Narasimha Rao',\n",
       " '69 years, 358 days',\n",
       " '21 June 1991',\n",
       " '16 May 1996',\n",
       " '4 years, 330 days',\n",
       " '12',\n",
       " 'Atal Bihari Vajpayee',\n",
       " '71 years, 143 days',\n",
       " '16 May 1996',\n",
       " '1 June 1996',\n",
       " '16 days',\n",
       " '13',\n",
       " 'H. D. Deve Gowda',\n",
       " '63 years, 14 days',\n",
       " '1 June 1996',\n",
       " '21 April 1997',\n",
       " '324 days',\n",
       " '14',\n",
       " 'Inder Kumar Gujral',\n",
       " '77 years, 138 days',\n",
       " '21 April 1997',\n",
       " '19 March 1998',\n",
       " '332 days',\n",
       " '15',\n",
       " 'Atal Bihari Vajpayee',\n",
       " '73 years, 84 days',\n",
       " '19 March 1998',\n",
       " '22 May 2004',\n",
       " '6 years, 64 days',\n",
       " '16',\n",
       " 'Manmohan Singh',\n",
       " '71 years, 239 days',\n",
       " '22 May 2004',\n",
       " '26 May 2014',\n",
       " '10 years, 4 days',\n",
       " '17',\n",
       " 'Narendra Modi',\n",
       " '63 years, 251 days',\n",
       " '26 May 2014',\n",
       " 'Incumbent',\n",
       " '10 years, 87 days',\n",
       " 'List of all Presidents of India',\n",
       " 'List of Nicknames of Indian Prime Ministers',\n",
       " 'S.N',\n",
       " 'Name',\n",
       " 'Age when assumed office',\n",
       " 'Term of office',\n",
       " 'Duration',\n",
       " '1',\n",
       " 'Jawaharlal Nehru',\n",
       " '57 years, 274 days',\n",
       " '15 August1947',\n",
       " '27 May 1964',\n",
       " '16 years, 286 days',\n",
       " '2',\n",
       " 'Gulzarilal Nanda',\n",
       " '65 years, 328 days',\n",
       " '27 May 1964',\n",
       " '9 June 1964',\n",
       " '13 days',\n",
       " '3',\n",
       " 'Lal Bahadur Shastri',\n",
       " '62 years, 250 days',\n",
       " '9 June 1964',\n",
       " '11 January 1966',\n",
       " '1 year, 216 days',\n",
       " '4',\n",
       " 'Gulzarilal Nanda',\n",
       " '67 years, 191 days',\n",
       " '11 January 1966',\n",
       " '24 January 1966',\n",
       " '13 days',\n",
       " '4',\n",
       " 'Indira Gandhi',\n",
       " '48 years, 66 days',\n",
       " '24 January 1966',\n",
       " '24 March 1977',\n",
       " '11 years, 59 days',\n",
       " '5',\n",
       " 'Morarji Desai',\n",
       " '81 years, 24 days',\n",
       " '24 March 1977',\n",
       " '28 July 1979',\n",
       " '2 years, 126 days',\n",
       " '6',\n",
       " 'Charan Singh',\n",
       " '76 years, 217 days',\n",
       " '28 July 1979',\n",
       " '14 January 1980',\n",
       " '170 days',\n",
       " '7',\n",
       " 'Indira Gandhi',\n",
       " '62 years, 56 days',\n",
       " '14 January 1980',\n",
       " '31 October 1984',\n",
       " '4 years, 291 days',\n",
       " '8',\n",
       " 'Rajiv Gandhi',\n",
       " '40 years, 72 days',\n",
       " '31 October 1984',\n",
       " '2 December 1989',\n",
       " '5 years, 32 days',\n",
       " '9',\n",
       " 'Vishwanath Pratap Singh',\n",
       " '58 years, 160 days',\n",
       " '2 December 1989',\n",
       " '10 November 1990',\n",
       " '343 days',\n",
       " '10',\n",
       " 'Chandra Shekhar',\n",
       " '63 years, 207 days',\n",
       " '10 November 1990',\n",
       " '21 June 1991',\n",
       " '223 days',\n",
       " '11',\n",
       " 'P. V. Narasimha Rao',\n",
       " '69 years, 358 days',\n",
       " '21 June 1991',\n",
       " '16 May 1996',\n",
       " '4 years, 330 days',\n",
       " '12',\n",
       " 'Atal Bihari Vajpayee',\n",
       " '71 years, 143 days',\n",
       " '16 May 1996',\n",
       " '1 June 1996',\n",
       " '16 days',\n",
       " '13',\n",
       " 'H. D. Deve Gowda',\n",
       " '63 years, 14 days',\n",
       " '1 June 1996',\n",
       " '21 April 1997',\n",
       " '324 days',\n",
       " '14',\n",
       " 'Inder Kumar Gujral',\n",
       " '77 years, 138 days',\n",
       " '21 April 1997',\n",
       " '19 March 1998',\n",
       " '332 days',\n",
       " '15',\n",
       " 'Atal Bihari Vajpayee',\n",
       " '73 years, 84 days',\n",
       " '19 March 1998',\n",
       " '22 May 2004',\n",
       " '6 years, 64 days',\n",
       " '16',\n",
       " 'Manmohan Singh',\n",
       " '71 years, 239 days',\n",
       " '22 May 2004',\n",
       " '26 May 2014',\n",
       " '10 years, 4 days',\n",
       " '17',\n",
       " 'Narendra Modi',\n",
       " '63 years, 251 days',\n",
       " '26 May 2014',\n",
       " 'Incumbent',\n",
       " '10 years, 87 days',\n",
       " 'List of all Presidents of India',\n",
       " 'List of Nicknames of Indian Prime Ministers',\n",
       " 'S.N',\n",
       " 'Name',\n",
       " 'Age when assumed office',\n",
       " 'Term of office',\n",
       " 'Duration',\n",
       " '1',\n",
       " 'Jawaharlal Nehru',\n",
       " '57 years, 274 days',\n",
       " '15 August1947',\n",
       " '27 May 1964',\n",
       " '16 years, 286 days',\n",
       " '2',\n",
       " 'Gulzarilal Nanda',\n",
       " '65 years, 328 days',\n",
       " '27 May 1964',\n",
       " '9 June 1964',\n",
       " '13 days',\n",
       " '3',\n",
       " 'Lal Bahadur Shastri',\n",
       " '62 years, 250 days',\n",
       " '9 June 1964',\n",
       " '11 January 1966',\n",
       " '1 year, 216 days',\n",
       " '4',\n",
       " 'Gulzarilal Nanda',\n",
       " '67 years, 191 days',\n",
       " '11 January 1966',\n",
       " '24 January 1966',\n",
       " '13 days',\n",
       " '4',\n",
       " 'Indira Gandhi',\n",
       " '48 years, 66 days',\n",
       " '24 January 1966',\n",
       " '24 March 1977',\n",
       " '11 years, 59 days',\n",
       " '5',\n",
       " 'Morarji Desai',\n",
       " '81 years, 24 days',\n",
       " '24 March 1977',\n",
       " '28 July 1979',\n",
       " '2 years, 126 days',\n",
       " '6',\n",
       " 'Charan Singh',\n",
       " '76 years, 217 days',\n",
       " '28 July 1979',\n",
       " '14 January 1980',\n",
       " '170 days',\n",
       " '7',\n",
       " 'Indira Gandhi',\n",
       " '62 years, 56 days',\n",
       " '14 January 1980',\n",
       " '31 October 1984',\n",
       " '4 years, 291 days',\n",
       " '8',\n",
       " 'Rajiv Gandhi',\n",
       " '40 years, 72 days',\n",
       " '31 October 1984',\n",
       " '2 December 1989',\n",
       " '5 years, 32 days',\n",
       " '9',\n",
       " 'Vishwanath Pratap Singh',\n",
       " '58 years, 160 days',\n",
       " '2 December 1989',\n",
       " '10 November 1990',\n",
       " '343 days',\n",
       " '10',\n",
       " 'Chandra Shekhar',\n",
       " '63 years, 207 days',\n",
       " '10 November 1990',\n",
       " '21 June 1991',\n",
       " '223 days',\n",
       " '11',\n",
       " 'P. V. Narasimha Rao',\n",
       " '69 years, 358 days',\n",
       " '21 June 1991',\n",
       " '16 May 1996',\n",
       " '4 years, 330 days',\n",
       " '12',\n",
       " 'Atal Bihari Vajpayee',\n",
       " '71 years, 143 days',\n",
       " '16 May 1996',\n",
       " '1 June 1996',\n",
       " '16 days',\n",
       " '13',\n",
       " 'H. D. Deve Gowda',\n",
       " '63 years, 14 days',\n",
       " '1 June 1996',\n",
       " '21 April 1997',\n",
       " '324 days',\n",
       " '14',\n",
       " 'Inder Kumar Gujral',\n",
       " '77 years, 138 days',\n",
       " '21 April 1997',\n",
       " '19 March 1998',\n",
       " '332 days',\n",
       " '15',\n",
       " 'Atal Bihari Vajpayee',\n",
       " '73 years, 84 days',\n",
       " '19 March 1998',\n",
       " '22 May 2004',\n",
       " '6 years, 64 days',\n",
       " '16',\n",
       " 'Manmohan Singh',\n",
       " '71 years, 239 days',\n",
       " '22 May 2004',\n",
       " '26 May 2014',\n",
       " '10 years, 4 days',\n",
       " '17',\n",
       " 'Narendra Modi',\n",
       " '63 years, 251 days',\n",
       " '26 May 2014',\n",
       " 'Incumbent',\n",
       " '10 years, 87 days',\n",
       " 'List of all Presidents of India',\n",
       " 'List of Nicknames of Indian Prime Ministers',\n",
       " 'S.N',\n",
       " 'Name',\n",
       " 'Age when assumed office',\n",
       " 'Term of office',\n",
       " 'Duration',\n",
       " '1',\n",
       " 'Jawaharlal Nehru',\n",
       " '57 years, 274 days',\n",
       " '15 August1947',\n",
       " '27 May 1964',\n",
       " '16 years, 286 days',\n",
       " '2',\n",
       " 'Gulzarilal Nanda',\n",
       " '65 years, 328 days',\n",
       " '27 May 1964',\n",
       " '9 June 1964',\n",
       " '13 days',\n",
       " '3',\n",
       " 'Lal Bahadur Shastri',\n",
       " '62 years, 250 days',\n",
       " '9 June 1964',\n",
       " '11 January 1966',\n",
       " '1 year, 216 days',\n",
       " '4',\n",
       " 'Gulzarilal Nanda',\n",
       " '67 years, 191 days',\n",
       " '11 January 1966',\n",
       " '24 January 1966',\n",
       " '13 days',\n",
       " '4',\n",
       " 'Indira Gandhi',\n",
       " '48 years, 66 days',\n",
       " '24 January 1966',\n",
       " '24 March 1977',\n",
       " '11 years, 59 days',\n",
       " '5',\n",
       " 'Morarji Desai',\n",
       " '81 years, 24 days',\n",
       " '24 March 1977',\n",
       " '28 July 1979',\n",
       " '2 years, 126 days',\n",
       " '6',\n",
       " 'Charan Singh',\n",
       " '76 years, 217 days',\n",
       " '28 July 1979',\n",
       " '14 January 1980',\n",
       " '170 days',\n",
       " '7',\n",
       " 'Indira Gandhi',\n",
       " '62 years, 56 days',\n",
       " '14 January 1980',\n",
       " '31 October 1984',\n",
       " '4 years, 291 days',\n",
       " '8',\n",
       " 'Rajiv Gandhi',\n",
       " '40 years, 72 days',\n",
       " '31 October 1984',\n",
       " '2 December 1989',\n",
       " '5 years, 32 days',\n",
       " '9',\n",
       " 'Vishwanath Pratap Singh',\n",
       " '58 years, 160 days',\n",
       " '2 December 1989',\n",
       " '10 November 1990',\n",
       " '343 days',\n",
       " '10',\n",
       " 'Chandra Shekhar',\n",
       " '63 years, 207 days',\n",
       " '10 November 1990',\n",
       " '21 June 1991',\n",
       " '223 days',\n",
       " '11',\n",
       " 'P. V. Narasimha Rao',\n",
       " '69 years, 358 days',\n",
       " '21 June 1991',\n",
       " '16 May 1996',\n",
       " '4 years, 330 days',\n",
       " '12',\n",
       " 'Atal Bihari Vajpayee',\n",
       " '71 years, 143 days',\n",
       " '16 May 1996',\n",
       " '1 June 1996',\n",
       " '16 days',\n",
       " '13',\n",
       " 'H. D. Deve Gowda',\n",
       " '63 years, 14 days',\n",
       " '1 June 1996',\n",
       " '21 April 1997',\n",
       " '324 days',\n",
       " '14',\n",
       " 'Inder Kumar Gujral',\n",
       " '77 years, 138 days',\n",
       " '21 April 1997',\n",
       " '19 March 1998',\n",
       " '332 days',\n",
       " '15',\n",
       " 'Atal Bihari Vajpayee',\n",
       " '73 years, 84 days',\n",
       " '19 March 1998',\n",
       " '22 May 2004',\n",
       " '6 years, 64 days',\n",
       " '16',\n",
       " 'Manmohan Singh',\n",
       " '71 years, 239 days',\n",
       " '22 May 2004',\n",
       " '26 May 2014',\n",
       " '10 years, 4 days',\n",
       " '17',\n",
       " 'Narendra Modi',\n",
       " '63 years, 251 days',\n",
       " '26 May 2014',\n",
       " 'Incumbent',\n",
       " '10 years, 87 days',\n",
       " 'List of all Presidents of India',\n",
       " 'List of Nicknames of Indian Prime Ministers',\n",
       " 'S.N',\n",
       " 'Name',\n",
       " 'Age when assumed office',\n",
       " 'Term of office',\n",
       " 'Duration',\n",
       " '1',\n",
       " 'Jawaharlal Nehru',\n",
       " '57 years, 274 days',\n",
       " '15 August1947',\n",
       " '27 May 1964',\n",
       " '16 years, 286 days',\n",
       " '2',\n",
       " 'Gulzarilal Nanda',\n",
       " '65 years, 328 days',\n",
       " '27 May 1964',\n",
       " '9 June 1964',\n",
       " '13 days',\n",
       " '3',\n",
       " 'Lal Bahadur Shastri',\n",
       " '62 years, 250 days',\n",
       " '9 June 1964',\n",
       " '11 January 1966',\n",
       " '1 year, 216 days',\n",
       " '4',\n",
       " 'Gulzarilal Nanda',\n",
       " '67 years, 191 days',\n",
       " '11 January 1966',\n",
       " '24 January 1966',\n",
       " '13 days',\n",
       " '4',\n",
       " 'Indira Gandhi',\n",
       " '48 years, 66 days',\n",
       " '24 January 1966',\n",
       " '24 March 1977',\n",
       " '11 years, 59 days',\n",
       " '5',\n",
       " 'Morarji Desai',\n",
       " '81 years, 24 days',\n",
       " '24 March 1977',\n",
       " '28 July 1979',\n",
       " '2 years, 126 days',\n",
       " '6',\n",
       " 'Charan Singh',\n",
       " '76 years, 217 days',\n",
       " '28 July 1979',\n",
       " '14 January 1980',\n",
       " '170 days',\n",
       " '7',\n",
       " 'Indira Gandhi',\n",
       " '62 years, 56 days',\n",
       " '14 January 1980',\n",
       " '31 October 1984',\n",
       " '4 years, 291 days',\n",
       " '8',\n",
       " 'Rajiv Gandhi',\n",
       " '40 years, 72 days',\n",
       " '31 October 1984',\n",
       " '2 December 1989',\n",
       " '5 years, 32 days',\n",
       " '9',\n",
       " 'Vishwanath Pratap Singh',\n",
       " '58 years, 160 days',\n",
       " '2 December 1989',\n",
       " '10 November 1990',\n",
       " '343 days',\n",
       " '10',\n",
       " 'Chandra Shekhar',\n",
       " '63 years, 207 days',\n",
       " '10 November 1990',\n",
       " '21 June 1991',\n",
       " '223 days',\n",
       " '11',\n",
       " 'P. V. Narasimha Rao',\n",
       " '69 years, 358 days',\n",
       " '21 June 1991',\n",
       " '16 May 1996',\n",
       " '4 years, 330 days',\n",
       " '12',\n",
       " 'Atal Bihari Vajpayee',\n",
       " '71 years, 143 days',\n",
       " '16 May 1996',\n",
       " ...]"
      ]
     },
     "execution_count": 46,
     "metadata": {},
     "output_type": "execute_result"
    }
   ],
   "source": [
    "name=driver.find_elements(By.XPATH,'//div[@class=\"TableData\"]/table/tbody/tr/td')\n",
    "for i in name:\n",
    "    names.append(i.text)\n",
    "\n",
    "names[1:]\n"
   ]
  },
  {
   "cell_type": "code",
   "execution_count": 33,
   "id": "a6ff9166-db65-4712-b85b-062990e00d18",
   "metadata": {},
   "outputs": [
    {
     "ename": "ValueError",
     "evalue": "All arrays must be of the same length",
     "output_type": "error",
     "traceback": [
      "\u001b[0;31m---------------------------------------------------------------------------\u001b[0m",
      "\u001b[0;31mValueError\u001b[0m                                Traceback (most recent call last)",
      "Cell \u001b[0;32mIn[33], line 2\u001b[0m\n\u001b[1;32m      1\u001b[0m data\u001b[38;5;241m=\u001b[39m{\u001b[38;5;124m\"\u001b[39m\u001b[38;5;124mNames\u001b[39m\u001b[38;5;124m\"\u001b[39m:names,\u001b[38;5;124m\"\u001b[39m\u001b[38;5;124mBorn_Dead\u001b[39m\u001b[38;5;124m\"\u001b[39m:born_dead,\u001b[38;5;124m\"\u001b[39m\u001b[38;5;124mTerm_of_Office\u001b[39m\u001b[38;5;124m\"\u001b[39m:term_of_office,\u001b[38;5;124m\"\u001b[39m\u001b[38;5;124mRemarks\u001b[39m\u001b[38;5;124m\"\u001b[39m:remarks}\n\u001b[0;32m----> 2\u001b[0m df\u001b[38;5;241m=\u001b[39mpd\u001b[38;5;241m.\u001b[39mDataFrame(data)\n\u001b[1;32m      3\u001b[0m df\n",
      "File \u001b[0;32m~/anaconda3/lib/python3.11/site-packages/pandas/core/frame.py:733\u001b[0m, in \u001b[0;36mDataFrame.__init__\u001b[0;34m(self, data, index, columns, dtype, copy)\u001b[0m\n\u001b[1;32m    727\u001b[0m     mgr \u001b[38;5;241m=\u001b[39m \u001b[38;5;28mself\u001b[39m\u001b[38;5;241m.\u001b[39m_init_mgr(\n\u001b[1;32m    728\u001b[0m         data, axes\u001b[38;5;241m=\u001b[39m{\u001b[38;5;124m\"\u001b[39m\u001b[38;5;124mindex\u001b[39m\u001b[38;5;124m\"\u001b[39m: index, \u001b[38;5;124m\"\u001b[39m\u001b[38;5;124mcolumns\u001b[39m\u001b[38;5;124m\"\u001b[39m: columns}, dtype\u001b[38;5;241m=\u001b[39mdtype, copy\u001b[38;5;241m=\u001b[39mcopy\n\u001b[1;32m    729\u001b[0m     )\n\u001b[1;32m    731\u001b[0m \u001b[38;5;28;01melif\u001b[39;00m \u001b[38;5;28misinstance\u001b[39m(data, \u001b[38;5;28mdict\u001b[39m):\n\u001b[1;32m    732\u001b[0m     \u001b[38;5;66;03m# GH#38939 de facto copy defaults to False only in non-dict cases\u001b[39;00m\n\u001b[0;32m--> 733\u001b[0m     mgr \u001b[38;5;241m=\u001b[39m dict_to_mgr(data, index, columns, dtype\u001b[38;5;241m=\u001b[39mdtype, copy\u001b[38;5;241m=\u001b[39mcopy, typ\u001b[38;5;241m=\u001b[39mmanager)\n\u001b[1;32m    734\u001b[0m \u001b[38;5;28;01melif\u001b[39;00m \u001b[38;5;28misinstance\u001b[39m(data, ma\u001b[38;5;241m.\u001b[39mMaskedArray):\n\u001b[1;32m    735\u001b[0m     \u001b[38;5;28;01mfrom\u001b[39;00m \u001b[38;5;21;01mnumpy\u001b[39;00m\u001b[38;5;21;01m.\u001b[39;00m\u001b[38;5;21;01mma\u001b[39;00m \u001b[38;5;28;01mimport\u001b[39;00m mrecords\n",
      "File \u001b[0;32m~/anaconda3/lib/python3.11/site-packages/pandas/core/internals/construction.py:503\u001b[0m, in \u001b[0;36mdict_to_mgr\u001b[0;34m(data, index, columns, dtype, typ, copy)\u001b[0m\n\u001b[1;32m    499\u001b[0m     \u001b[38;5;28;01melse\u001b[39;00m:\n\u001b[1;32m    500\u001b[0m         \u001b[38;5;66;03m# dtype check to exclude e.g. range objects, scalars\u001b[39;00m\n\u001b[1;32m    501\u001b[0m         arrays \u001b[38;5;241m=\u001b[39m [x\u001b[38;5;241m.\u001b[39mcopy() \u001b[38;5;28;01mif\u001b[39;00m \u001b[38;5;28mhasattr\u001b[39m(x, \u001b[38;5;124m\"\u001b[39m\u001b[38;5;124mdtype\u001b[39m\u001b[38;5;124m\"\u001b[39m) \u001b[38;5;28;01melse\u001b[39;00m x \u001b[38;5;28;01mfor\u001b[39;00m x \u001b[38;5;129;01min\u001b[39;00m arrays]\n\u001b[0;32m--> 503\u001b[0m \u001b[38;5;28;01mreturn\u001b[39;00m arrays_to_mgr(arrays, columns, index, dtype\u001b[38;5;241m=\u001b[39mdtype, typ\u001b[38;5;241m=\u001b[39mtyp, consolidate\u001b[38;5;241m=\u001b[39mcopy)\n",
      "File \u001b[0;32m~/anaconda3/lib/python3.11/site-packages/pandas/core/internals/construction.py:114\u001b[0m, in \u001b[0;36marrays_to_mgr\u001b[0;34m(arrays, columns, index, dtype, verify_integrity, typ, consolidate)\u001b[0m\n\u001b[1;32m    111\u001b[0m \u001b[38;5;28;01mif\u001b[39;00m verify_integrity:\n\u001b[1;32m    112\u001b[0m     \u001b[38;5;66;03m# figure out the index, if necessary\u001b[39;00m\n\u001b[1;32m    113\u001b[0m     \u001b[38;5;28;01mif\u001b[39;00m index \u001b[38;5;129;01mis\u001b[39;00m \u001b[38;5;28;01mNone\u001b[39;00m:\n\u001b[0;32m--> 114\u001b[0m         index \u001b[38;5;241m=\u001b[39m _extract_index(arrays)\n\u001b[1;32m    115\u001b[0m     \u001b[38;5;28;01melse\u001b[39;00m:\n\u001b[1;32m    116\u001b[0m         index \u001b[38;5;241m=\u001b[39m ensure_index(index)\n",
      "File \u001b[0;32m~/anaconda3/lib/python3.11/site-packages/pandas/core/internals/construction.py:677\u001b[0m, in \u001b[0;36m_extract_index\u001b[0;34m(data)\u001b[0m\n\u001b[1;32m    675\u001b[0m lengths \u001b[38;5;241m=\u001b[39m \u001b[38;5;28mlist\u001b[39m(\u001b[38;5;28mset\u001b[39m(raw_lengths))\n\u001b[1;32m    676\u001b[0m \u001b[38;5;28;01mif\u001b[39;00m \u001b[38;5;28mlen\u001b[39m(lengths) \u001b[38;5;241m>\u001b[39m \u001b[38;5;241m1\u001b[39m:\n\u001b[0;32m--> 677\u001b[0m     \u001b[38;5;28;01mraise\u001b[39;00m \u001b[38;5;167;01mValueError\u001b[39;00m(\u001b[38;5;124m\"\u001b[39m\u001b[38;5;124mAll arrays must be of the same length\u001b[39m\u001b[38;5;124m\"\u001b[39m)\n\u001b[1;32m    679\u001b[0m \u001b[38;5;28;01mif\u001b[39;00m have_dicts:\n\u001b[1;32m    680\u001b[0m     \u001b[38;5;28;01mraise\u001b[39;00m \u001b[38;5;167;01mValueError\u001b[39;00m(\n\u001b[1;32m    681\u001b[0m         \u001b[38;5;124m\"\u001b[39m\u001b[38;5;124mMixing dicts with non-Series may lead to ambiguous ordering.\u001b[39m\u001b[38;5;124m\"\u001b[39m\n\u001b[1;32m    682\u001b[0m     )\n",
      "\u001b[0;31mValueError\u001b[0m: All arrays must be of the same length"
     ]
    }
   ],
   "source": [
    "data={\"Names\":names,\"Born_Dead\":born_dead,\"Term_of_Office\":term_of_office,\"Remarks\":remarks}\n",
    "df=pd.DataFrame(data)\n",
    "df"
   ]
  },
  {
   "cell_type": "markdown",
   "id": "5b8287d8-a0f3-4a19-a03b-d75aa657f06d",
   "metadata": {},
   "source": [
    "Q8: Write a python program to display list of 50 Most expensive cars in the world\n",
    "(i.e. Car name and Price) from https://www.motor1.com/"
   ]
  },
  {
   "cell_type": "code",
   "execution_count": 110,
   "id": "33a61f40-e49c-4d64-a8da-ed2d6983fb98",
   "metadata": {},
   "outputs": [],
   "source": [
    "driver=webdriver.Chrome()"
   ]
  },
  {
   "cell_type": "code",
   "execution_count": 111,
   "id": "0fe084fb-4b4a-425b-ad80-54143ea6fba8",
   "metadata": {},
   "outputs": [],
   "source": [
    "driver.get(\"https://www.motor1.com/\")"
   ]
  },
  {
   "cell_type": "code",
   "execution_count": 114,
   "id": "c4821fe8-479c-4848-919f-f24d35302ddf",
   "metadata": {},
   "outputs": [],
   "source": [
    "search=driver.find_element(By.XPATH,'//input[@class=\"m1-search-panel-input m1-search-form-text\"]')\n",
    "search.send_keys(\"50 most expensive cars\")"
   ]
  },
  {
   "cell_type": "code",
   "execution_count": 115,
   "id": "d6b72154-e746-4199-955b-157a6afaf0d3",
   "metadata": {},
   "outputs": [],
   "source": [
    "search_btn=driver.find_element(By.XPATH,'//button[@class=\"m1-search-panel-button m1-search-form-button-animate icon-search-svg\"]')\n",
    "search_btn.click()"
   ]
  },
  {
   "cell_type": "code",
   "execution_count": 116,
   "id": "7399ed08-e90d-4648-b1ba-e12b25d22bab",
   "metadata": {},
   "outputs": [],
   "source": [
    "link=driver.find_element(By.XPATH,'//div[@class=\"item wcom \"]/a')\n",
    "link.click()"
   ]
  },
  {
   "cell_type": "code",
   "execution_count": 117,
   "id": "877b49be-6786-4f71-8ae7-54c4e2aa81c4",
   "metadata": {},
   "outputs": [],
   "source": [
    "car_name=[]\n",
    "price=[]"
   ]
  },
  {
   "cell_type": "code",
   "execution_count": 121,
   "id": "578fe9c2-91a6-4624-952c-15209dbe2249",
   "metadata": {},
   "outputs": [
    {
     "data": {
      "text/plain": [
       "['$1.7 Million',\n",
       " 'Price: $1.7 Million',\n",
       " 'Price: $1.7 Million',\n",
       " 'Price: $1.7 Million',\n",
       " 'Price: $1.7 Million',\n",
       " 'Price: $1.8 Million',\n",
       " 'Price: $1.9 Million',\n",
       " 'Price: $1.9 Million',\n",
       " 'Price: $2.0 Million',\n",
       " 'Price: $2.0 Million',\n",
       " 'Price: $2.1 Million',\n",
       " 'Price: $2.3 Million',\n",
       " 'Price: $2.3 Million',\n",
       " 'Price: $2.3 Million',\n",
       " 'Price: $2.3 Million',\n",
       " 'Price: $2.4 Million',\n",
       " 'Price: $2.5 Million',\n",
       " 'Price: $2.5 Million',\n",
       " 'Price: $2.6 Million',\n",
       " 'Price: $2.6 Million',\n",
       " '$2.7 Million',\n",
       " 'Price: $2.7 Million',\n",
       " 'Price: $2.8 Million',\n",
       " 'Price: $3.0 Million',\n",
       " '$3.0 Million',\n",
       " 'Price: $3.0 Million',\n",
       " '$3.1 Million',\n",
       " 'Price: $3.2 Million',\n",
       " 'Price: $3.4 Million',\n",
       " '$3.5 Million',\n",
       " '$3.5 Million (est.)',\n",
       " 'Price: $3.6 million',\n",
       " 'Price: $3.7 Million',\n",
       " 'Price: $3.9 Million',\n",
       " '$3.9 Million',\n",
       " '$4.0 Million',\n",
       " 'Price: $4.5 Million',\n",
       " 'Price: $4.7 Million',\n",
       " 'Price: $4.8 Million',\n",
       " 'Price: $5.0 Million',\n",
       " 'Price: $5.8 Million',\n",
       " '$6.0 Million',\n",
       " 'Price: $7.4 Million',\n",
       " 'Price: $8.0 Million',\n",
       " 'Price: $9.0 Million',\n",
       " 'Price: $10.8 Million',\n",
       " 'Price: $12.8 Million',\n",
       " 'Price: $13.4 Million',\n",
       " 'Price: $28.0 Million (est.)',\n",
       " 'Price: $30 Million (est.)']"
      ]
     },
     "execution_count": 121,
     "metadata": {},
     "output_type": "execute_result"
    }
   ],
   "source": [
    "car=driver.find_elements(By.XPATH,'//h3[@class=\"subheader\"]')\n",
    "for i in car:\n",
    "    car_name.append(i.text)\n",
    "\n",
    "car_name[:50]\n",
    "\n",
    "pr=driver.find_elements(By.XPATH,'//div[@class=\"postBody description e-content\"]/p/strong')\n",
    "for j in pr:\n",
    "    price.append(j.text)\n",
    "\n",
    "price[:50]"
   ]
  },
  {
   "cell_type": "code",
   "execution_count": 122,
   "id": "dae5303d-0b26-403a-a751-6149dc2c93e1",
   "metadata": {},
   "outputs": [
    {
     "name": "stdout",
     "output_type": "stream",
     "text": [
      "50 50\n"
     ]
    }
   ],
   "source": [
    "print(len(car_name[:50]),len(price[:50]))"
   ]
  },
  {
   "cell_type": "code",
   "execution_count": 123,
   "id": "589b0a9b-fd37-45bd-a55b-9ce1bfc8a959",
   "metadata": {},
   "outputs": [
    {
     "data": {
      "text/html": [
       "<div>\n",
       "<style scoped>\n",
       "    .dataframe tbody tr th:only-of-type {\n",
       "        vertical-align: middle;\n",
       "    }\n",
       "\n",
       "    .dataframe tbody tr th {\n",
       "        vertical-align: top;\n",
       "    }\n",
       "\n",
       "    .dataframe thead th {\n",
       "        text-align: right;\n",
       "    }\n",
       "</style>\n",
       "<table border=\"1\" class=\"dataframe\">\n",
       "  <thead>\n",
       "    <tr style=\"text-align: right;\">\n",
       "      <th></th>\n",
       "      <th>Car_Name</th>\n",
       "      <th>Price</th>\n",
       "    </tr>\n",
       "  </thead>\n",
       "  <tbody>\n",
       "    <tr>\n",
       "      <th>0</th>\n",
       "      <td>McLaren Senna GTR</td>\n",
       "      <td>$1.7 Million</td>\n",
       "    </tr>\n",
       "    <tr>\n",
       "      <th>1</th>\n",
       "      <td>Czinger 21C</td>\n",
       "      <td>Price: $1.7 Million</td>\n",
       "    </tr>\n",
       "    <tr>\n",
       "      <th>2</th>\n",
       "      <td>Ferrari Monza</td>\n",
       "      <td>Price: $1.7 Million</td>\n",
       "    </tr>\n",
       "    <tr>\n",
       "      <th>3</th>\n",
       "      <td>Gordon Murray T.33</td>\n",
       "      <td>Price: $1.7 Million</td>\n",
       "    </tr>\n",
       "    <tr>\n",
       "      <th>4</th>\n",
       "      <td>Koenigsegg Gemera</td>\n",
       "      <td>Price: $1.7 Million</td>\n",
       "    </tr>\n",
       "    <tr>\n",
       "      <th>5</th>\n",
       "      <td>Hennessey Venom F5</td>\n",
       "      <td>Price: $1.8 Million</td>\n",
       "    </tr>\n",
       "    <tr>\n",
       "      <th>6</th>\n",
       "      <td>Bentley Bacalar</td>\n",
       "      <td>Price: $1.9 Million</td>\n",
       "    </tr>\n",
       "    <tr>\n",
       "      <th>7</th>\n",
       "      <td>Hispano Suiza Carmen Boulogne</td>\n",
       "      <td>Price: $1.9 Million</td>\n",
       "    </tr>\n",
       "    <tr>\n",
       "      <th>8</th>\n",
       "      <td>Bentley Mulliner Batur</td>\n",
       "      <td>Price: $2.0 Million</td>\n",
       "    </tr>\n",
       "    <tr>\n",
       "      <th>9</th>\n",
       "      <td>SSC Tuatara</td>\n",
       "      <td>Price: $2.0 Million</td>\n",
       "    </tr>\n",
       "    <tr>\n",
       "      <th>10</th>\n",
       "      <td>Lotus Evija</td>\n",
       "      <td>Price: $2.1 Million</td>\n",
       "    </tr>\n",
       "    <tr>\n",
       "      <th>11</th>\n",
       "      <td>Aston Martin Vulcan</td>\n",
       "      <td>Price: $2.3 Million</td>\n",
       "    </tr>\n",
       "    <tr>\n",
       "      <th>12</th>\n",
       "      <td>Delage D12</td>\n",
       "      <td>Price: $2.3 Million</td>\n",
       "    </tr>\n",
       "    <tr>\n",
       "      <th>13</th>\n",
       "      <td>Ferrari Daytona SP3</td>\n",
       "      <td>Price: $2.3 Million</td>\n",
       "    </tr>\n",
       "    <tr>\n",
       "      <th>14</th>\n",
       "      <td>McLaren Speedtail</td>\n",
       "      <td>Price: $2.3 Million</td>\n",
       "    </tr>\n",
       "    <tr>\n",
       "      <th>15</th>\n",
       "      <td>Rimac Nevera</td>\n",
       "      <td>Price: $2.4 Million</td>\n",
       "    </tr>\n",
       "    <tr>\n",
       "      <th>16</th>\n",
       "      <td>Pagani Utopia</td>\n",
       "      <td>Price: $2.5 Million</td>\n",
       "    </tr>\n",
       "    <tr>\n",
       "      <th>17</th>\n",
       "      <td>Pininfarina Battista</td>\n",
       "      <td>Price: $2.5 Million</td>\n",
       "    </tr>\n",
       "    <tr>\n",
       "      <th>18</th>\n",
       "      <td>Gordon Murray T.50</td>\n",
       "      <td>Price: $2.6 Million</td>\n",
       "    </tr>\n",
       "    <tr>\n",
       "      <th>19</th>\n",
       "      <td>Lamborghini Countach</td>\n",
       "      <td>Price: $2.6 Million</td>\n",
       "    </tr>\n",
       "    <tr>\n",
       "      <th>20</th>\n",
       "      <td>Hennessey Venom F5 Revolution</td>\n",
       "      <td>$2.7 Million</td>\n",
       "    </tr>\n",
       "    <tr>\n",
       "      <th>21</th>\n",
       "      <td>Mercedes-AMG Project One</td>\n",
       "      <td>Price: $2.7 Million</td>\n",
       "    </tr>\n",
       "    <tr>\n",
       "      <th>22</th>\n",
       "      <td>Zenvo Aurora</td>\n",
       "      <td>Price: $2.8 Million</td>\n",
       "    </tr>\n",
       "    <tr>\n",
       "      <th>23</th>\n",
       "      <td>Aston Martin Victor</td>\n",
       "      <td>Price: $3.0 Million</td>\n",
       "    </tr>\n",
       "    <tr>\n",
       "      <th>24</th>\n",
       "      <td>Hennessey Venom F5 Roadster</td>\n",
       "      <td>$3.0 Million</td>\n",
       "    </tr>\n",
       "    <tr>\n",
       "      <th>25</th>\n",
       "      <td>Koenigsegg Jesko</td>\n",
       "      <td>Price: $3.0 Million</td>\n",
       "    </tr>\n",
       "    <tr>\n",
       "      <th>26</th>\n",
       "      <td>Aspark Owl</td>\n",
       "      <td>$3.1 Million</td>\n",
       "    </tr>\n",
       "    <tr>\n",
       "      <th>27</th>\n",
       "      <td>Aston Martin Valkyrie</td>\n",
       "      <td>Price: $3.2 Million</td>\n",
       "    </tr>\n",
       "    <tr>\n",
       "      <th>28</th>\n",
       "      <td>W Motors Lykan Hypersport</td>\n",
       "      <td>Price: $3.4 Million</td>\n",
       "    </tr>\n",
       "    <tr>\n",
       "      <th>29</th>\n",
       "      <td>McLaren Solus</td>\n",
       "      <td>$3.5 Million</td>\n",
       "    </tr>\n",
       "    <tr>\n",
       "      <th>30</th>\n",
       "      <td>Pagani Huayra Evo R</td>\n",
       "      <td>$3.5 Million (est.)</td>\n",
       "    </tr>\n",
       "    <tr>\n",
       "      <th>31</th>\n",
       "      <td>Lamborghini Sian</td>\n",
       "      <td>Price: $3.6 million</td>\n",
       "    </tr>\n",
       "    <tr>\n",
       "      <th>32</th>\n",
       "      <td>Koenigsegg CC850</td>\n",
       "      <td>Price: $3.7 Million</td>\n",
       "    </tr>\n",
       "    <tr>\n",
       "      <th>33</th>\n",
       "      <td>Bugatti Chiron Super Sport 300+</td>\n",
       "      <td>Price: $3.9 Million</td>\n",
       "    </tr>\n",
       "    <tr>\n",
       "      <th>34</th>\n",
       "      <td>Gordon Murray Automotive T.50s Niki Lauda</td>\n",
       "      <td>$3.9 Million</td>\n",
       "    </tr>\n",
       "    <tr>\n",
       "      <th>35</th>\n",
       "      <td>Pagani Huayra Roadster BC</td>\n",
       "      <td>$4.0 Million</td>\n",
       "    </tr>\n",
       "    <tr>\n",
       "      <th>36</th>\n",
       "      <td>Lamborghini Veneno</td>\n",
       "      <td>Price: $4.5 Million</td>\n",
       "    </tr>\n",
       "    <tr>\n",
       "      <th>37</th>\n",
       "      <td>Bugatti Bolide</td>\n",
       "      <td>Price: $4.7 Million</td>\n",
       "    </tr>\n",
       "    <tr>\n",
       "      <th>38</th>\n",
       "      <td>Pininfarina B95 Speedster</td>\n",
       "      <td>Price: $4.8 Million</td>\n",
       "    </tr>\n",
       "    <tr>\n",
       "      <th>39</th>\n",
       "      <td>Bugatti Mistral</td>\n",
       "      <td>Price: $5.0 Million</td>\n",
       "    </tr>\n",
       "    <tr>\n",
       "      <th>40</th>\n",
       "      <td>Bugatti Divo</td>\n",
       "      <td>Price: $5.8 Million</td>\n",
       "    </tr>\n",
       "    <tr>\n",
       "      <th>41</th>\n",
       "      <td>Pagani Huayra Imola</td>\n",
       "      <td>$6.0 Million</td>\n",
       "    </tr>\n",
       "    <tr>\n",
       "      <th>42</th>\n",
       "      <td>Pagani Codalunga</td>\n",
       "      <td>Price: $7.4 Million</td>\n",
       "    </tr>\n",
       "    <tr>\n",
       "      <th>43</th>\n",
       "      <td>Mercedes-Maybach Exelero</td>\n",
       "      <td>Price: $8.0 Million</td>\n",
       "    </tr>\n",
       "    <tr>\n",
       "      <th>44</th>\n",
       "      <td>Bugatti Centodieci</td>\n",
       "      <td>Price: $9.0 Million</td>\n",
       "    </tr>\n",
       "    <tr>\n",
       "      <th>45</th>\n",
       "      <td>Bugatti Chiron Profilée</td>\n",
       "      <td>Price: $10.8 Million</td>\n",
       "    </tr>\n",
       "    <tr>\n",
       "      <th>46</th>\n",
       "      <td>Rolls-Royce Sweptail</td>\n",
       "      <td>Price: $12.8 Million</td>\n",
       "    </tr>\n",
       "    <tr>\n",
       "      <th>47</th>\n",
       "      <td>Bugatti La Voiture Noire</td>\n",
       "      <td>Price: $13.4 Million</td>\n",
       "    </tr>\n",
       "    <tr>\n",
       "      <th>48</th>\n",
       "      <td>Rolls-Royce Boat Tail</td>\n",
       "      <td>Price: $28.0 Million (est.)</td>\n",
       "    </tr>\n",
       "    <tr>\n",
       "      <th>49</th>\n",
       "      <td>Rolls-Royce La Rose Noire Droptail</td>\n",
       "      <td>Price: $30 Million (est.)</td>\n",
       "    </tr>\n",
       "  </tbody>\n",
       "</table>\n",
       "</div>"
      ],
      "text/plain": [
       "                                     Car_Name                        Price\n",
       "0                           McLaren Senna GTR                 $1.7 Million\n",
       "1                                 Czinger 21C          Price: $1.7 Million\n",
       "2                               Ferrari Monza          Price: $1.7 Million\n",
       "3                          Gordon Murray T.33          Price: $1.7 Million\n",
       "4                           Koenigsegg Gemera          Price: $1.7 Million\n",
       "5                          Hennessey Venom F5          Price: $1.8 Million\n",
       "6                             Bentley Bacalar          Price: $1.9 Million\n",
       "7               Hispano Suiza Carmen Boulogne          Price: $1.9 Million\n",
       "8                      Bentley Mulliner Batur          Price: $2.0 Million\n",
       "9                                 SSC Tuatara          Price: $2.0 Million\n",
       "10                                Lotus Evija          Price: $2.1 Million\n",
       "11                        Aston Martin Vulcan          Price: $2.3 Million\n",
       "12                                 Delage D12          Price: $2.3 Million\n",
       "13                        Ferrari Daytona SP3          Price: $2.3 Million\n",
       "14                          McLaren Speedtail          Price: $2.3 Million\n",
       "15                               Rimac Nevera          Price: $2.4 Million\n",
       "16                              Pagani Utopia          Price: $2.5 Million\n",
       "17                       Pininfarina Battista          Price: $2.5 Million\n",
       "18                         Gordon Murray T.50          Price: $2.6 Million\n",
       "19                       Lamborghini Countach          Price: $2.6 Million\n",
       "20              Hennessey Venom F5 Revolution                 $2.7 Million\n",
       "21                   Mercedes-AMG Project One          Price: $2.7 Million\n",
       "22                               Zenvo Aurora          Price: $2.8 Million\n",
       "23                        Aston Martin Victor          Price: $3.0 Million\n",
       "24                Hennessey Venom F5 Roadster                 $3.0 Million\n",
       "25                           Koenigsegg Jesko          Price: $3.0 Million\n",
       "26                                 Aspark Owl                 $3.1 Million\n",
       "27                      Aston Martin Valkyrie          Price: $3.2 Million\n",
       "28                  W Motors Lykan Hypersport          Price: $3.4 Million\n",
       "29                              McLaren Solus                 $3.5 Million\n",
       "30                        Pagani Huayra Evo R          $3.5 Million (est.)\n",
       "31                           Lamborghini Sian          Price: $3.6 million\n",
       "32                           Koenigsegg CC850          Price: $3.7 Million\n",
       "33            Bugatti Chiron Super Sport 300+          Price: $3.9 Million\n",
       "34  Gordon Murray Automotive T.50s Niki Lauda                 $3.9 Million\n",
       "35                  Pagani Huayra Roadster BC                 $4.0 Million\n",
       "36                         Lamborghini Veneno          Price: $4.5 Million\n",
       "37                             Bugatti Bolide          Price: $4.7 Million\n",
       "38                  Pininfarina B95 Speedster          Price: $4.8 Million\n",
       "39                            Bugatti Mistral          Price: $5.0 Million\n",
       "40                               Bugatti Divo          Price: $5.8 Million\n",
       "41                        Pagani Huayra Imola                 $6.0 Million\n",
       "42                           Pagani Codalunga          Price: $7.4 Million\n",
       "43                   Mercedes-Maybach Exelero          Price: $8.0 Million\n",
       "44                         Bugatti Centodieci          Price: $9.0 Million\n",
       "45                    Bugatti Chiron Profilée         Price: $10.8 Million\n",
       "46                       Rolls-Royce Sweptail         Price: $12.8 Million\n",
       "47                   Bugatti La Voiture Noire         Price: $13.4 Million\n",
       "48                      Rolls-Royce Boat Tail  Price: $28.0 Million (est.)\n",
       "49         Rolls-Royce La Rose Noire Droptail    Price: $30 Million (est.)"
      ]
     },
     "execution_count": 123,
     "metadata": {},
     "output_type": "execute_result"
    }
   ],
   "source": [
    "data={\"Car_Name\":car_name[:50],\"Price\":price[:50]}\n",
    "df=pd.DataFrame(data)\n",
    "df"
   ]
  },
  {
   "cell_type": "code",
   "execution_count": null,
   "id": "817fe7cb-8add-482a-bb9b-d9442cd05aa9",
   "metadata": {},
   "outputs": [],
   "source": []
  }
 ],
 "metadata": {
  "kernelspec": {
   "display_name": "Python 3 (ipykernel)",
   "language": "python",
   "name": "python3"
  },
  "language_info": {
   "codemirror_mode": {
    "name": "ipython",
    "version": 3
   },
   "file_extension": ".py",
   "mimetype": "text/x-python",
   "name": "python",
   "nbconvert_exporter": "python",
   "pygments_lexer": "ipython3",
   "version": "3.11.5"
  }
 },
 "nbformat": 4,
 "nbformat_minor": 5
}
