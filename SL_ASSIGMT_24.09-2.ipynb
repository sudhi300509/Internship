{
 "cells": [
  {
   "cell_type": "markdown",
   "id": "f6c46102-8cf3-4859-9454-677dcbf68cf1",
   "metadata": {},
   "source": [
    "Q1: Write a python program to scrape data for “Data Analyst” Job position in “Bangalore” location.\n",
    "You have to scrape the job-title, job-location, company_name, experience_required. You have to\n",
    "scrape first 10 jobs data."
   ]
  },
  {
   "cell_type": "code",
   "execution_count": 229,
   "id": "2c162455-079c-43fb-b3a8-4e5d3ee8dfd2",
   "metadata": {},
   "outputs": [],
   "source": [
    "import selenium\n",
    "from selenium import webdriver\n",
    "import pandas as pd\n",
    "import warnings\n",
    "warnings.filterwarnings('ignore')\n",
    "from selenium.webdriver.common.by import By\n",
    "import time"
   ]
  },
  {
   "cell_type": "code",
   "execution_count": 230,
   "id": "c46846c2-d4d3-4548-b5ae-76df2e188154",
   "metadata": {},
   "outputs": [],
   "source": [
    "driver = webdriver.Chrome()"
   ]
  },
  {
   "cell_type": "code",
   "execution_count": 231,
   "id": "d3c3905f-c3af-41d0-8f89-91c8a0836488",
   "metadata": {
    "scrolled": true
   },
   "outputs": [],
   "source": [
    "url = \"https://www.shine.com/\"\n",
    "driver.get(url)"
   ]
  },
  {
   "cell_type": "code",
   "execution_count": 232,
   "id": "af13453a-4f00-49de-b7ba-ff081cef02d0",
   "metadata": {},
   "outputs": [
    {
     "name": "stdout",
     "output_type": "stream",
     "text": [
      "<selenium.webdriver.remote.webelement.WebElement (session=\"d3de4afec49acddecb74b7f41a273d96\", element=\"f.36BB05D5E3247107EE78682960326173.d.8567D2C5B391A1ACE67CB61CB23E3563.e.36\")>\n"
     ]
    }
   ],
   "source": [
    "# entering designation and location as required in the question\n",
    "jobtitle=driver.find_element(By.CLASS_NAME,\"form-control  \")\n",
    "jobtitle.send_keys('Data Analyst')\n",
    "print(jobtitle)"
   ]
  },
  {
   "cell_type": "code",
   "execution_count": 234,
   "id": "a628a4dd-cfdc-4972-a5e0-c6345f3eb470",
   "metadata": {
    "scrolled": true
   },
   "outputs": [
    {
     "name": "stdout",
     "output_type": "stream",
     "text": [
      "<selenium.webdriver.remote.webelement.WebElement (session=\"d3de4afec49acddecb74b7f41a273d96\", element=\"f.36BB05D5E3247107EE78682960326173.d.8567D2C5B391A1ACE67CB61CB23E3563.e.38\")>\n"
     ]
    }
   ],
   "source": [
    "Location=driver.find_element(By.XPATH,\"/html/body/div/div[4]/div/div[2]/div[2]/div/form/div/div[1]/ul/li[2]/div/input\")\n",
    "Location.send_keys(\"Bangalore\")\n",
    "print(Location)"
   ]
  },
  {
   "cell_type": "code",
   "execution_count": 236,
   "id": "4b8ae7c5-71a6-47e1-bf23-6f8ba2182097",
   "metadata": {},
   "outputs": [],
   "source": [
    "Search_jobs=driver.find_element(By.CLASS_NAME,\"searchForm_btnWrap_advance__VYBHN\")\n",
    "Search_jobs.click()"
   ]
  },
  {
   "cell_type": "code",
   "execution_count": 237,
   "id": "530293fb-706b-406a-94ed-666c563b935a",
   "metadata": {
    "scrolled": true
   },
   "outputs": [],
   "source": [
    "# creating variables\n",
    "job_title=[]\n",
    "job_location=[]\n",
    "company_name=[]\n",
    "experience_required=[]"
   ]
  },
  {
   "cell_type": "code",
   "execution_count": 107,
   "id": "63216b30-7b68-411a-9d7c-c585f7fac335",
   "metadata": {},
   "outputs": [],
   "source": [
    "title=driver.find_elements(By.XPATH,'//strong[@class=\"jobCard_pReplaceH2__xWmHg\"]')\n",
    "for i in title:\n",
    "    job_title.append(i.text)\n",
    "\n",
    "location=driver.find_elements(By.XPATH,'//div[@class=\"jobCard_jobCard_lists_item__YxRkV jobCard_locationIcon__zrWt2\"]')\n",
    "for i in location:\n",
    "    job_location.append(i.text)\n",
    "\n",
    "\n",
    "company=driver.find_elements(By.XPATH,'//div[@class=\"jobCard_jobCard_cName__mYnow\"]')\n",
    "for i in company:\n",
    "    company_name.append(i.text)\n",
    "\n",
    "experience=driver.find_elements(By.XPATH,'//div[@class=\" jobCard_jobCard_lists_item__YxRkV jobCard_jobIcon__3FB1t\"]')\n",
    "for i in experience:\n",
    "    experience_required.append(i.text)"
   ]
  },
  {
   "cell_type": "code",
   "execution_count": 104,
   "id": "71841d9c-4640-4f61-b0ca-925717d047cd",
   "metadata": {},
   "outputs": [
    {
     "name": "stdout",
     "output_type": "stream",
     "text": [
      "20 20 20 20\n"
     ]
    }
   ],
   "source": [
    "print(len(job_title),len(job_location),len(company_name),len(experience_required))"
   ]
  },
  {
   "cell_type": "code",
   "execution_count": 105,
   "id": "c5ea3b8e-303a-4e8e-8c96-5a2a67444192",
   "metadata": {},
   "outputs": [
    {
     "data": {
      "text/html": [
       "<div>\n",
       "<style scoped>\n",
       "    .dataframe tbody tr th:only-of-type {\n",
       "        vertical-align: middle;\n",
       "    }\n",
       "\n",
       "    .dataframe tbody tr th {\n",
       "        vertical-align: top;\n",
       "    }\n",
       "\n",
       "    .dataframe thead th {\n",
       "        text-align: right;\n",
       "    }\n",
       "</style>\n",
       "<table border=\"1\" class=\"dataframe\">\n",
       "  <thead>\n",
       "    <tr style=\"text-align: right;\">\n",
       "      <th></th>\n",
       "      <th>Job_Title</th>\n",
       "      <th>Location</th>\n",
       "      <th>Company_Name</th>\n",
       "      <th>Experience_Required</th>\n",
       "    </tr>\n",
       "  </thead>\n",
       "  <tbody>\n",
       "    <tr>\n",
       "      <th>0</th>\n",
       "      <td>Data Analyst , Senior Data Analyst , Data Anal...</td>\n",
       "      <td>Bangalore\\n+8</td>\n",
       "      <td>appsoft solutions</td>\n",
       "      <td>0 to 4 Yrs</td>\n",
       "    </tr>\n",
       "    <tr>\n",
       "      <th>1</th>\n",
       "      <td>Data Analyst</td>\n",
       "      <td>Bangalore\\n+4</td>\n",
       "      <td>aryan technology</td>\n",
       "      <td>0 to 4 Yrs</td>\n",
       "    </tr>\n",
       "    <tr>\n",
       "      <th>2</th>\n",
       "      <td>Healthcare Data Analyst</td>\n",
       "      <td>Bangalore\\n+8</td>\n",
       "      <td>spento papers (india) llp</td>\n",
       "      <td>8 to 13 Yrs</td>\n",
       "    </tr>\n",
       "    <tr>\n",
       "      <th>3</th>\n",
       "      <td>Senior Data Analyst</td>\n",
       "      <td>Bangalore\\n+8</td>\n",
       "      <td>gallagher and mohan private limited</td>\n",
       "      <td>2 to 7 Yrs</td>\n",
       "    </tr>\n",
       "    <tr>\n",
       "      <th>4</th>\n",
       "      <td>Urgent Hiring For Data Analyst</td>\n",
       "      <td>Bangalore\\n+2</td>\n",
       "      <td>diraa hr services hiring for diraa ...</td>\n",
       "      <td>0 to 4 Yrs</td>\n",
       "    </tr>\n",
       "    <tr>\n",
       "      <th>5</th>\n",
       "      <td>Hr Data Analyst</td>\n",
       "      <td>Bangalore</td>\n",
       "      <td>leverage business solutions private...</td>\n",
       "      <td>4 to 8 Yrs</td>\n",
       "    </tr>\n",
       "    <tr>\n",
       "      <th>6</th>\n",
       "      <td>Operations Executive ( Data Analyst )</td>\n",
       "      <td>Bangalore\\n+2</td>\n",
       "      <td>innovsource services private limite...</td>\n",
       "      <td>1 to 4 Yrs</td>\n",
       "    </tr>\n",
       "    <tr>\n",
       "      <th>7</th>\n",
       "      <td>Clinical Data Analyst Ii</td>\n",
       "      <td>Bangalore\\n+8</td>\n",
       "      <td>techno endura</td>\n",
       "      <td>0 to 2 Yrs</td>\n",
       "    </tr>\n",
       "    <tr>\n",
       "      <th>8</th>\n",
       "      <td>Data Governance Analyst</td>\n",
       "      <td>Bangalore</td>\n",
       "      <td>white horse manpower consultancy (p...</td>\n",
       "      <td>5 to 8 Yrs</td>\n",
       "    </tr>\n",
       "    <tr>\n",
       "      <th>9</th>\n",
       "      <td>Data Science Analytics</td>\n",
       "      <td>Bangalore\\n+7</td>\n",
       "      <td>mackenzie modern it solutions priva...</td>\n",
       "      <td>5 to 8 Yrs</td>\n",
       "    </tr>\n",
       "    <tr>\n",
       "      <th>10</th>\n",
       "      <td>Data Modeler</td>\n",
       "      <td>Bangalore</td>\n",
       "      <td>ntech it solutions private limited</td>\n",
       "      <td>8 to 13 Yrs</td>\n",
       "    </tr>\n",
       "    <tr>\n",
       "      <th>11</th>\n",
       "      <td>Lead Data Scientist</td>\n",
       "      <td>Bangalore\\n+8</td>\n",
       "      <td>spento papers (india) llp</td>\n",
       "      <td>12 to 22 Yrs</td>\n",
       "    </tr>\n",
       "    <tr>\n",
       "      <th>12</th>\n",
       "      <td>Business Analyst openings - Epergne Solutions</td>\n",
       "      <td>Bangalore\\n+1</td>\n",
       "      <td>epergne solutions</td>\n",
       "      <td>6 to 12 Yrs</td>\n",
       "    </tr>\n",
       "    <tr>\n",
       "      <th>13</th>\n",
       "      <td>Opening for HR Analytics Power BI, Data Anlytics</td>\n",
       "      <td>Bangalore</td>\n",
       "      <td>personal network.</td>\n",
       "      <td>3 to 8 Yrs</td>\n",
       "    </tr>\n",
       "    <tr>\n",
       "      <th>14</th>\n",
       "      <td>Sas Programmer Analyst</td>\n",
       "      <td>Bangalore\\n+8</td>\n",
       "      <td>techno endura</td>\n",
       "      <td>0 to 2 Yrs</td>\n",
       "    </tr>\n",
       "    <tr>\n",
       "      <th>15</th>\n",
       "      <td>Data Science Analytics</td>\n",
       "      <td>Bangalore\\n+7</td>\n",
       "      <td>mackenzie modern it solutions priva...</td>\n",
       "      <td>3 to 8 Yrs</td>\n",
       "    </tr>\n",
       "    <tr>\n",
       "      <th>16</th>\n",
       "      <td>Senior Data Engineer</td>\n",
       "      <td>Bangalore</td>\n",
       "      <td>i-vintage solutions pvt. ltd.</td>\n",
       "      <td>7 to 9 Yrs</td>\n",
       "    </tr>\n",
       "    <tr>\n",
       "      <th>17</th>\n",
       "      <td>Business Intelligence Analyst</td>\n",
       "      <td>Bangalore\\n+9</td>\n",
       "      <td>traab engineering india private lim...</td>\n",
       "      <td>15 to &gt;25 Yrs</td>\n",
       "    </tr>\n",
       "    <tr>\n",
       "      <th>18</th>\n",
       "      <td>Google Data Engineer</td>\n",
       "      <td>Bangalore\\n+9</td>\n",
       "      <td>integrated personnel services limit...</td>\n",
       "      <td>4 to 9 Yrs</td>\n",
       "    </tr>\n",
       "    <tr>\n",
       "      <th>19</th>\n",
       "      <td>Data Engineer with Greenplum or PostgreSQL Dat...</td>\n",
       "      <td>Bangalore</td>\n",
       "      <td>i-vintage solutions pvt. ltd.</td>\n",
       "      <td>5 to 8 Yrs</td>\n",
       "    </tr>\n",
       "  </tbody>\n",
       "</table>\n",
       "</div>"
      ],
      "text/plain": [
       "                                            Job_Title       Location  \\\n",
       "0   Data Analyst , Senior Data Analyst , Data Anal...  Bangalore\\n+8   \n",
       "1                                        Data Analyst  Bangalore\\n+4   \n",
       "2                             Healthcare Data Analyst  Bangalore\\n+8   \n",
       "3                                 Senior Data Analyst  Bangalore\\n+8   \n",
       "4                      Urgent Hiring For Data Analyst  Bangalore\\n+2   \n",
       "5                                     Hr Data Analyst      Bangalore   \n",
       "6               Operations Executive ( Data Analyst )  Bangalore\\n+2   \n",
       "7                            Clinical Data Analyst Ii  Bangalore\\n+8   \n",
       "8                             Data Governance Analyst      Bangalore   \n",
       "9                              Data Science Analytics  Bangalore\\n+7   \n",
       "10                                       Data Modeler      Bangalore   \n",
       "11                                Lead Data Scientist  Bangalore\\n+8   \n",
       "12      Business Analyst openings - Epergne Solutions  Bangalore\\n+1   \n",
       "13   Opening for HR Analytics Power BI, Data Anlytics      Bangalore   \n",
       "14                             Sas Programmer Analyst  Bangalore\\n+8   \n",
       "15                             Data Science Analytics  Bangalore\\n+7   \n",
       "16                               Senior Data Engineer      Bangalore   \n",
       "17                      Business Intelligence Analyst  Bangalore\\n+9   \n",
       "18                               Google Data Engineer  Bangalore\\n+9   \n",
       "19  Data Engineer with Greenplum or PostgreSQL Dat...      Bangalore   \n",
       "\n",
       "                              Company_Name Experience_Required  \n",
       "0                        appsoft solutions          0 to 4 Yrs  \n",
       "1                         aryan technology          0 to 4 Yrs  \n",
       "2                spento papers (india) llp         8 to 13 Yrs  \n",
       "3      gallagher and mohan private limited          2 to 7 Yrs  \n",
       "4   diraa hr services hiring for diraa ...          0 to 4 Yrs  \n",
       "5   leverage business solutions private...          4 to 8 Yrs  \n",
       "6   innovsource services private limite...          1 to 4 Yrs  \n",
       "7                            techno endura          0 to 2 Yrs  \n",
       "8   white horse manpower consultancy (p...          5 to 8 Yrs  \n",
       "9   mackenzie modern it solutions priva...          5 to 8 Yrs  \n",
       "10      ntech it solutions private limited         8 to 13 Yrs  \n",
       "11               spento papers (india) llp        12 to 22 Yrs  \n",
       "12                       epergne solutions         6 to 12 Yrs  \n",
       "13                       personal network.          3 to 8 Yrs  \n",
       "14                           techno endura          0 to 2 Yrs  \n",
       "15  mackenzie modern it solutions priva...          3 to 8 Yrs  \n",
       "16           i-vintage solutions pvt. ltd.          7 to 9 Yrs  \n",
       "17  traab engineering india private lim...       15 to >25 Yrs  \n",
       "18  integrated personnel services limit...          4 to 9 Yrs  \n",
       "19           i-vintage solutions pvt. ltd.          5 to 8 Yrs  "
      ]
     },
     "execution_count": 105,
     "metadata": {},
     "output_type": "execute_result"
    }
   ],
   "source": [
    "data={'Job_Title':job_title,'Location':job_location,'Company_Name':company_name,'Experience_Required':experience_required}\n",
    "df=pd.DataFrame(data)\n",
    "df"
   ]
  },
  {
   "cell_type": "code",
   "execution_count": 109,
   "id": "66af5e3c-5ed2-4497-b4c0-0406fcc8d803",
   "metadata": {},
   "outputs": [
    {
     "data": {
      "text/html": [
       "<div>\n",
       "<style scoped>\n",
       "    .dataframe tbody tr th:only-of-type {\n",
       "        vertical-align: middle;\n",
       "    }\n",
       "\n",
       "    .dataframe tbody tr th {\n",
       "        vertical-align: top;\n",
       "    }\n",
       "\n",
       "    .dataframe thead th {\n",
       "        text-align: right;\n",
       "    }\n",
       "</style>\n",
       "<table border=\"1\" class=\"dataframe\">\n",
       "  <thead>\n",
       "    <tr style=\"text-align: right;\">\n",
       "      <th></th>\n",
       "      <th>Job_Title</th>\n",
       "      <th>Location</th>\n",
       "      <th>Company_Name</th>\n",
       "      <th>Experience_Required</th>\n",
       "    </tr>\n",
       "  </thead>\n",
       "  <tbody>\n",
       "    <tr>\n",
       "      <th>0</th>\n",
       "      <td>Data Analyst , Senior Data Analyst , Data Anal...</td>\n",
       "      <td>Bangalore\\n+8</td>\n",
       "      <td>appsoft solutions</td>\n",
       "      <td>0 to 4 Yrs</td>\n",
       "    </tr>\n",
       "    <tr>\n",
       "      <th>1</th>\n",
       "      <td>Data Analyst</td>\n",
       "      <td>Bangalore\\n+4</td>\n",
       "      <td>aryan technology</td>\n",
       "      <td>0 to 4 Yrs</td>\n",
       "    </tr>\n",
       "    <tr>\n",
       "      <th>2</th>\n",
       "      <td>Healthcare Data Analyst</td>\n",
       "      <td>Bangalore\\n+8</td>\n",
       "      <td>spento papers (india) llp</td>\n",
       "      <td>8 to 13 Yrs</td>\n",
       "    </tr>\n",
       "    <tr>\n",
       "      <th>3</th>\n",
       "      <td>Senior Data Analyst</td>\n",
       "      <td>Bangalore\\n+8</td>\n",
       "      <td>gallagher and mohan private limited</td>\n",
       "      <td>2 to 7 Yrs</td>\n",
       "    </tr>\n",
       "    <tr>\n",
       "      <th>4</th>\n",
       "      <td>Urgent Hiring For Data Analyst</td>\n",
       "      <td>Bangalore\\n+2</td>\n",
       "      <td>diraa hr services hiring for diraa ...</td>\n",
       "      <td>0 to 4 Yrs</td>\n",
       "    </tr>\n",
       "    <tr>\n",
       "      <th>5</th>\n",
       "      <td>Hr Data Analyst</td>\n",
       "      <td>Bangalore</td>\n",
       "      <td>leverage business solutions private...</td>\n",
       "      <td>4 to 8 Yrs</td>\n",
       "    </tr>\n",
       "    <tr>\n",
       "      <th>6</th>\n",
       "      <td>Operations Executive ( Data Analyst )</td>\n",
       "      <td>Bangalore\\n+2</td>\n",
       "      <td>innovsource services private limite...</td>\n",
       "      <td>1 to 4 Yrs</td>\n",
       "    </tr>\n",
       "    <tr>\n",
       "      <th>7</th>\n",
       "      <td>Clinical Data Analyst Ii</td>\n",
       "      <td>Bangalore\\n+8</td>\n",
       "      <td>techno endura</td>\n",
       "      <td>0 to 2 Yrs</td>\n",
       "    </tr>\n",
       "    <tr>\n",
       "      <th>8</th>\n",
       "      <td>Data Governance Analyst</td>\n",
       "      <td>Bangalore</td>\n",
       "      <td>white horse manpower consultancy (p...</td>\n",
       "      <td>5 to 8 Yrs</td>\n",
       "    </tr>\n",
       "    <tr>\n",
       "      <th>9</th>\n",
       "      <td>Data Science Analytics</td>\n",
       "      <td>Bangalore\\n+7</td>\n",
       "      <td>mackenzie modern it solutions priva...</td>\n",
       "      <td>5 to 8 Yrs</td>\n",
       "    </tr>\n",
       "  </tbody>\n",
       "</table>\n",
       "</div>"
      ],
      "text/plain": [
       "                                           Job_Title       Location  \\\n",
       "0  Data Analyst , Senior Data Analyst , Data Anal...  Bangalore\\n+8   \n",
       "1                                       Data Analyst  Bangalore\\n+4   \n",
       "2                            Healthcare Data Analyst  Bangalore\\n+8   \n",
       "3                                Senior Data Analyst  Bangalore\\n+8   \n",
       "4                     Urgent Hiring For Data Analyst  Bangalore\\n+2   \n",
       "5                                    Hr Data Analyst      Bangalore   \n",
       "6              Operations Executive ( Data Analyst )  Bangalore\\n+2   \n",
       "7                           Clinical Data Analyst Ii  Bangalore\\n+8   \n",
       "8                            Data Governance Analyst      Bangalore   \n",
       "9                             Data Science Analytics  Bangalore\\n+7   \n",
       "\n",
       "                             Company_Name Experience_Required  \n",
       "0                       appsoft solutions          0 to 4 Yrs  \n",
       "1                        aryan technology          0 to 4 Yrs  \n",
       "2               spento papers (india) llp         8 to 13 Yrs  \n",
       "3     gallagher and mohan private limited          2 to 7 Yrs  \n",
       "4  diraa hr services hiring for diraa ...          0 to 4 Yrs  \n",
       "5  leverage business solutions private...          4 to 8 Yrs  \n",
       "6  innovsource services private limite...          1 to 4 Yrs  \n",
       "7                           techno endura          0 to 2 Yrs  \n",
       "8  white horse manpower consultancy (p...          5 to 8 Yrs  \n",
       "9  mackenzie modern it solutions priva...          5 to 8 Yrs  "
      ]
     },
     "execution_count": 109,
     "metadata": {},
     "output_type": "execute_result"
    }
   ],
   "source": [
    "final=df.iloc[0:10]"
   ]
  },
  {
   "cell_type": "markdown",
   "id": "7270d487-efcf-4615-8e1b-f318942e7d87",
   "metadata": {},
   "source": [
    "Q2: Write a python program to scrape data for ““Data Scientist” Job position in “Bangalore” location.\n",
    "You have to scrape the job-title, job-location, company_name, experience_required. You have to\n",
    "scrape first 10 jobs data."
   ]
  },
  {
   "cell_type": "code",
   "execution_count": 315,
   "id": "af20ab8d-64dd-41c8-a559-e6e9fba2f20d",
   "metadata": {},
   "outputs": [],
   "source": [
    "driver=webdriver.Chrome()"
   ]
  },
  {
   "cell_type": "code",
   "execution_count": 316,
   "id": "183fbfc7-38bb-4acb-bb3a-6ccda53a4f39",
   "metadata": {},
   "outputs": [],
   "source": [
    "driver.get(\" https://www.naukri.com/\")"
   ]
  },
  {
   "cell_type": "code",
   "execution_count": 317,
   "id": "389bdeea-c3bb-456c-bf0d-d8619335fb1e",
   "metadata": {},
   "outputs": [
    {
     "name": "stdout",
     "output_type": "stream",
     "text": [
      "<selenium.webdriver.remote.webelement.WebElement (session=\"4ad79c8477f1027b06e3cb9c45404ff3\", element=\"f.2E7A93144B66275735C0694551756863.d.C02880C6D29F46543A54DC679ABD33D3.e.3\")>\n"
     ]
    }
   ],
   "source": [
    "# entering designation and location as required in the question\n",
    "designation=driver.find_element(By.CLASS_NAME,\"suggestor-input \")\n",
    "designation.send_keys('Data Analyst')\n",
    "print(designation)"
   ]
  },
  {
   "cell_type": "code",
   "execution_count": 318,
   "id": "e52d010c-9d07-46a3-bfec-71e2122f7e11",
   "metadata": {},
   "outputs": [
    {
     "name": "stdout",
     "output_type": "stream",
     "text": [
      "<selenium.webdriver.remote.webelement.WebElement (session=\"4ad79c8477f1027b06e3cb9c45404ff3\", element=\"f.2E7A93144B66275735C0694551756863.d.C02880C6D29F46543A54DC679ABD33D3.e.5\")>\n"
     ]
    }
   ],
   "source": [
    "location=driver.find_element(By.XPATH,\"/html/body/div[1]/div[7]/div/div/div[5]/div/div/div/div[1]/div/input\")\n",
    "location.send_keys(\"Bangalore\")\n",
    "print(location)"
   ]
  },
  {
   "cell_type": "code",
   "execution_count": 319,
   "id": "932639c3-d3c1-45c3-939c-a471738ce6eb",
   "metadata": {
    "scrolled": true
   },
   "outputs": [],
   "source": [
    "Search=driver.find_element(By.CLASS_NAME,\"qsbSubmit\")\n",
    "Search.click()"
   ]
  },
  {
   "cell_type": "code",
   "execution_count": 320,
   "id": "a12feb84-2fa9-4f2d-a9fb-1e7b5474f52a",
   "metadata": {},
   "outputs": [],
   "source": [
    "# creating variables\n",
    "job_title=[]\n",
    "job_location=[]\n",
    "company_name=[]\n",
    "experience_required=[]"
   ]
  },
  {
   "cell_type": "code",
   "execution_count": 321,
   "id": "2da38243-8e3d-463e-941a-9fa02de6694d",
   "metadata": {},
   "outputs": [
    {
     "data": {
      "text/plain": [
       "['0-5 Yrs',\n",
       " '3-6 Yrs',\n",
       " '1-4 Yrs',\n",
       " '3-8 Yrs',\n",
       " '5-8 Yrs',\n",
       " '2-5 Yrs',\n",
       " '3-8 Yrs',\n",
       " '1-5 Yrs',\n",
       " '4-6 Yrs',\n",
       " '1-3 Yrs']"
      ]
     },
     "execution_count": 321,
     "metadata": {},
     "output_type": "execute_result"
    }
   ],
   "source": [
    "title=driver.find_elements(By.XPATH,'//div[@class=\" row1\"]')\n",
    "for i in title:\n",
    "    job_title.append(i.text)\n",
    "\n",
    "job_title[:10]\n",
    "\n",
    "location=driver.find_elements(By.XPATH,'//span[@class=\"locWdth\"]')\n",
    "for i in location:\n",
    "    job_location.append(i.text)\n",
    "job_location[:10]\n",
    "company=driver.find_elements(By.XPATH,'//span[@class=\" comp-dtls-wrap\"]/a')\n",
    "for i in company:\n",
    "    company_name.append(i.text)\n",
    "\n",
    "company_name[:10]\n",
    "\n",
    "# df1=pd.DataFrame(company_name)\n",
    "# cn=df1.iloc[:20]\n",
    "\n",
    "experience=driver.find_elements(By.XPATH,'//span[@class=\"expwdth\"]')\n",
    "for i in experience:\n",
    "    experience_required.append(i.text)\n",
    "\n",
    "experience_required[:10]"
   ]
  },
  {
   "cell_type": "code",
   "execution_count": 322,
   "id": "b55730a9-cdef-4367-bd87-5227b7f59442",
   "metadata": {},
   "outputs": [
    {
     "name": "stdout",
     "output_type": "stream",
     "text": [
      "10 10 10 10\n"
     ]
    }
   ],
   "source": [
    "print(len(job_title[:10]),len(job_location[:10]),len(company_name[:10]),len(experience_required[:10]))"
   ]
  },
  {
   "cell_type": "code",
   "execution_count": 325,
   "id": "4397a1ea-771f-4e54-9230-9d0ad3556780",
   "metadata": {
    "scrolled": true
   },
   "outputs": [
    {
     "data": {
      "text/html": [
       "<div>\n",
       "<style scoped>\n",
       "    .dataframe tbody tr th:only-of-type {\n",
       "        vertical-align: middle;\n",
       "    }\n",
       "\n",
       "    .dataframe tbody tr th {\n",
       "        vertical-align: top;\n",
       "    }\n",
       "\n",
       "    .dataframe thead th {\n",
       "        text-align: right;\n",
       "    }\n",
       "</style>\n",
       "<table border=\"1\" class=\"dataframe\">\n",
       "  <thead>\n",
       "    <tr style=\"text-align: right;\">\n",
       "      <th></th>\n",
       "      <th>Job_Title</th>\n",
       "      <th>Location</th>\n",
       "      <th>Company_Name</th>\n",
       "      <th>Experience_Required</th>\n",
       "    </tr>\n",
       "  </thead>\n",
       "  <tbody>\n",
       "    <tr>\n",
       "      <th>0</th>\n",
       "      <td>Data Analyst</td>\n",
       "      <td>Bengaluru(Yelahanka New Town)</td>\n",
       "      <td>SustainZone Tech Solutions</td>\n",
       "      <td>0-5 Yrs</td>\n",
       "    </tr>\n",
       "    <tr>\n",
       "      <th>1</th>\n",
       "      <td>Data Analyst - Python/Hadoop</td>\n",
       "      <td>Bengaluru</td>\n",
       "      <td>Sadup Softech</td>\n",
       "      <td>3-6 Yrs</td>\n",
       "    </tr>\n",
       "    <tr>\n",
       "      <th>2</th>\n",
       "      <td>Staff Data Analyst</td>\n",
       "      <td>Bengaluru</td>\n",
       "      <td>4.6</td>\n",
       "      <td>1-4 Yrs</td>\n",
       "    </tr>\n",
       "    <tr>\n",
       "      <th>3</th>\n",
       "      <td>Data Analyst</td>\n",
       "      <td>Hybrid - Chennai, Bengaluru, Delhi / NCR</td>\n",
       "      <td>24 Reviews</td>\n",
       "      <td>3-8 Yrs</td>\n",
       "    </tr>\n",
       "    <tr>\n",
       "      <th>4</th>\n",
       "      <td>Python Developer Data Analyst</td>\n",
       "      <td>Bengaluru</td>\n",
       "      <td>Quince Corporate Services</td>\n",
       "      <td>5-8 Yrs</td>\n",
       "    </tr>\n",
       "    <tr>\n",
       "      <th>5</th>\n",
       "      <td>Data Analyst</td>\n",
       "      <td>Bengaluru</td>\n",
       "      <td>Torry Harris Business Solutions</td>\n",
       "      <td>2-5 Yrs</td>\n",
       "    </tr>\n",
       "    <tr>\n",
       "      <th>6</th>\n",
       "      <td>WFM Data Analyst</td>\n",
       "      <td>Bengaluru</td>\n",
       "      <td>3.9</td>\n",
       "      <td>3-8 Yrs</td>\n",
       "    </tr>\n",
       "    <tr>\n",
       "      <th>7</th>\n",
       "      <td>Data Analyst</td>\n",
       "      <td>Bengaluru</td>\n",
       "      <td>413 Reviews</td>\n",
       "      <td>1-5 Yrs</td>\n",
       "    </tr>\n",
       "    <tr>\n",
       "      <th>8</th>\n",
       "      <td>AWS Data Analyst</td>\n",
       "      <td>Bengaluru</td>\n",
       "      <td>Loyalytics</td>\n",
       "      <td>4-6 Yrs</td>\n",
       "    </tr>\n",
       "    <tr>\n",
       "      <th>9</th>\n",
       "      <td>Data Analyst</td>\n",
       "      <td>Bengaluru</td>\n",
       "      <td>4.1</td>\n",
       "      <td>1-3 Yrs</td>\n",
       "    </tr>\n",
       "  </tbody>\n",
       "</table>\n",
       "</div>"
      ],
      "text/plain": [
       "                       Job_Title                                  Location  \\\n",
       "0                   Data Analyst             Bengaluru(Yelahanka New Town)   \n",
       "1   Data Analyst - Python/Hadoop                                 Bengaluru   \n",
       "2             Staff Data Analyst                                 Bengaluru   \n",
       "3                   Data Analyst  Hybrid - Chennai, Bengaluru, Delhi / NCR   \n",
       "4  Python Developer Data Analyst                                 Bengaluru   \n",
       "5                   Data Analyst                                 Bengaluru   \n",
       "6               WFM Data Analyst                                 Bengaluru   \n",
       "7                   Data Analyst                                 Bengaluru   \n",
       "8               AWS Data Analyst                                 Bengaluru   \n",
       "9                   Data Analyst                                 Bengaluru   \n",
       "\n",
       "                      Company_Name Experience_Required  \n",
       "0       SustainZone Tech Solutions             0-5 Yrs  \n",
       "1                    Sadup Softech             3-6 Yrs  \n",
       "2                              4.6             1-4 Yrs  \n",
       "3                       24 Reviews             3-8 Yrs  \n",
       "4        Quince Corporate Services             5-8 Yrs  \n",
       "5  Torry Harris Business Solutions             2-5 Yrs  \n",
       "6                              3.9             3-8 Yrs  \n",
       "7                      413 Reviews             1-5 Yrs  \n",
       "8                       Loyalytics             4-6 Yrs  \n",
       "9                              4.1             1-3 Yrs  "
      ]
     },
     "execution_count": 325,
     "metadata": {},
     "output_type": "execute_result"
    }
   ],
   "source": [
    "data={'Job_Title':job_title[:10],'Location':job_location[:10],'Company_Name':company_name[:10],'Experience_Required':experience_required[:10]}\n",
    "df=pd.DataFrame(data)\n",
    "df"
   ]
  },
  {
   "cell_type": "markdown",
   "id": "1ce7a6a7-7f2e-4f82-829a-db0cd8b78b70",
   "metadata": {},
   "source": [
    "Q3: Scrape data of first 100 sunglasses listings on flipkart.com. You have to scrape four attributes:\n",
    "1. Brand\n",
    "2. ProductDescription\n",
    "3. Price"
   ]
  },
  {
   "cell_type": "code",
   "execution_count": 293,
   "id": "912caeb0-83c3-4889-b606-4f5de3c80199",
   "metadata": {},
   "outputs": [],
   "source": [
    "driver=webdriver.Chrome()"
   ]
  },
  {
   "cell_type": "code",
   "execution_count": 294,
   "id": "4f20d6f9-cef2-41f1-889c-1848c0622cf9",
   "metadata": {},
   "outputs": [],
   "source": [
    "driver.get(\"https://www.flipkart.com/\")"
   ]
  },
  {
   "cell_type": "code",
   "execution_count": 295,
   "id": "892e605e-ea6a-4f11-b20f-c72ac85d66c4",
   "metadata": {},
   "outputs": [
    {
     "data": {
      "text/plain": [
       "<selenium.webdriver.remote.webelement.WebElement (session=\"2284a40f8c46e0364f8fe3264c7412a3\", element=\"f.71BFF19F2B5740D45C5FD22635454710.d.52C2A7A4BB7CD19D592CB929AA49AF80.e.26\")>"
      ]
     },
     "execution_count": 295,
     "metadata": {},
     "output_type": "execute_result"
    }
   ],
   "source": [
    "search=driver.find_element(By.XPATH,'//input[@class=\"Pke_EE\"]')\n",
    "search"
   ]
  },
  {
   "cell_type": "code",
   "execution_count": 296,
   "id": "643d4570-2875-4ee0-bf1d-19c15d0f4323",
   "metadata": {},
   "outputs": [],
   "source": [
    "search.send_keys('sunglasses')"
   ]
  },
  {
   "cell_type": "code",
   "execution_count": 297,
   "id": "f8c61c09-07da-4f26-935b-3d05c69a8d2d",
   "metadata": {},
   "outputs": [
    {
     "data": {
      "text/plain": [
       "<selenium.webdriver.remote.webelement.WebElement (session=\"2284a40f8c46e0364f8fe3264c7412a3\", element=\"f.71BFF19F2B5740D45C5FD22635454710.d.9093E73E7CDD891342A362FC153CF888.e.2438\")>"
      ]
     },
     "execution_count": 297,
     "metadata": {},
     "output_type": "execute_result"
    }
   ],
   "source": [
    "search_but=driver.find_element(By.XPATH,'//button[@class=\"MJG8Up\"]')\n",
    "search_but"
   ]
  },
  {
   "cell_type": "code",
   "execution_count": 298,
   "id": "f7e7da9d-0eac-4deb-8c8d-241cda592d7c",
   "metadata": {},
   "outputs": [],
   "source": [
    "search_but=driver.find_element(By.CLASS_NAME,\"MJG8Up\")\n",
    "search_but.click()"
   ]
  },
  {
   "cell_type": "code",
   "execution_count": 303,
   "id": "f02aac98-4870-45df-9cf6-17258c2c1425",
   "metadata": {},
   "outputs": [],
   "source": [
    "Brand_name=[]\n",
    "Price=[]\n",
    "Description=[]\n",
    "Discount=[]"
   ]
  },
  {
   "cell_type": "code",
   "execution_count": 310,
   "id": "521f1131-7a9b-43bd-96fe-faf3f77818ed",
   "metadata": {},
   "outputs": [],
   "source": [
    "for i in range(3):\n",
    "    brand_name=driver.find_elements(By.XPATH,'//div[@class=\"syl9yP\"]')\n",
    "    price=driver.find_elements(By.XPATH,'//div[@class=\"Nx9bqj\"]')\n",
    "    description=driver.find_elements(By.XPATH,\"//a[@class='IRpwTa']\")\n",
    "    discount=driver.find_elements(By.XPATH,'//div[@class=\"UkUFwK\"]')\n",
    "\n",
    "    for i in brand_name:\n",
    "        Brand_name.append(i.text)\n",
    "\n",
    "    Brand_name[:100]\n",
    "\n",
    "    for i in price:\n",
    "        Price.append(i.text)\n",
    "\n",
    "    Price[:100]\n",
    "\n",
    "    for i in description:\n",
    "        Description.append(i.text)\n",
    "\n",
    "    Description[:100]\n",
    "\n",
    "    for i in discount:\n",
    "        Discount.append(i.text)\n",
    "\n",
    "    Discount[:100]"
   ]
  },
  {
   "cell_type": "code",
   "execution_count": 312,
   "id": "a8343927-3a35-4fd6-bb25-3384d4152a91",
   "metadata": {},
   "outputs": [
    {
     "name": "stdout",
     "output_type": "stream",
     "text": [
      "100 100 81 100\n"
     ]
    }
   ],
   "source": [
    "print(len(Brand_name[:100]),len(Price[:100]),len(Description[:100]),len(Discount[:100]))"
   ]
  },
  {
   "cell_type": "code",
   "execution_count": 313,
   "id": "5ad1e114-54d1-44f4-8ba2-470080c768a3",
   "metadata": {},
   "outputs": [
    {
     "data": {
      "text/html": [
       "<div>\n",
       "<style scoped>\n",
       "    .dataframe tbody tr th:only-of-type {\n",
       "        vertical-align: middle;\n",
       "    }\n",
       "\n",
       "    .dataframe tbody tr th {\n",
       "        vertical-align: top;\n",
       "    }\n",
       "\n",
       "    .dataframe thead th {\n",
       "        text-align: right;\n",
       "    }\n",
       "</style>\n",
       "<table border=\"1\" class=\"dataframe\">\n",
       "  <thead>\n",
       "    <tr style=\"text-align: right;\">\n",
       "      <th></th>\n",
       "      <th>Brand_Name</th>\n",
       "      <th>Product_price</th>\n",
       "      <th>Discount%</th>\n",
       "    </tr>\n",
       "  </thead>\n",
       "  <tbody>\n",
       "    <tr>\n",
       "      <th>0</th>\n",
       "      <td>Lenskart STUDIO</td>\n",
       "      <td>₹1,799</td>\n",
       "      <td>48% off</td>\n",
       "    </tr>\n",
       "    <tr>\n",
       "      <th>1</th>\n",
       "      <td>Lenskart STUDIO</td>\n",
       "      <td>₹1,799</td>\n",
       "      <td>48% off</td>\n",
       "    </tr>\n",
       "    <tr>\n",
       "      <th>2</th>\n",
       "      <td>Fastrack</td>\n",
       "      <td>₹759</td>\n",
       "      <td>30% off</td>\n",
       "    </tr>\n",
       "    <tr>\n",
       "      <th>3</th>\n",
       "      <td>VINCENT CHASE</td>\n",
       "      <td>₹548</td>\n",
       "      <td>72% off</td>\n",
       "    </tr>\n",
       "    <tr>\n",
       "      <th>4</th>\n",
       "      <td>Fastrack</td>\n",
       "      <td>₹739</td>\n",
       "      <td>26% off</td>\n",
       "    </tr>\n",
       "    <tr>\n",
       "      <th>...</th>\n",
       "      <td>...</td>\n",
       "      <td>...</td>\n",
       "      <td>...</td>\n",
       "    </tr>\n",
       "    <tr>\n",
       "      <th>95</th>\n",
       "      <td>VINCENT CHASE</td>\n",
       "      <td>₹709</td>\n",
       "      <td>64% off</td>\n",
       "    </tr>\n",
       "    <tr>\n",
       "      <th>96</th>\n",
       "      <td>Hooper</td>\n",
       "      <td>₹599</td>\n",
       "      <td>70% off</td>\n",
       "    </tr>\n",
       "    <tr>\n",
       "      <th>97</th>\n",
       "      <td>VINCENT CHASE</td>\n",
       "      <td>₹1,259</td>\n",
       "      <td>37% off</td>\n",
       "    </tr>\n",
       "    <tr>\n",
       "      <th>98</th>\n",
       "      <td>Hooper</td>\n",
       "      <td>₹1,199</td>\n",
       "      <td>40% off</td>\n",
       "    </tr>\n",
       "    <tr>\n",
       "      <th>99</th>\n",
       "      <td>Dervin</td>\n",
       "      <td>₹247</td>\n",
       "      <td>83% off</td>\n",
       "    </tr>\n",
       "  </tbody>\n",
       "</table>\n",
       "<p>100 rows × 3 columns</p>\n",
       "</div>"
      ],
      "text/plain": [
       "         Brand_Name Product_price Discount%\n",
       "0   Lenskart STUDIO        ₹1,799   48% off\n",
       "1   Lenskart STUDIO        ₹1,799   48% off\n",
       "2          Fastrack          ₹759   30% off\n",
       "3     VINCENT CHASE          ₹548   72% off\n",
       "4          Fastrack          ₹739   26% off\n",
       "..              ...           ...       ...\n",
       "95    VINCENT CHASE          ₹709   64% off\n",
       "96           Hooper          ₹599   70% off\n",
       "97    VINCENT CHASE        ₹1,259   37% off\n",
       "98           Hooper        ₹1,199   40% off\n",
       "99           Dervin          ₹247   83% off\n",
       "\n",
       "[100 rows x 3 columns]"
      ]
     },
     "execution_count": 313,
     "metadata": {},
     "output_type": "execute_result"
    }
   ],
   "source": [
    "data={'Brand_Name':Brand_name[:100],'Product_price':Price[:100],'Discount%':Discount[:100]}\n",
    "df=pd.DataFrame(data)\n",
    "df"
   ]
  },
  {
   "cell_type": "code",
   "execution_count": null,
   "id": "2992da91-cc8a-4991-a06f-9d13a189f7fe",
   "metadata": {},
   "outputs": [],
   "source": []
  }
 ],
 "metadata": {
  "kernelspec": {
   "display_name": "Python 3 (ipykernel)",
   "language": "python",
   "name": "python3"
  },
  "language_info": {
   "codemirror_mode": {
    "name": "ipython",
    "version": 3
   },
   "file_extension": ".py",
   "mimetype": "text/x-python",
   "name": "python",
   "nbconvert_exporter": "python",
   "pygments_lexer": "ipython3",
   "version": "3.11.5"
  }
 },
 "nbformat": 4,
 "nbformat_minor": 5
}
