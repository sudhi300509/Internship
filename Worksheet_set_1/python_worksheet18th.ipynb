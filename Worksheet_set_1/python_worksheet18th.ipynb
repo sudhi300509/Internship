{
 "cells": [
  {
   "cell_type": "markdown",
   "id": "ce370b5d-565a-4094-b5b5-2c3f110990bb",
   "metadata": {},
   "source": [
    "1) Write a python program to find the factorial of a number."
   ]
  },
  {
   "cell_type": "code",
   "execution_count": 12,
   "id": "7c2ef1d5-f486-48bb-945a-98eb14af3229",
   "metadata": {},
   "outputs": [
    {
     "name": "stdin",
     "output_type": "stream",
     "text": [
      "Enter a number: 7\n"
     ]
    },
    {
     "name": "stdout",
     "output_type": "stream",
     "text": [
      "The facotrial of 7 is: 1\n",
      "The facotrial of 7 is: 2\n",
      "The facotrial of 7 is: 6\n",
      "The facotrial of 7 is: 24\n",
      "The facotrial of 7 is: 120\n",
      "The facotrial of 7 is: 720\n",
      "The facotrial of 7 is: 5040\n"
     ]
    }
   ],
   "source": [
    "num=int(input(\"Enter a number:\"))\n",
    "factorial=1\n",
    "for i in range(1,num+1):\n",
    "    factorial=factorial*i\n",
    "    print(\"The facotrial of\", num,\"is:\",factorial)"
   ]
  },
  {
   "cell_type": "markdown",
   "id": "85549b68-0821-4f88-84a8-4ed072e31ad1",
   "metadata": {},
   "source": [
    "2) Write a python program to find whether a number is prime or composite."
   ]
  },
  {
   "cell_type": "code",
   "execution_count": 15,
   "id": "d36022ed-80b6-4bc4-81a4-e764e4f8fbf9",
   "metadata": {},
   "outputs": [
    {
     "name": "stdin",
     "output_type": "stream",
     "text": [
      "Enter a number: 0\n"
     ]
    },
    {
     "name": "stdout",
     "output_type": "stream",
     "text": [
      "0 is neither prime nor composite number\n"
     ]
    }
   ],
   "source": [
    "num=int(input(\"Enter a number:\"))\n",
    "if num >1:\n",
    "    for i in range(2,num):\n",
    "        if (num % i)==0:\n",
    "            print(num,\"is not a prime number\")\n",
    "            break\n",
    "\n",
    "    else:\n",
    "        print(num,\"is a prime number\")\n",
    "\n",
    "elif num == 0 or 1:\n",
    "    print(num,\"is neither prime nor composite number\")\n",
    "\n",
    "else:\n",
    "    print(num,\"is a composite number\")\n",
    "    "
   ]
  },
  {
   "cell_type": "markdown",
   "id": "aef0a520-3394-4ee8-9e14-229c036e0786",
   "metadata": {},
   "source": [
    "3) Write a python program to check whether a given string is palindrome or not."
   ]
  },
  {
   "cell_type": "code",
   "execution_count": 18,
   "id": "7af10693-a9b1-4781-b933-5b1570c004d0",
   "metadata": {},
   "outputs": [
    {
     "name": "stdout",
     "output_type": "stream",
     "text": [
      "True\n"
     ]
    }
   ],
   "source": [
    "def palindrome(str):\n",
    "    return str == str[::-1]\n",
    "\n",
    "str=\"civic\"\n",
    "result=palindrome(str)\n",
    "\n",
    "if result:\n",
    "    print(\"True\")\n",
    "\n",
    "else:\n",
    "    print(\"False\")\n",
    "    "
   ]
  },
  {
   "cell_type": "markdown",
   "id": "f57a22f0-28ab-40f5-8864-7a82d5341455",
   "metadata": {},
   "source": [
    "4) Write a Python program to get the third side of right-angled triangle from two given sides."
   ]
  },
  {
   "cell_type": "code",
   "execution_count": 19,
   "id": "f1871834-6e8d-4b0b-a783-db86c45ed2c2",
   "metadata": {},
   "outputs": [
    {
     "name": "stdin",
     "output_type": "stream",
     "text": [
      "a: 2\n",
      "b: 4\n"
     ]
    },
    {
     "name": "stdout",
     "output_type": "stream",
     "text": [
      "The length of the hypotenuse is: 4.47213595499958\n"
     ]
    }
   ],
   "source": [
    "from math import sqrt\n",
    "a=float(input(\"a:\"))\n",
    "b=float(input(\"b:\"))\n",
    "c=sqrt(a**2+b**2)\n",
    "print(\"The length of the hypotenuse is:\",c)\n",
    "        "
   ]
  },
  {
   "cell_type": "markdown",
   "id": "b5379aed-1104-426c-a2b0-730a08ae7130",
   "metadata": {},
   "source": [
    "5) Write a python program to print the frequency of each of the characters present in a given string."
   ]
  },
  {
   "cell_type": "code",
   "execution_count": 21,
   "id": "1ac10cdb-cf64-4b1f-a0bb-a37be475fb16",
   "metadata": {},
   "outputs": [
    {
     "name": "stdout",
     "output_type": "stream",
     "text": [
      "{'f': 1, 'o': 2, 'd': 1, 'y': 1}\n"
     ]
    }
   ],
   "source": [
    "def freq(str):\n",
    "    dict={} # to store the frequencies\n",
    "    for i in str:\n",
    "        keys=dict.keys()\n",
    "        if i in keys:\n",
    "            dict[i] += 1\n",
    "\n",
    "        else:\n",
    "            dict[i]=1\n",
    "\n",
    "    return dict\n",
    "\n",
    "print(freq(\"foody\"))"
   ]
  },
  {
   "cell_type": "code",
   "execution_count": null,
   "id": "dfaa2b0c-9795-421c-a276-691b4a4574b1",
   "metadata": {},
   "outputs": [],
   "source": []
  }
 ],
 "metadata": {
  "kernelspec": {
   "display_name": "Python 3 (ipykernel)",
   "language": "python",
   "name": "python3"
  },
  "language_info": {
   "codemirror_mode": {
    "name": "ipython",
    "version": 3
   },
   "file_extension": ".py",
   "mimetype": "text/x-python",
   "name": "python",
   "nbconvert_exporter": "python",
   "pygments_lexer": "ipython3",
   "version": "3.11.5"
  }
 },
 "nbformat": 4,
 "nbformat_minor": 5
}
